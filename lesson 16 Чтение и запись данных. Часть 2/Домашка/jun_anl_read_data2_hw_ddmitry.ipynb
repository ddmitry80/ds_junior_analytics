{
 "cells": [
  {
   "cell_type": "markdown",
   "metadata": {},
   "source": [
    "# Чтение и запись данных. Часть 2\n",
    "\n",
    "## 1. Работа с базой данных из pandas\n"
   ]
  },
  {
   "cell_type": "markdown",
   "metadata": {},
   "source": [
    "### 1.1 \n",
    "\n",
    "Подготовка данных:"
   ]
  },
  {
   "cell_type": "code",
   "execution_count": 3,
   "metadata": {},
   "outputs": [
    {
     "name": "stdout",
     "output_type": "stream",
     "text": [
      "Какие таблицы содержатся в Postgres: [('keywords',), ('links',), ('ratings',), ('exploratory',), ('course_purchases',)]\n"
     ]
    },
    {
     "data": {
      "text/html": [
       "<div>\n",
       "<style scoped>\n",
       "    .dataframe tbody tr th:only-of-type {\n",
       "        vertical-align: middle;\n",
       "    }\n",
       "\n",
       "    .dataframe tbody tr th {\n",
       "        vertical-align: top;\n",
       "    }\n",
       "\n",
       "    .dataframe thead th {\n",
       "        text-align: right;\n",
       "    }\n",
       "</style>\n",
       "<table border=\"1\" class=\"dataframe\">\n",
       "  <thead>\n",
       "    <tr style=\"text-align: right;\">\n",
       "      <th></th>\n",
       "      <th>userid</th>\n",
       "      <th>movieid</th>\n",
       "      <th>rating</th>\n",
       "      <th>timestamp</th>\n",
       "    </tr>\n",
       "  </thead>\n",
       "  <tbody>\n",
       "    <tr>\n",
       "      <th>0</th>\n",
       "      <td>6854</td>\n",
       "      <td>832</td>\n",
       "      <td>5.0</td>\n",
       "      <td>857934552</td>\n",
       "    </tr>\n",
       "    <tr>\n",
       "      <th>1</th>\n",
       "      <td>6854</td>\n",
       "      <td>1356</td>\n",
       "      <td>5.0</td>\n",
       "      <td>857934470</td>\n",
       "    </tr>\n",
       "    <tr>\n",
       "      <th>2</th>\n",
       "      <td>6855</td>\n",
       "      <td>260</td>\n",
       "      <td>5.0</td>\n",
       "      <td>1048000350</td>\n",
       "    </tr>\n",
       "    <tr>\n",
       "      <th>3</th>\n",
       "      <td>6855</td>\n",
       "      <td>356</td>\n",
       "      <td>4.0</td>\n",
       "      <td>1047999391</td>\n",
       "    </tr>\n",
       "    <tr>\n",
       "      <th>4</th>\n",
       "      <td>6855</td>\n",
       "      <td>459</td>\n",
       "      <td>3.0</td>\n",
       "      <td>1047999486</td>\n",
       "    </tr>\n",
       "  </tbody>\n",
       "</table>\n",
       "</div>"
      ],
      "text/plain": [
       "   userid  movieid  rating   timestamp\n",
       "0    6854      832     5.0   857934552\n",
       "1    6854     1356     5.0   857934470\n",
       "2    6855      260     5.0  1048000350\n",
       "3    6855      356     4.0  1047999391\n",
       "4    6855      459     3.0  1047999486"
      ]
     },
     "execution_count": 3,
     "metadata": {},
     "output_type": "execute_result"
    }
   ],
   "source": [
    "import psycopg2\n",
    "import pandas as pd\n",
    "import sqlite3\n",
    "\n",
    "pg_connection = {\n",
    "    \"host\": \"dsstudents.skillbox.ru\",\n",
    "    \"port\": 5432,\n",
    "    \"dbname\": \"db_ds_students\",\n",
    "    \"user\": \"readonly\",\n",
    "    \"password\": \"6hajV34RTQfmxhS\"\n",
    "}\n",
    "conn = psycopg2.connect(**pg_connection)\n",
    "\n",
    "cursor = conn.cursor()\n",
    "\n",
    "# получаем имена таблиц из базы\n",
    "sql_str = \"SELECT table_name FROM information_schema.tables WHERE table_schema='public';\"\n",
    "cursor.execute(sql_str)\n",
    "tables_data = [a for a in cursor.fetchall()]\n",
    "conn.commit()\n",
    "\n",
    "print(\"Какие таблицы содержатся в Postgres: %s\" % tables_data)\n",
    "\n",
    "df = pd.read_sql_query(\"select * from public.ratings limit 5;\", conn)\n",
    "df.head()"
   ]
  },
  {
   "cell_type": "markdown",
   "metadata": {},
   "source": [
    "**Задание простого уровня** <br>Посчитайте количество записей в каждой из таблиц **keywords, links, ratings** и выведите в формате имя *таблицы:количество строк*\n",
    "\n",
    "*Результат работы:*\n",
    "<pre>\n",
    "table keywords:92838\n",
    "table links:91686\n",
    "table ratings:1555552\n",
    "</pre>"
   ]
  },
  {
   "cell_type": "code",
   "execution_count": 4,
   "metadata": {},
   "outputs": [
    {
     "name": "stdout",
     "output_type": "stream",
     "text": [
      "table keywords:92838\n",
      "table links:91686\n",
      "table ratings:1555552\n",
      "table exploratory:100\n",
      "table course_purchases:154\n"
     ]
    }
   ],
   "source": [
    "import psycopg2\n",
    "\n",
    "pg_connection = {\n",
    "    \"host\": \"dsstudents.skillbox.ru\",\n",
    "    \"port\": 5432,\n",
    "    \"dbname\": \"db_ds_students\",\n",
    "    \"user\": \"readonly\",\n",
    "    \"password\": \"6hajV34RTQfmxhS\"\n",
    "}\n",
    "conn = psycopg2.connect(**pg_connection)\n",
    "cursor = conn.cursor()\n",
    "\n",
    "table_names = [i[0] for i in tables_data]\n",
    "for table in table_names:\n",
    "        # -- ВАШ КОД ТУТ --\n",
    "        sql_str = \"SELECT count(*) FROM public.{} LIMIT 1;\".format(table)\n",
    "        cursor.execute(sql_str)\n",
    "        row_count = [a for a in cursor.fetchall()][0][0]\n",
    "        print(\"table {}:{}\".format(table, row_count))\n",
    "\n",
    "cursor.close()"
   ]
  },
  {
   "cell_type": "markdown",
   "metadata": {},
   "source": [
    "### 1.2\n",
    "\n",
    "**Задание среднего уровня** <br>Напечатайте колонки таблицы *ratings*. Подсказка: поисследуйте объект **cursor** с помощью встроенной в python команды *dir()*"
   ]
  },
  {
   "cell_type": "code",
   "execution_count": 5,
   "metadata": {},
   "outputs": [
    {
     "name": "stdout",
     "output_type": "stream",
     "text": [
      "['__class__', '__delattr__', '__dir__', '__doc__', '__enter__', '__eq__', '__exit__', '__format__', '__ge__', '__getattribute__', '__gt__', '__hash__', '__init__', '__init_subclass__', '__iter__', '__le__', '__lt__', '__ne__', '__new__', '__next__', '__reduce__', '__reduce_ex__', '__repr__', '__setattr__', '__sizeof__', '__str__', '__subclasshook__', 'arraysize', 'binary_types', 'callproc', 'cast', 'close', 'closed', 'connection', 'copy_expert', 'copy_from', 'copy_to', 'description', 'execute', 'executemany', 'fetchall', 'fetchmany', 'fetchone', 'itersize', 'lastrowid', 'mogrify', 'name', 'nextset', 'pgresult_ptr', 'query', 'row_factory', 'rowcount', 'rownumber', 'scroll', 'scrollable', 'setinputsizes', 'setoutputsize', 'statusmessage', 'string_types', 'typecaster', 'tzinfo_factory', 'withhold']\n",
      "Поля таблицы ratings: ['userid', 'movieid', 'rating', 'timestamp']\n"
     ]
    }
   ],
   "source": [
    "import psycopg2\n",
    "\n",
    "pg_connection = {\n",
    "    \"host\": \"dsstudents.skillbox.ru\",\n",
    "    \"port\": 5432,\n",
    "    \"dbname\": \"db_ds_students\",\n",
    "    \"user\": \"readonly\",\n",
    "    \"password\": \"6hajV34RTQfmxhS\"\n",
    "}\n",
    "conn = psycopg2.connect(**pg_connection)\n",
    "cursor = conn.cursor()\n",
    "\n",
    "sql_str = \"SELECT * FROM ratings LIMIT 10;\"\n",
    "cursor.execute(sql_str)\n",
    "conn.commit()\n",
    "\n",
    "print(dir(cursor))\n",
    "# print(cursor.description)\n",
    "\n",
    "# -- ВАШ КОД ТУТ --\n",
    "# table_rating_fields = []\n",
    "table_rating_fields = [i.name for i in cursor.description]\n",
    "print(\"Поля таблицы ratings: %s\" % table_rating_fields)\n",
    "\n",
    "cursor.close()"
   ]
  },
  {
   "cell_type": "markdown",
   "metadata": {},
   "source": [
    "### 1.3\n",
    "\n",
    "**Задание высокого уровня**\n",
    "* Посмотрите на столбцы таблицы **links** и столбцы таблицы **ratings** по какому полю можно заджойнить эти две таблицы\n",
    "* Посчитайте количество фильмов из links, у который нет оценок в ratings."
   ]
  },
  {
   "cell_type": "code",
   "execution_count": 6,
   "metadata": {},
   "outputs": [
    {
     "name": "stdout",
     "output_type": "stream",
     "text": [
      "Количество фильмов без рейтингов: 45843\n",
      "Таблицв links:\n",
      " ['movieid', 'imdbid', 'tmdbid']\n",
      "(1, '0114709', '862')\n",
      "(2, '0113497', '8844')\n",
      "(3, '0113228', '15602')\n",
      "(4, '0114885', '31357')\n",
      "(5, '0113041', '11862')\n",
      "Таблица ratings:\n",
      " ['userid', 'movieid', 'rating', 'timestamp']\n",
      "(6854, 832, 5.0, 857934552)\n",
      "(6854, 1356, 5.0, 857934470)\n",
      "(6855, 260, 5.0, 1048000350)\n",
      "(6855, 356, 4.0, 1047999391)\n",
      "(6855, 459, 3.0, 1047999486)\n",
      "Таблицв query:\n",
      " ['count']\n",
      "(45843,)\n",
      "Всего 45843 фильмов не имеют рейтинга\n"
     ]
    }
   ],
   "source": [
    "import psycopg2\n",
    "\n",
    "pg_connection = {\n",
    "    \"host\": \"dsstudents.skillbox.ru\",\n",
    "    \"port\": 5432,\n",
    "    \"dbname\": \"db_ds_students\",\n",
    "    \"user\": \"readonly\",\n",
    "    \"password\": \"6hajV34RTQfmxhS\"\n",
    "}\n",
    "conn = psycopg2.connect(**pg_connection)\n",
    "cursor = conn.cursor()\n",
    "\n",
    "\n",
    "# -- ВАШ КОД ТУТ --\n",
    "sql_str = \"\"\"\n",
    "    SELECT COUNT(DISTINCT links.movieId)\n",
    "    FROM links;\n",
    "\"\"\"\n",
    "\n",
    "cursor.execute(sql_str)\n",
    "row_count = [a for a in cursor.fetchall()][0][0]\n",
    "conn.commit()\n",
    "\n",
    "print(\"Количество фильмов без рейтингов: %s\" % row_count)\n",
    "\n",
    "sql_str = \"select * from links limit 5;\"\n",
    "cursor.execute(sql_str)\n",
    "print(\"Таблицв links:\\n %s\" % [i.name for i in cursor.description])\n",
    "for row in cursor: print(row)\n",
    "\n",
    "sql_str = \"select * from ratings limit 5;\"\n",
    "cursor.execute(sql_str)\n",
    "print(\"Таблица ratings:\\n %s\" % [i.name for i in cursor.description])\n",
    "for row in cursor: print(row)\n",
    "\n",
    "sql_str = \"\"\"\n",
    "SELECT count(*)\n",
    "FROM   (SELECT count(ratings.movieid) as links_count\n",
    "        FROM links\n",
    "        LEFT JOIN ratings ON links.movieid = ratings.movieid\n",
    "        GROUP BY links.movieid\n",
    "        ORDER BY links_count\n",
    "        ) AS links_count;\n",
    "    \"\"\"\n",
    "cursor.execute(sql_str)\n",
    "print(\"Таблицв query:\\n %s\" % [i.name for i in cursor.description])\n",
    "for row in cursor: print(row)    \n",
    "print(f'Всего {row[0]} фильмов не имеют рейтинга')\n",
    "    \n",
    "cursor.close()"
   ]
  },
  {
   "cell_type": "markdown",
   "metadata": {},
   "source": [
    "## 2. Работа с БД: MongoDB\n",
    "\n",
    "### 2.1\n",
    "\n",
    "Подготовка данных"
   ]
  },
  {
   "cell_type": "code",
   "execution_count": 8,
   "metadata": {},
   "outputs": [
    {
     "name": "stdout",
     "output_type": "stream",
     "text": [
      "Коллекции, доступные в MongoDB: ['tags', 'users']\n",
      "Число документов в коллекции 158680\n"
     ]
    }
   ],
   "source": [
    "from pymongo import MongoClient\n",
    "\n",
    "mongo_connection = {\n",
    "    \"host\": \"dsstudents.skillbox.ru\",\n",
    "    \"port\": 27017,\n",
    "    \"user\": \"students\",\n",
    "    \"password\": \"X63673t47Gl03Sq\",\n",
    "    \"authSource\": \"movies\"\n",
    "}\n",
    "\n",
    "mongo = MongoClient('mongodb://%s:%s@%s:%s/?authSource=%s' % (\n",
    "    mongo_connection['user'], mongo_connection['password'],\n",
    "    mongo_connection['host'], mongo_connection['port'], mongo_connection['authSource'])\n",
    ")\n",
    "db = mongo[\"movies\"]\n",
    "\n",
    "print(\"Коллекции, доступные в MongoDB: %s\" % db.list_collection_names())\n",
    "\n",
    "collection = db['tags']\n",
    "print(\"Число документов в коллекции %s\" % collection.estimated_document_count())"
   ]
  },
  {
   "cell_type": "markdown",
   "metadata": {},
   "source": [
    "**Задание простого уровня** <br>Посчитайте количество контента, у которого встречается тэг \"toy\"\n",
    "\n",
    "* сделайте выборку такого контента (а точнее - поля `id`) в питоновский `list`\n",
    "* подсчитайте количество элементов в `list`"
   ]
  },
  {
   "cell_type": "code",
   "execution_count": 9,
   "metadata": {},
   "outputs": [
    {
     "name": "stdout",
     "output_type": "stream",
     "text": [
      "[4290, 4290, 4290, 4290, 4290, 4290, 4290, 4290, 4290, 4290, 4290, 4290, 4290, 4290, 4290, 4290, 4290, 4290, 4290]\n",
      "Количество контента с тэгом 'toy': 19\n",
      "\n"
     ]
    }
   ],
   "source": [
    "selector = {'name': 'toy'}\n",
    "exclude_id = {'_id': False}\n",
    "\n",
    "mongo_cursor = collection.find(projection=exclude_id, filter={'name': 'toy'})\n",
    "\n",
    "# -- ВАШ КОД ТУТ --\n",
    "# print(type(mongo_cursor), [item for item in mongo_cursor])\n",
    "# cursor_items = set([])\n",
    "cursor_items = []\n",
    "for item in mongo_cursor:\n",
    "    cursor_items.append(item['id'])\n",
    "#     print(item)\n",
    "print(cursor_items)\n",
    "print(\"Количество контента с тэгом 'toy': %s\\n\" % len(cursor_items))"
   ]
  },
  {
   "cell_type": "markdown",
   "metadata": {},
   "source": [
    "### 2.2\n",
    "\n",
    "**Задание среднего уровня** <br> Выведите **только названия** 10 самых непопулярных тэгов <br>\n",
    "\n",
    "Подсказка: посмотрите в уроке, как MongoDB позволяет также выполнять сложные агрегирующие запросы средствами СУБД\n",
    "\n",
    "*Результат работы*\n",
    "<pre>\n",
    "Счётчик тэгов ['ancient tablet', 'remains', 'robespierre', 'social scandal', 'brain implant', 'adam west', 'arm cast', 'acab', 'gas explosion', 'female psychologist']\n",
    "</pre>"
   ]
  },
  {
   "cell_type": "code",
   "execution_count": null,
   "metadata": {},
   "outputs": [],
   "source": [
    "# -- ВАШ КОД ТУТ --\n",
    "collection = db['tags']\n",
    "\n",
    "pipline = [\n",
    "    {\"$group\":\n",
    "        {\"_id\": \"$name\",\n",
    "         \"tag_count\":\n",
    "            {\"$sum\": 1}\n",
    "         }\n",
    "     },\n",
    "    {\"$sort\":\n",
    "        {\"tag_count\": 1}\n",
    "     },\n",
    "    {\"$limit\": 10}\n",
    "]\n",
    "\n",
    "print([i['_id'] for i in collection.aggregate(pipline)])"
   ]
  },
  {
   "cell_type": "markdown",
   "metadata": {},
   "source": [
    "\n",
    "### 2.3\n",
    "\n",
    "**Задание высокого уровня**\n",
    "\n",
    "1. Подключитесь к Postgres. Найдите top-10 самого популярного контента\n",
    "1. Сохраните в файл `content_popularity.json` в виде\n",
    "<pre>\n",
    "{'movieId': 931, 'popularity': 999}\n",
    "{'movieId': 429, 'popularity': 111}\n",
    "</pre>\n",
    "\n",
    "Этот формат называется single-line json и его можно загрузить в MongoDB с помощью команды\n",
    "<pre>\n",
    "mongoimport --host $APP_MONGO_HOST --port $APP_MONGO_PORT --db movies --collection tags --file content_popularity.json\n",
    "</pre>\n",
    "\n",
    "**ВНИМАНИЕ!** Это просто пример как можно использовать single-line JSON, заливать его никуда не нужно - в задаче требуется только подготовить файл в правильном виде\n",
    "\n",
    "*Подсказка* воспользуйтесь функцией `json.dumps`\n",
    "\n",
    "*Результат работы* - файл `content_popularity.json`:\n",
    "\n",
    "<pre>\n",
    "{\"movieId\": 318, \"popularity\": 5626}\n",
    "{\"movieId\": 356, \"popularity\": 5464}\n",
    "{\"movieId\": 296, \"popularity\": 5242}\n",
    "{\"movieId\": 593, \"popularity\": 5048}\n",
    "{\"movieId\": 2571, \"popularity\": 4718}\n",
    "{\"movieId\": 260, \"popularity\": 4556}\n",
    "{\"movieId\": 480, \"popularity\": 4540}\n",
    "{\"movieId\": 527, \"popularity\": 4120}\n",
    "{\"movieId\": 1, \"popularity\": 4072}\n",
    "{\"movieId\": 110, \"popularity\": 3928}\n",
    "</pre>"
   ]
  },
  {
   "cell_type": "code",
   "execution_count": null,
   "metadata": {},
   "outputs": [],
   "source": [
    "mkdir compute"
   ]
  },
  {
   "cell_type": "code",
   "execution_count": null,
   "metadata": {},
   "outputs": [],
   "source": [
    "# -- ВАШ КОД ТУТ --\n",
    "import json\n",
    "import psycopg2\n",
    "\n",
    "pg_connection = {\n",
    "    \"host\": \"dsstudents.skillbox.ru\",\n",
    "    \"port\": 5432,\n",
    "    \"dbname\": \"db_ds_students\",\n",
    "    \"user\": \"readonly\",\n",
    "    \"password\": \"6hajV34RTQfmxhS\"\n",
    "}\n",
    "conn = psycopg2.connect(**pg_connection)\n",
    "cursor = conn.cursor()\n",
    "\n",
    "sql_str = \"\"\"\n",
    "    SELECT movieid AS movieId, COUNT(movieid) AS popularity\n",
    "    FROM ratings\n",
    "    GROUP BY movieId\n",
    "    ORDER BY popularity DESC\n",
    "    LIMIT 10;\n",
    "\"\"\"\n",
    "cursor.execute(sql_str)\n",
    "\n",
    "with open(\"compute/content_popularity.json\", \"w\") as json_file:\n",
    "    for row in cursor:\n",
    "        str = '{' + f'\"movieId\": {row[0]}, \"popularity\": {row[1]}' + '}\\n'\n",
    "        # print(str, end='')\n",
    "        str_json = {cursor.description[0].name: row[0], cursor.description[1].name: row[1]}\n",
    "        print(str_json)\n",
    "        json_file.write(json.dumps(str_json)+'\\n')\n",
    "    \n",
    "cursor.close()"
   ]
  },
  {
   "cell_type": "code",
   "execution_count": null,
   "metadata": {},
   "outputs": [],
   "source": [
    "cat \"compute/content_popularity.json\""
   ]
  },
  {
   "cell_type": "code",
   "execution_count": null,
   "metadata": {},
   "outputs": [],
   "source": []
  }
 ],
 "metadata": {
  "kernelspec": {
   "display_name": "Python 3",
   "language": "python",
   "name": "python3"
  },
  "language_info": {
   "codemirror_mode": {
    "name": "ipython",
    "version": 3
   },
   "file_extension": ".py",
   "mimetype": "text/x-python",
   "name": "python",
   "nbconvert_exporter": "python",
   "pygments_lexer": "ipython3",
   "version": "3.7.6"
  }
 },
 "nbformat": 4,
 "nbformat_minor": 4
}
