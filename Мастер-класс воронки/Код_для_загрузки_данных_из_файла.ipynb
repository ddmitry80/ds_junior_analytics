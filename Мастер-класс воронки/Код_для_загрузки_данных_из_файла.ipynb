{
 "cells": [
  {
   "cell_type": "code",
   "execution_count": 26,
   "metadata": {
    "colab": {},
    "colab_type": "code",
    "id": "uBCo6ukdfrIs"
   },
   "outputs": [
    {
     "name": "stdout",
     "output_type": "stream",
     "text": [
      "142081 0 0 0\n"
     ]
    }
   ],
   "source": [
    "import csv\n",
    "\n",
    "# name.csv ниже нужно заменить на название csv файла, который вы хотите открыть\n",
    "\n",
    "with open('click_stream.csv', mode='r') as csv_file: # открываем файл\n",
    "    csv_reader = csv.DictReader(csv_file) # читаем файл\n",
    "    \n",
    "    i=0\n",
    "    c1=0; c2=0; c3=0; c4=0\n",
    "    for row in csv_reader:\n",
    "#         print(row)\n",
    "        i += 1\n",
    "#         print(list(row)[1][0])\n",
    "        ty = list(row)[1]\n",
    "        if ty[0]=='1':\n",
    "            c1 += 1\n",
    "        elif ty[0]=='2':\n",
    "            c2 += 1\n",
    "        elif ty[0]=='3':\n",
    "            c3 += 1\n",
    "        elif ty[0]=='4':\n",
    "            c4 += 1\n",
    "#         if i==10:\n",
    "#             break\n",
    "print(c1, c2, c3, c4)"
   ]
  },
  {
   "cell_type": "code",
   "execution_count": null,
   "metadata": {},
   "outputs": [],
   "source": []
  },
  {
   "cell_type": "code",
   "execution_count": null,
   "metadata": {},
   "outputs": [],
   "source": []
  }
 ],
 "metadata": {
  "colab": {
   "collapsed_sections": [],
   "name": "Код для загрузки данных из файла.ipynb",
   "private_outputs": true,
   "provenance": []
  },
  "kernelspec": {
   "display_name": "Python 3",
   "language": "python",
   "name": "python3"
  },
  "language_info": {
   "codemirror_mode": {
    "name": "ipython",
    "version": 3
   },
   "file_extension": ".py",
   "mimetype": "text/x-python",
   "name": "python",
   "nbconvert_exporter": "python",
   "pygments_lexer": "ipython3",
   "version": "3.7.7"
  }
 },
 "nbformat": 4,
 "nbformat_minor": 4
}
