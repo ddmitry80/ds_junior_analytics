{
 "cells": [
  {
   "cell_type": "code",
   "execution_count": 37,
   "metadata": {
    "colab": {},
    "colab_type": "code",
    "id": "uBCo6ukdfrIs"
   },
   "outputs": [
    {
     "name": "stdout",
     "output_type": "stream",
     "text": [
      "90399 45200 6030 452\n"
     ]
    }
   ],
   "source": [
    "import csv\n",
    "\n",
    "# name.csv ниже нужно заменить на название csv файла, который вы хотите открыть\n",
    "\n",
    "with open('click_stream.csv', mode='r') as csv_file: # открываем файл\n",
    "    csv_reader = csv.DictReader(csv_file) # читаем файл\n",
    "    \n",
    "    i=0 # счетчик для отладки\n",
    "    c1=0; c2=0; c3=0; c4=0\n",
    "    for row in csv_reader:\n",
    "        i += 1\n",
    "        ty = row['1_home_page']\n",
    "        if ty[0]=='1':\n",
    "            c1 += 1\n",
    "        elif ty[0]=='2':\n",
    "            c2 += 1\n",
    "        elif ty[0]=='3':\n",
    "            c3 += 1\n",
    "        elif ty[0]=='4':\n",
    "            c4 += 1\n",
    "#         if i==10:\n",
    "#             break\n",
    "\n",
    "print(c1, c2, c3, c4)"
   ]
  },
  {
   "cell_type": "code",
   "execution_count": 68,
   "metadata": {},
   "outputs": [
    {
     "data": {
      "text/html": [
       "<div>\n",
       "<style scoped>\n",
       "    .dataframe tbody tr th:only-of-type {\n",
       "        vertical-align: middle;\n",
       "    }\n",
       "\n",
       "    .dataframe tbody tr th {\n",
       "        vertical-align: top;\n",
       "    }\n",
       "\n",
       "    .dataframe thead th {\n",
       "        text-align: right;\n",
       "    }\n",
       "</style>\n",
       "<table border=\"1\" class=\"dataframe\">\n",
       "  <thead>\n",
       "    <tr style=\"text-align: right;\">\n",
       "      <th></th>\n",
       "      <th>user_id</th>\n",
       "      <th>page</th>\n",
       "      <th>event_date</th>\n",
       "    </tr>\n",
       "  </thead>\n",
       "  <tbody>\n",
       "    <tr>\n",
       "      <th>0</th>\n",
       "      <td>313593</td>\n",
       "      <td>1_home_page</td>\n",
       "      <td>2015-02-26</td>\n",
       "    </tr>\n",
       "    <tr>\n",
       "      <th>1</th>\n",
       "      <td>468315</td>\n",
       "      <td>1_home_page</td>\n",
       "      <td>2015-02-21</td>\n",
       "    </tr>\n",
       "    <tr>\n",
       "      <th>2</th>\n",
       "      <td>264005</td>\n",
       "      <td>1_home_page</td>\n",
       "      <td>2015-03-25</td>\n",
       "    </tr>\n",
       "    <tr>\n",
       "      <th>3</th>\n",
       "      <td>290784</td>\n",
       "      <td>1_home_page</td>\n",
       "      <td>2015-03-14</td>\n",
       "    </tr>\n",
       "    <tr>\n",
       "      <th>4</th>\n",
       "      <td>639104</td>\n",
       "      <td>1_home_page</td>\n",
       "      <td>2015-01-03</td>\n",
       "    </tr>\n",
       "    <tr>\n",
       "      <th>...</th>\n",
       "      <td>...</td>\n",
       "      <td>...</td>\n",
       "      <td>...</td>\n",
       "    </tr>\n",
       "    <tr>\n",
       "      <th>142077</th>\n",
       "      <td>397473</td>\n",
       "      <td>4_payment_confirmation_page</td>\n",
       "      <td>2015-01-12</td>\n",
       "    </tr>\n",
       "    <tr>\n",
       "      <th>142078</th>\n",
       "      <td>860829</td>\n",
       "      <td>4_payment_confirmation_page</td>\n",
       "      <td>2015-02-07</td>\n",
       "    </tr>\n",
       "    <tr>\n",
       "      <th>142079</th>\n",
       "      <td>371291</td>\n",
       "      <td>4_payment_confirmation_page</td>\n",
       "      <td>2015-02-17</td>\n",
       "    </tr>\n",
       "    <tr>\n",
       "      <th>142080</th>\n",
       "      <td>263707</td>\n",
       "      <td>4_payment_confirmation_page</td>\n",
       "      <td>2015-03-20</td>\n",
       "    </tr>\n",
       "    <tr>\n",
       "      <th>142081</th>\n",
       "      <td>892101</td>\n",
       "      <td>4_payment_confirmation_page</td>\n",
       "      <td>2015-01-06</td>\n",
       "    </tr>\n",
       "  </tbody>\n",
       "</table>\n",
       "<p>142082 rows × 3 columns</p>\n",
       "</div>"
      ],
      "text/plain": [
       "        user_id                         page  event_date\n",
       "0        313593                  1_home_page  2015-02-26\n",
       "1        468315                  1_home_page  2015-02-21\n",
       "2        264005                  1_home_page  2015-03-25\n",
       "3        290784                  1_home_page  2015-03-14\n",
       "4        639104                  1_home_page  2015-01-03\n",
       "...         ...                          ...         ...\n",
       "142077   397473  4_payment_confirmation_page  2015-01-12\n",
       "142078   860829  4_payment_confirmation_page  2015-02-07\n",
       "142079   371291  4_payment_confirmation_page  2015-02-17\n",
       "142080   263707  4_payment_confirmation_page  2015-03-20\n",
       "142081   892101  4_payment_confirmation_page  2015-01-06\n",
       "\n",
       "[142082 rows x 3 columns]"
      ]
     },
     "execution_count": 68,
     "metadata": {},
     "output_type": "execute_result"
    }
   ],
   "source": [
    "# а теперь используем более подходящие инструменты\n",
    "import pandas as pd\n",
    "\n",
    "csv_data = pd.read_csv('click_stream.csv', names=['user_id', 'page', 'event_date'], parse_dates=True)\n",
    "csv_data"
   ]
  },
  {
   "cell_type": "code",
   "execution_count": 69,
   "metadata": {},
   "outputs": [
    {
     "data": {
      "text/plain": [
       "page\n",
       "1_home_page                    90400\n",
       "2_search_page                  45200\n",
       "3_payment_page                  6030\n",
       "4_payment_confirmation_page      452\n",
       "Name: user_id, dtype: int64"
      ]
     },
     "execution_count": 69,
     "metadata": {},
     "output_type": "execute_result"
    }
   ],
   "source": [
    "result = csv_data.groupby('page')['user_id'].count()\n",
    "result"
   ]
  },
  {
   "cell_type": "code",
   "execution_count": 64,
   "metadata": {},
   "outputs": [
    {
     "name": "stdout",
     "output_type": "stream",
     "text": [
      "В итоге сделали заказ, из числа первоначальных посетителей: 0.5%\n"
     ]
    }
   ],
   "source": [
    "print(f'В итоге сделали заказ, из числа первоначальных посетителей: {round(result[3]/result[0]*100, 2)}%')"
   ]
  },
  {
   "cell_type": "code",
   "execution_count": 70,
   "metadata": {},
   "outputs": [
    {
     "data": {
      "image/png": "[encoded data removed]",
      "text/plain": [
       "<Figure size 432x288 with 1 Axes>"
      ]
     },
     "metadata": {
      "needs_background": "light"
     },
     "output_type": "display_data"
    }
   ],
   "source": [
    "result.plot.barh(title='Воронка продаж');"
   ]
  },
  {
   "cell_type": "code",
   "execution_count": null,
   "metadata": {},
   "outputs": [],
   "source": []
  }
 ],
 "metadata": {
  "colab": {
   "collapsed_sections": [],
   "name": "Код для загрузки данных из файла.ipynb",
   "private_outputs": true,
   "provenance": []
  },
  "kernelspec": {
   "display_name": "Python 3",
   "language": "python",
   "name": "python3"
  },
  "language_info": {
   "codemirror_mode": {
    "name": "ipython",
    "version": 3
   },
   "file_extension": ".py",
   "mimetype": "text/x-python",
   "name": "python",
   "nbconvert_exporter": "python",
   "pygments_lexer": "ipython3",
   "version": "3.7.7"
  }
 },
 "nbformat": 4,
 "nbformat_minor": 4
}
