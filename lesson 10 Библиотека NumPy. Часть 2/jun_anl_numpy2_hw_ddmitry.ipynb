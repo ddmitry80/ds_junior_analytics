{
 "cells": [
  {
   "cell_type": "markdown",
   "metadata": {},
   "source": [
    "# Библиотека `NumPy`: часть 2\n",
    "\n",
    "*Алла Тамбовцева*\n",
    "\n",
    "## Домашнее задание \n",
    "\n",
    "### Описание домашнего задания и формат сдачи\n",
    "\n",
    "В домашнем задании необходимо решить предложенные задачи по программированию – вписать свой код в ячейки после условий задач вместо комментария `### YOUR CODE HERE ###` в файле *homework-numpy2.ipynb* и сохранить изменения, используя опцию *Save and Checkpoint* из вкладки меню *File* или кнопку *Save and Checkpoint* на панели инструментов. Итоговый файл в формате `.ipynb` (файл Jupyter Notebook) необходимо загрузить в личный кабинет обучающей онлайн платформы Skillbox (https://go.skillbox.ru/) и отправить на проверку."
   ]
  },
  {
   "cell_type": "markdown",
   "metadata": {},
   "source": [
    "### Задание 1\n",
    "Загрузить из файла `array_hw.npy` массив и сохранить его как `arr`. Массив содержит объёмы продаж мороженого (в штуках) в 5 магазинах за одну неделю в июне (7 дней, с понедельника до воскресенья). В заданиях 2-5 нужно работать с массивом `arr`."
   ]
  },
  {
   "cell_type": "code",
   "execution_count": 8,
   "metadata": {},
   "outputs": [
    {
     "data": {
      "text/plain": [
       "array([[100,  80,  70,  60, 120],\n",
       "       [ 65,  55,  20,  50,  60],\n",
       "       [ 80,  90,  75,  80,  60],\n",
       "       [ 45,  60,  70,  20,  40],\n",
       "       [ 82,  47,  56,  89,  92],\n",
       "       [115, 120, 113, 106, 107],\n",
       "       [ 46,  74,  23,  34,  19]], dtype=int64)"
      ]
     },
     "execution_count": 8,
     "metadata": {},
     "output_type": "execute_result"
    }
   ],
   "source": [
    "### YOUR CODE HERE ###\n",
    "import numpy as np\n",
    "arr = np.load('array_hw.npy')\n",
    "arr"
   ]
  },
  {
   "cell_type": "markdown",
   "metadata": {},
   "source": [
    "### Задание 2\n",
    "Если думать о массиве `arr` как о таблице, сейчас в таблице магазины идут по столбцам (1 магазин = 1 столбец, всего 5), а дни – по строкам (1 день = 1 строка, всего 7). Преобразовать массив `arr` таким образом, чтобы по строкам шли магазины, а по столбцам – дни (1 строка = 1 магазин). Сохранить изменения. Проверить, что форма массива изменилась."
   ]
  },
  {
   "cell_type": "code",
   "execution_count": 9,
   "metadata": {},
   "outputs": [
    {
     "data": {
      "text/plain": [
       "array([[100,  65,  80,  45,  82, 115,  46],\n",
       "       [ 80,  55,  90,  60,  47, 120,  74],\n",
       "       [ 70,  20,  75,  70,  56, 113,  23],\n",
       "       [ 60,  50,  80,  20,  89, 106,  34],\n",
       "       [120,  60,  60,  40,  92, 107,  19]], dtype=int64)"
      ]
     },
     "execution_count": 9,
     "metadata": {},
     "output_type": "execute_result"
    }
   ],
   "source": [
    "### YOUR CODE HERE ###\n",
    "arr = arr.transpose()\n",
    "arr"
   ]
  },
  {
   "cell_type": "markdown",
   "metadata": {},
   "source": [
    "### Задание 3\n",
    "\n",
    "Давайте представим, что информация по продажам обновилась: оказалось, что пятый магазин в воскресенье продал не 19 порций мороженого, а 25, и второй магазин продал во вторник не 55 порций, а 65. Изменить массив `arr` в соответствии с этой информацией."
   ]
  },
  {
   "cell_type": "code",
   "execution_count": 11,
   "metadata": {},
   "outputs": [
    {
     "data": {
      "text/plain": [
       "array([[100,  65,  80,  45,  82, 115,  46],\n",
       "       [ 80,  65,  90,  60,  47, 120,  74],\n",
       "       [ 70,  20,  75,  70,  56, 113,  23],\n",
       "       [ 60,  50,  80,  20,  89, 106,  34],\n",
       "       [120,  60,  60,  40,  92, 107,  25]], dtype=int64)"
      ]
     },
     "execution_count": 11,
     "metadata": {},
     "output_type": "execute_result"
    }
   ],
   "source": [
    "### YOUR CODE HERE ###\n",
    "arr[4, 6] = 25\n",
    "arr[1, 1] = 65\n",
    "arr"
   ]
  },
  {
   "cell_type": "markdown",
   "metadata": {},
   "source": [
    "### Задание 4\n",
    "\n",
    "Посчитать суммарный объём продаж мороженого по всем магазинам."
   ]
  },
  {
   "cell_type": "code",
   "execution_count": 13,
   "metadata": {},
   "outputs": [
    {
     "name": "stdout",
     "output_type": "stream",
     "text": [
      "Продажи по магазину 0 составляют 533\n",
      "Продажи по магазину 1 составляют 536\n",
      "Продажи по магазину 2 составляют 427\n",
      "Продажи по магазину 3 составляют 439\n",
      "Продажи по магазину 4 составляют 504\n"
     ]
    }
   ],
   "source": [
    "### YOUR CODE HERE ###\n",
    "for i in range(0, arr.shape[0]):\n",
    "    ar1 = arr[i]\n",
    "    print('Продажи по магазину', i, 'составляют', ar1.sum())\n",
    "    "
   ]
  },
  {
   "cell_type": "markdown",
   "metadata": {},
   "source": [
    "### Задание 5\n",
    "\n",
    "Выгрузить обновлённый массив `arr` в txt-файл. Сам txt-файл загружать в систему не нужно, только написать соответствующий код в ipynb-файл."
   ]
  },
  {
   "cell_type": "code",
   "execution_count": 15,
   "metadata": {},
   "outputs": [],
   "source": [
    "### YOUR CODE HERE ###\n",
    "np.savetxt('array_hw.txt', arr)"
   ]
  },
  {
   "cell_type": "markdown",
   "metadata": {},
   "source": [
    "### Задание 6\n",
    "Дан массив `income`, содержащий значения прибыли магазина в тысячах на начало, середину и конец года, за четыре года подряд (значения никак не сгруппированы, можно считать, что они так выгрузились из файла). \n",
    "Изменить форму массива так, чтобы значения были сгруппированы по три значения в каждом списке внутри массива (прибыль на начало, середину и конец года)."
   ]
  },
  {
   "cell_type": "code",
   "execution_count": 12,
   "metadata": {},
   "outputs": [],
   "source": [
    "# массив\n",
    "income = np.array([1000, 2000, 3500, \n",
    "                   2500, 1500, 3800, \n",
    "                   1200, 9000, 12000,\n",
    "                   4500, 6700, 11000])"
   ]
  },
  {
   "cell_type": "code",
   "execution_count": null,
   "metadata": {},
   "outputs": [],
   "source": [
    "### YOUR CODE HERE ###"
   ]
  },
  {
   "cell_type": "markdown",
   "metadata": {},
   "source": [
    "### Задание 7\n",
    "Создать список `turnout` (*list*, не массив), содержащий следующие значения явки на избирательные участки в процентах:\n",
    "\n",
    "23.56, 45.78, 34.92, 57.34, 56.55, 67.23.\n",
    "\n",
    "Создать, используя списковые включения и встроенные, не из `NumPy`, функции для округления, новый список `turnout_r`, который состоит из округлённых до первого знака после запятой значений явки из `turnout`."
   ]
  },
  {
   "cell_type": "code",
   "execution_count": 20,
   "metadata": {},
   "outputs": [
    {
     "data": {
      "text/plain": [
       "[23.6, 45.8, 34.9, 57.3, 56.5, 67.2]"
      ]
     },
     "execution_count": 20,
     "metadata": {},
     "output_type": "execute_result"
    }
   ],
   "source": [
    "### YOUR CODE HERE ###\n",
    "turnout = [23.56, 45.78, 34.92, 57.34, 56.55, 67.23]\n",
    "turnout_r = [round(i ,1) for i in turnout ]\n",
    "turnout_r"
   ]
  },
  {
   "cell_type": "markdown",
   "metadata": {},
   "source": [
    "### Задание 8\n",
    "Выполнить те же операции, что и в предыдущей задаче, но с использованием массивов и функций `NumPy`. Другими словами, создать массив `turnout` и на его основе создать массив `turnout_r` с округлёнными до первого знака значениями явки."
   ]
  },
  {
   "cell_type": "code",
   "execution_count": 22,
   "metadata": {},
   "outputs": [
    {
     "data": {
      "text/plain": [
       "array([23.6, 45.8, 34.9, 57.3, 56.6, 67.2])"
      ]
     },
     "execution_count": 22,
     "metadata": {},
     "output_type": "execute_result"
    }
   ],
   "source": [
    "### YOUR CODE HERE ###\n",
    "turnout = np.array([23.56, 45.78, 34.92, 57.34, 56.55, 67.23])\n",
    "turnout_r = turnout.round(1)\n",
    "turnout_r"
   ]
  },
  {
   "cell_type": "markdown",
   "metadata": {},
   "source": [
    "### Задание 9\n",
    "\n",
    "Зайдите на [страницу](https://ru.wikipedia.org/wiki/%D0%9C%D0%B5%D0%B6%D0%B4%D1%83%D0%BD%D0%B0%D1%80%D0%BE%D0%B4%D0%BD%D1%8B%D0%B9_%D0%B8%D0%BD%D0%B4%D0%B5%D0%BA%D1%81_%D1%81%D1%87%D0%B0%D1%81%D1%82%D1%8C%D1%8F) Википедии, посвящённую Международному индексу счастья, выберите из таблицы **2012 Международный индекс счастья** любые 5 стран и любые 3 показателя и создайте структурированный массив `happy`, такой, в котором есть поле «название страны» и поля для трёх выбранных показателей. Выберите подходящий тип для каждого поля (показателя) в массиве и учтите это при создание структурированного массива. Выведите полученный массив на экран."
   ]
  },
  {
   "cell_type": "code",
   "execution_count": 25,
   "metadata": {},
   "outputs": [
    {
     "data": {
      "text/plain": [
       "array([('Венесуэла', 56.9, 7.5, 74.4), ('Куба', 56.2, 5.4, 79.1),\n",
       "       ('Израиль', 55.2, 7.4, 81.6), ('Норвегия', 51.4, 7.6, 81.1),\n",
       "       ('Сирия', 47.1, 4.1, 75.9)],\n",
       "      dtype=[('Country', '<U10'), ('HPI', '<f8'), ('Satisfaction', '<f8'), ('Life_expectancy', '<f8')])"
      ]
     },
     "execution_count": 25,
     "metadata": {},
     "output_type": "execute_result"
    }
   ],
   "source": [
    "### YOUR CODE HERE ###\n",
    "happy = np.array([('Венесуэла', 56.9, 7.5, 74.4), \n",
    "                  ('Куба', 56.2, 5.4, 79.1),\n",
    "                  ('Израиль', 55.2, 7.4, 81.6),\n",
    "                  ('Норвегия', 51.4, 7.6, 81.1),\n",
    "                  ('Сирия', 47.1, 4.1, 75.9)], \n",
    "                 dtype = [('Country', 'U10'),\n",
    "                          ('HPI', float),\n",
    "                          ('Satisfaction', float),\n",
    "                          ('Life_expectancy', float)])\n",
    "happy"
   ]
  },
  {
   "cell_type": "markdown",
   "metadata": {},
   "source": [
    "### Задание 10\n",
    "Сконвертируйте полученный в предыдущей задаче структурированный массив в обычный список и выведите на экран его второй элемент."
   ]
  },
  {
   "cell_type": "code",
   "execution_count": 28,
   "metadata": {},
   "outputs": [
    {
     "data": {
      "text/plain": [
       "[('Венесуэла', 56.9, 7.5, 74.4),\n",
       " ('Куба', 56.2, 5.4, 79.1),\n",
       " ('Израиль', 55.2, 7.4, 81.6),\n",
       " ('Норвегия', 51.4, 7.6, 81.1),\n",
       " ('Сирия', 47.1, 4.1, 75.9)]"
      ]
     },
     "execution_count": 28,
     "metadata": {},
     "output_type": "execute_result"
    }
   ],
   "source": [
    "### YOUR CODE HERE ###\n",
    "happy_list = happy.tolist()\n",
    "happy_list"
   ]
  },
  {
   "cell_type": "markdown",
   "metadata": {},
   "source": [
    ".<br> .<br> .<br> .<br> .<br> .<br> .<br> .<br> .<br> .<br> .<br> .<br> .<br> .<br> .<br> .<br> .<br> .<br> \n",
    "# Дополнительное (необязательное) задание.\n",
    "<br>"
   ]
  },
  {
   "cell_type": "markdown",
   "metadata": {
    "colab_type": "text",
    "id": "uplaYklo0zrv"
   },
   "source": [
    "### Задание 1\n",
    "\n",
    "Написать функцию `build_array()`, которая принимает на вход размерность квадратной матрицы (двумерного массива, в котором число строк и число столбцов совпадают) и создаёт единичную матрицу `E` (массив) соответствующей размерности. Использовать готовую функцию `np.eye()` нельзя, можно использовать циклы и условные конструкции.\n",
    "\n",
    "**Пример:**\n",
    "\n",
    "Ввод:\n",
    "\n",
    "    build_array(4)\n",
    "\n",
    "Вывод:\n",
    "\n",
    "    array([[1., 0., 0., 0.],\n",
    "       [0., 1., 0., 0.],\n",
    "       [0., 0., 1., 0.],\n",
    "       [0., 0., 0., 1.]])\n",
    "       \n",
    "**Подсказка:** про циклы, условные конструкции, функции и двумерные массивы можно почитать в соответствующих разделах pythontutor.ru: [цикл for](http://pythontutor.ru/lessons/for_loop/), [условия](http://pythontutor.ru/lessons/ifelse/), [функции](http://pythontutor.ru/lessons/functions/) и [массивы](http://pythontutor.ru/lessons/2d_arrays/)."
   ]
  },
  {
   "cell_type": "code",
   "execution_count": 29,
   "metadata": {
    "colab": {},
    "colab_type": "code",
    "id": "saSGBa2N0zrw"
   },
   "outputs": [
    {
     "name": "stdout",
     "output_type": "stream",
     "text": [
      "[[1 0 0 0 0]\n",
      " [0 1 0 0 0]\n",
      " [0 0 1 0 0]\n",
      " [0 0 0 1 0]\n",
      " [0 0 0 0 1]]\n"
     ]
    }
   ],
   "source": [
    "### YOUR CODE HERE ###\n",
    "import numpy as np\n",
    "\n",
    "def build_array(size):\n",
    "    \"\"\"которая принимает на вход размерность квадратной матрицы (двумерного массива, в котором\n",
    "    число строк и число столбцов совпадают) и создаёт единичную матрицу E (массив) соответствующей размерности\"\"\"\n",
    "    E = np.zeros((size, size), dtype = int)\n",
    "    for i in range(0, size):\n",
    "        E[i, i] = 1\n",
    "    return E\n",
    "\n",
    "\n",
    "print(build_array(5))"
   ]
  },
  {
   "cell_type": "markdown",
   "metadata": {
    "colab_type": "text",
    "id": "jgutn2Sj0zr1"
   },
   "source": [
    "### Задание 2\n",
    "\n",
    "Напишите функцию `my_reshape()`, которая принимает на вход массив и его новую размерность (пару чисел), и:\n",
    "\n",
    "* если указанные измерения корректны, то возвращает массив новой размерности;\n",
    "* если указанные измерения некорректны, то возвращает пустой массив (пример: из массива 2×5 нельзя сделать новый массив 4×3, потому что в старом массиве 10 элементов, а в новом – 12).\n",
    "\n",
    "**Пример:**\n",
    "\n",
    "Ввод:\n",
    "\n",
    "    A = np.array([[2, 4, 6], \n",
    "            [4, 8, 10]])\n",
    "\n",
    "    my_reshape(A, 6, 1)\n",
    "\n",
    "Вывод:\n",
    "\n",
    "    array([[2], \n",
    "       [4], \n",
    "       [6], \n",
    "       [4], \n",
    "       [8],\n",
    "       [10]])\n",
    "\n",
    "Ввод:\n",
    "\n",
    "    A = np.array([[2, 4, 6], \n",
    "            [4, 8, 10]])\n",
    "\n",
    "    my_reshape(A, 4, 2)\n",
    "\n",
    "Вывод:\n",
    "\n",
    "    array([])\n",
    "\n",
    "**Примечание:** результаты в выводе могут визуально отличаться (выводиться без переносов по строкам, с указанием типа данных), это нормально, примеры модифицированы для читаемости.\n",
    "\n",
    "**Подсказка:** см. материалы, предложенные в задаче 1."
   ]
  },
  {
   "cell_type": "code",
   "execution_count": 30,
   "metadata": {
    "colab": {},
    "colab_type": "code",
    "id": "BARsZ6SU0zr1"
   },
   "outputs": [
    {
     "name": "stdout",
     "output_type": "stream",
     "text": [
      "[[ 2]\n",
      " [ 4]\n",
      " [ 6]\n",
      " [ 4]\n",
      " [ 8]\n",
      " [10]]\n",
      "[]\n"
     ]
    }
   ],
   "source": [
    "### YOUR CODE HERE ###\n",
    "import numpy as np\n",
    "\n",
    "def my_reshape(A, x_size, y_size):\n",
    "    if x_size * y_size != A.size:\n",
    "        return np.array([])\n",
    "    return A.reshape(x_size, y_size)\n",
    "\n",
    "\n",
    "# test 1\n",
    "A = np.array([[2, 4, 6], \n",
    "        [4, 8, 10]])\n",
    "print(my_reshape(A, 6, 1))\n",
    "# test 2\n",
    "A = np.array([[2, 4, 6], \n",
    "        [4, 8, 10]])\n",
    "print(my_reshape(A, 4, 2))"
   ]
  },
  {
   "cell_type": "code",
   "execution_count": null,
   "metadata": {},
   "outputs": [],
   "source": []
  }
 ],
 "metadata": {
  "kernelspec": {
   "display_name": "Python 3",
   "language": "python",
   "name": "python3"
  },
  "language_info": {
   "codemirror_mode": {
    "name": "ipython",
    "version": 3
   },
   "file_extension": ".py",
   "mimetype": "text/x-python",
   "name": "python",
   "nbconvert_exporter": "python",
   "pygments_lexer": "ipython3",
   "version": "3.7.4"
  }
 },
 "nbformat": 4,
 "nbformat_minor": 4
}
