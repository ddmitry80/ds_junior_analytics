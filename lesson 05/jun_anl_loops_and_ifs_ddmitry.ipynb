{
 "cells": [
  {
   "cell_type": "markdown",
   "metadata": {
    "colab_type": "text",
    "id": "X9wfb-pqPzYu"
   },
   "source": [
    "# Циклы и условия\n",
    "\n",
    "## Домашняя работа\n",
    "Эта домашняя работа должна быть решена **БЕЗ** использования готовых функций (если именно они \"решают\" задачу) и сторонних библиотек. Используйте циклы и условия."
   ]
  },
  {
   "cell_type": "markdown",
   "metadata": {
    "colab_type": "text",
    "id": "DMpu8uUoPzY0"
   },
   "source": [
    "## 1\n",
    "\n",
    "Напишите программу, которая будет запрашивать на вход числа (через запятую на одной строке) и выводить наибольшее значение из списка.\n",
    "<br><br>\n",
    "*Ограничение: нельзя пользоваться готовой функцией для нахождения максимума (например, `max()`), готовыми функциями и методами сортировки (например, `sort()`,`sorted()`).*"
   ]
  },
  {
   "cell_type": "code",
   "execution_count": 15,
   "metadata": {
    "colab": {},
    "colab_type": "code",
    "id": "dHs34-p-PzY3"
   },
   "outputs": [
    {
     "name": "stdin",
     "output_type": "stream",
     "text": [
      "Введите Ваши числа через запятую: 1,3,7,4,12, 33,9\n"
     ]
    },
    {
     "name": "stdout",
     "output_type": "stream",
     "text": [
      "Максимальное число: 33\n"
     ]
    }
   ],
   "source": [
    "### YOUR CODE HERE ###\n",
    "input_string=input('Введите Ваши числа через запятую:')\n",
    "#input_string='1,2 , 5,7'\n",
    "input_list=input_string.split(',')\n",
    "#print(input_list)\n",
    "for i,st in enumerate(input_list):\n",
    "    input_list[i] = st.strip()\n",
    "#print(input_list)\n",
    "max_number = int(input_list[0])\n",
    "for num_s in input_list:\n",
    "    num = int(num_s)\n",
    "    if num > max_number:\n",
    "        max_number = num\n",
    "print('Максимальное число:', max_number)\n"
   ]
  },
  {
   "cell_type": "markdown",
   "metadata": {
    "colab_type": "text",
    "id": "sCF9Hd9rPzZD"
   },
   "source": [
    "### 2\n",
    "\n",
    "Напишите программу, которая будет запрашивать на вход числа (каждое с новой строки) до тех пор, пока не будет введен ноль (0). На выход должно выводиться второе по величине значение.\n",
    "<br><br>\n",
    "*Ограничение: нельзя пользоваться готовой функцией для нахождения максимума (например, `max()`), готовыми функциями и методами сортировки (например, `sort()`,`sorted()`).*"
   ]
  },
  {
   "cell_type": "code",
   "execution_count": 17,
   "metadata": {
    "colab": {},
    "colab_type": "code",
    "id": "yrJk-mEjPzZF"
   },
   "outputs": [
    {
     "name": "stdin",
     "output_type": "stream",
     "text": [
      "введите число или 0 чтобы закончить: 3\n",
      "введите число или 0 чтобы закончить: 5\n",
      "введите число или 0 чтобы закончить: 8\n",
      "введите число или 0 чтобы закончить: 99\n",
      "введите число или 0 чтобы закончить: 33\n",
      "введите число или 0 чтобы закончить: 99\n",
      "введите число или 0 чтобы закончить: 48\n",
      "введите число или 0 чтобы закончить: 0\n"
     ]
    },
    {
     "name": "stdout",
     "output_type": "stream",
     "text": [
      "Второе по величине значение: 48\n"
     ]
    }
   ],
   "source": [
    "### YOUR CODE HERE ###\n",
    "max_num = int(input('введите число или 0 чтобы закончить:'))\n",
    "prev_num = max_num\n",
    "num2 = max_num\n",
    "while num2 != 0:\n",
    "    num2 = int(input('введите число или 0 чтобы закончить:'))\n",
    "    if num2 > max_num:\n",
    "        prev_num = max_num\n",
    "        max_num = num2\n",
    "    if num2 > prev_num and num2 < max_num:\n",
    "        prev_num = num2\n",
    "print('Второе по величине значение:', prev_num)"
   ]
  },
  {
   "cell_type": "markdown",
   "metadata": {
    "colab_type": "text",
    "id": "fdJZMUtGPzZN"
   },
   "source": [
    "### 3\n",
    "\n",
    "Напишите программу, которая принимает на вход год, а на выход выдает количество дней в этом году."
   ]
  },
  {
   "cell_type": "code",
   "execution_count": 21,
   "metadata": {
    "colab": {},
    "colab_type": "code",
    "id": "Dk6PDx-jPzZP"
   },
   "outputs": [
    {
     "name": "stdin",
     "output_type": "stream",
     "text": [
      "Введите нужный год: 2015\n"
     ]
    },
    {
     "name": "stdout",
     "output_type": "stream",
     "text": [
      "В году было 365 дней\n"
     ]
    }
   ],
   "source": [
    "### YOUR CODE HERE ###\n",
    "year = int(input('Введите нужный год:'))\n",
    "if (year % 4 == 0) or (year % 100 == 0) or (year % 400 == 0):\n",
    "    print('В году было 366 дней')\n",
    "else:\n",
    "    print('В году было 365 дней')"
   ]
  },
  {
   "cell_type": "markdown",
   "metadata": {
    "colab_type": "text",
    "id": "wFGBh0dYPzZV"
   },
   "source": [
    "### 4\n",
    "\n",
    "Напишите программу, которая на вход получает координаты двух клеток шахматной доски и выводит соощение о том, являются ли эти клетки одного цвета."
   ]
  },
  {
   "cell_type": "code",
   "execution_count": 22,
   "metadata": {
    "colab": {},
    "colab_type": "code",
    "id": "k-8POcqGPzZW"
   },
   "outputs": [
    {
     "name": "stdin",
     "output_type": "stream",
     "text": [
      "Введите коррдинаты клетки 1 в формате \"A1\": c4\n",
      "Введите коррдинаты клетки 1 в формате \"A1\": f7\n"
     ]
    },
    {
     "name": "stdout",
     "output_type": "stream",
     "text": [
      "Клетки одного цвета\n"
     ]
    }
   ],
   "source": [
    "### YOUR CODE HERE ###\n",
    "def define_color(xy_cord):\n",
    "    \"\"\" Возвращает 0 если клетка черная, 1 если клетка белая  \"\"\"\n",
    "    coord_line='ABCDEFGH'\n",
    "    x_cord = xy_cord[0]\n",
    "    y_cord = xy_cord[1]\n",
    "    x_up = x_cord.upper()\n",
    "    x = coord_line.find(x_up) + 1\n",
    "    y = int(y_cord)\n",
    "    return (x + y) % 2\n",
    " \n",
    "cell_a = input('Введите коррдинаты клетки 1 в формате \"A1\":')\n",
    "cell_b = input('Введите коррдинаты клетки 1 в формате \"A1\":')\n",
    "color_a = define_color(cell_a)\n",
    "color_b = define_color(cell_b)\n",
    "#print(color_a, color_b)\n",
    "if color_a == color_b:\n",
    "    print('Клетки одного цвета')\n",
    "else:\n",
    "    print('Клетки разных цветов')\n"
   ]
  },
  {
   "cell_type": "markdown",
   "metadata": {
    "colab_type": "text",
    "id": "O594rz0tPzZb"
   },
   "source": [
    "### 5\n",
    "\n",
    "Напишите программу, которая на вход получает число, а на выходе сообщает, простое это число или составное."
   ]
  },
  {
   "cell_type": "code",
   "execution_count": 25,
   "metadata": {
    "colab": {},
    "colab_type": "code",
    "id": "-Oy1AesyPzZd"
   },
   "outputs": [
    {
     "name": "stdin",
     "output_type": "stream",
     "text": [
      "Введите число: 18\n"
     ]
    },
    {
     "name": "stdout",
     "output_type": "stream",
     "text": [
      "Данное число составное\n"
     ]
    }
   ],
   "source": [
    "### YOUR CODE HERE ###\n",
    "def is_simple_number(number):\n",
    "    \"\"\" Возвращает True если number простое \"\"\"\n",
    "    for i in range(2,number):\n",
    "        if number % i == 0:\n",
    "            return False\n",
    "    return True\n",
    "\n",
    "#print(is_simple_number(2))\n",
    "num = int(input('Введите число:'))\n",
    "if not is_simple_number(num):\n",
    "    print('Данное число составное')\n",
    "else:\n",
    "    print('Данное число простое')"
   ]
  },
  {
   "cell_type": "markdown",
   "metadata": {
    "colab_type": "text",
    "id": "QzBAQaW8PzZg"
   },
   "source": [
    "### 6\n",
    "\n",
    "Напишите программу, которая на вход получает целое число больше 2 и выводит по нему его наименьший натуральный делитель, отличный от 1."
   ]
  },
  {
   "cell_type": "code",
   "execution_count": 29,
   "metadata": {
    "colab": {},
    "colab_type": "code",
    "id": "Z2QzgAYKPzZi"
   },
   "outputs": [
    {
     "name": "stdin",
     "output_type": "stream",
     "text": [
      "Введите число: 25\n"
     ]
    },
    {
     "name": "stdout",
     "output_type": "stream",
     "text": [
      "Наименьший натуральный делитель числа 25 - 5\n"
     ]
    }
   ],
   "source": [
    "### YOUR CODE HERE ###\n",
    "def find_smallest_natural_divisor(number):\n",
    "    \"\"\" Возвращает наименьший натуральный делитель \"\"\"\n",
    "    for i in range(2,number+1):\n",
    "        if number % i == 0:\n",
    "            return i\n",
    "\n",
    "#print(find_smallest_natural_divisor(9))\n",
    "num = int(input('Введите число:'))\n",
    "print('Наименьший натуральный делитель числа',num,'-',find_smallest_natural_divisor(num))\n"
   ]
  },
  {
   "cell_type": "markdown",
   "metadata": {
    "colab_type": "text",
    "id": "Mdg_IAfFPzZk"
   },
   "source": [
    "### 7\n",
    "\n",
    "Напишите программу, которая поможет составить план тренировок для подготовки к марафону. Она получает на вход число километров на планируемом марафоне, сколько пользователь планирует пробежать в первый день тренировок и на сколько процентов планирует увеличивать каждый день это расстояние. На выходе программа должна выдавать, сколько дней пользователю потребуется для того, чтобы подготовиться пробежать целевое количество километров.\n",
    "<br><br>\n",
    "*Ограничение: нельзя пользоваться функцией `ceil()` из модуля `math` и ее аналогами.*"
   ]
  },
  {
   "cell_type": "code",
   "execution_count": 30,
   "metadata": {
    "colab": {},
    "colab_type": "code",
    "id": "mXeF6AMWPzZl"
   },
   "outputs": [
    {
     "name": "stdin",
     "output_type": "stream",
     "text": [
      "Число километров на марафоне: 10\n",
      "Сколько планируете пробежать в первый день: 5\n",
      "Процент ежедневного увеличения дистанции: 5\n"
     ]
    },
    {
     "name": "stdout",
     "output_type": "stream",
     "text": [
      "Потребуется дней: 16\n"
     ]
    }
   ],
   "source": [
    "### YOUR CODE HERE ###\n",
    "marathon_distance = int(input('Число километров на марафоне:'))\n",
    "dist_first_day = int(input('Сколько планируете пробежать в первый день:'))\n",
    "day_percent = int(input('Процент ежедневного увеличения дистанции:'))\n",
    "days = 1\n",
    "distance = float(dist_first_day)\n",
    "while distance < marathon_distance:\n",
    "    distance += distance*day_percent/100\n",
    "    days += 1\n",
    "print('Потребуется дней:', days)\n"
   ]
  },
  {
   "cell_type": "markdown",
   "metadata": {
    "colab_type": "text",
    "id": "sxKoWpYKPzZo"
   },
   "source": [
    "### 8\n",
    "\n",
    "Напишите программу, которая на вход получает число n и считает по нему сумму 1²+2²+3²+...+n².\n",
    "<br><br>\n",
    "*Ограничение: нельзя пользоваться функцией `sum()` и ее аналогами.*"
   ]
  },
  {
   "cell_type": "code",
   "execution_count": 3,
   "metadata": {
    "colab": {},
    "colab_type": "code",
    "id": "RiPlWLm6PzZp"
   },
   "outputs": [
    {
     "name": "stdin",
     "output_type": "stream",
     "text": [
      "Введите число: 3\n"
     ]
    },
    {
     "name": "stdout",
     "output_type": "stream",
     "text": [
      "Сумма квадратов ряда: 14\n"
     ]
    }
   ],
   "source": [
    "### YOUR CODE HERE ###\n",
    "def sum_of_suares(number):\n",
    "    \"\"\"Функция считает сумму квадратов элементов ряда 1²+2²+3²+...+n²\"\"\"\n",
    "    summa = 0\n",
    "    for i in range(1,number+1):\n",
    "        summa += i**2\n",
    "    return summa\n",
    "\n",
    "num = int(input('Введите число:'))\n",
    "print('Сумма квадратов ряда:', sum_of_suares(num))\n"
   ]
  },
  {
   "cell_type": "markdown",
   "metadata": {
    "colab_type": "text",
    "id": "aXzG4-wdPzZr"
   },
   "source": [
    "## 9\n",
    "\n",
    "Напишите программу, которая на вход получает число n и считает по нему сумму сумму 1! + 2! + 3! + ... + n!\n",
    "<br><br>\n",
    "*Ограничение: нельзя пользоваться готовой функцией `factorial()` из модуля `math`, функцией `sum()` и их аналогами.*"
   ]
  },
  {
   "cell_type": "code",
   "execution_count": 5,
   "metadata": {
    "colab": {},
    "colab_type": "code",
    "id": "KBEXUEDQPzZs"
   },
   "outputs": [
    {
     "name": "stdin",
     "output_type": "stream",
     "text": [
      "Введите число: 3\n"
     ]
    },
    {
     "name": "stdout",
     "output_type": "stream",
     "text": [
      "Сумма факториалов ряда: 9\n"
     ]
    }
   ],
   "source": [
    "### YOUR CODE HERE ###\n",
    "def sum_of_factorials(number):\n",
    "    \"\"\"Функция считает сумму факториалов элементов ряда 1!+2!+3!+...+n!\"\"\"\n",
    "    summa = 0\n",
    "    factorial = 1\n",
    "    for i in range(1,number+1):\n",
    "        factorial *= i\n",
    "        summa += factorial\n",
    "    return summa\n",
    "\n",
    "num = int(input('Введите число:'))\n",
    "print('Сумма факториалов ряда:', sum_of_factorials(num))\n"
   ]
  },
  {
   "cell_type": "markdown",
   "metadata": {
    "colab_type": "text",
    "id": "4nsOuiWVPzZu"
   },
   "source": [
    "### 10\n",
    "\n",
    "Напишите программу, которая получает на вход последовательность чисел (каждое число с новой строки до того момента, пока пользователь не введет 0) и считает количество четных элементов в последовательности."
   ]
  },
  {
   "cell_type": "code",
   "execution_count": 1,
   "metadata": {
    "colab": {},
    "colab_type": "code",
    "id": "xktF2cocPzZv"
   },
   "outputs": [
    {
     "name": "stdout",
     "output_type": "stream",
     "text": [
      "Введите число или 0 чтобы закончить:1\n",
      "Введите число или 0 чтобы закончить:2\n",
      "Введите число или 0 чтобы закончить:3\n",
      "Введите число или 0 чтобы закончить:4\n",
      "Введите число или 0 чтобы закончить:5\n",
      "Введите число или 0 чтобы закончить:6\n",
      "Введите число или 0 чтобы закончить:7\n",
      "Введите число или 0 чтобы закончить:8\n",
      "Введите число или 0 чтобы закончить:9\n",
      "Введите число или 0 чтобы закончить:0\n",
      "Количество четных чисел: 4\n"
     ]
    }
   ],
   "source": [
    "### YOUR CODE HERE ###\n",
    "num = int(input('Введите число или 0 чтобы закончить:'))\n",
    "#numbers = list()\n",
    "num_of_even_numbers = 0\n",
    "while num != 0:\n",
    "    #numbers.append(num)\n",
    "    if num % 2 == 0:\n",
    "        num_of_even_numbers += 1\n",
    "    num = int(input('Введите число или 0 чтобы закончить:'))\n",
    "\n",
    "print('Количество четных чисел:', num_of_even_numbers)\n"
   ]
  },
  {
   "cell_type": "markdown",
   "metadata": {
    "colab_type": "text",
    "id": "hyC9QGXPPzZx"
   },
   "source": [
    "### 11\n",
    "\n",
    "Напишите программу, которая формирует список игроков женской команды по футболу. Программа должна записывать возраст и пол претендента. Возраст должен запрашиваться после пола и только в том случае, если пол претендента женский. Если пол претендента мужской, программа должна сообщать о том, что он не подходит. Возраст претенденток должен быть от 18 до 35 лет. Если кандидат удовлетворяет требованиям, должно появляться соответствующее сообщение."
   ]
  },
  {
   "cell_type": "code",
   "execution_count": 2,
   "metadata": {
    "colab": {},
    "colab_type": "code",
    "id": "qSDK-zQ4PzZx"
   },
   "outputs": [
    {
     "name": "stdout",
     "output_type": "stream",
     "text": [
      "Введите пол игрока М/Ж: ж\n",
      "Введите возраст кандидата: 33\n",
      "Кандидат подходит\n"
     ]
    }
   ],
   "source": [
    "### YOUR CODE HERE ###\n",
    "gender = input('Введите пол игрока М/Ж: ')\n",
    "gender = gender.capitalize()\n",
    "if gender != 'Ж':\n",
    "    print('Кандидат не подходит!')\n",
    "else:\n",
    "    age = int(input('Введите возраст кандидата: '))\n",
    "    if 18 <= age <= 35:\n",
    "        print('Кандидат подходит')\n",
    "    else:\n",
    "        print('Кандидат не подходит!')\n"
   ]
  },
  {
   "cell_type": "markdown",
   "metadata": {
    "colab_type": "text",
    "id": "B4JAB8AqPzZ0"
   },
   "source": [
    "### 12\n",
    "\n",
    "\n",
    "Напишите программу, которая на вход получает максимальную ширину ромба и рисует его. Гарантируется, что входное число всегда нечетное.\n",
    " \n",
    "Пример вывода для числа 5:\n",
    "```  \n",
    "  *\n",
    " ***\n",
    "*****\n",
    " ***\n",
    "  *```"
   ]
  },
  {
   "cell_type": "code",
   "execution_count": 9,
   "metadata": {
    "colab": {},
    "colab_type": "code",
    "id": "WVp7O75oPzZ0"
   },
   "outputs": [
    {
     "name": "stdin",
     "output_type": "stream",
     "text": [
      "Введите максимальную ширину ромба: 7\n"
     ]
    },
    {
     "name": "stdout",
     "output_type": "stream",
     "text": [
      "   *  \n",
      "  *** \n",
      " *****\n",
      "*******\n",
      " *****\n",
      "  *** \n",
      "   *  \n"
     ]
    }
   ],
   "source": [
    "### YOUR CODE HERE ###\n",
    "width_rombus = int(input('Введите максимальную ширину ромба:'))\n",
    "#width_rombus = 7\n",
    "for i in range (width_rombus//2,0,-1):\n",
    "    st = ''\n",
    "    for j in range(0,width_rombus//2):\n",
    "        if i-j > 0:\n",
    "            st = st + ' '\n",
    "        else:\n",
    "            st = st + '*'\n",
    "    st += '*'\n",
    "    for j in range(width_rombus//2-1,0,-1):\n",
    "        if i-j > 0:\n",
    "            st = st + ' '\n",
    "        else:\n",
    "            st = st + '*'\n",
    "    print(st)\n",
    "st = '*'\n",
    "st *= width_rombus\n",
    "print(st)\n",
    "for i in range (1,width_rombus//2+1):\n",
    "    st = ''\n",
    "    for j in range(0,width_rombus//2):\n",
    "        if i-j > 0:\n",
    "            st = st + ' '\n",
    "        else:\n",
    "            st = st + '*'\n",
    "    st += '*'\n",
    "    for j in range(width_rombus//2-1,0,-1):\n",
    "        if i-j > 0:\n",
    "            st = st + ' '\n",
    "        else:\n",
    "            st = st + '*'\n",
    "    print(st)\n"
   ]
  },
  {
   "cell_type": "markdown",
   "metadata": {
    "colab_type": "text",
    "id": "xrIXWj0yPzZ2"
   },
   "source": [
    "### 13\n",
    "\n",
    "Напишите программу, которая запрашивает у пользователя сторону квадрата и символ, а затем рисует этот символ по диагоналям квадрата. Гарантируется, что входное число всегда нечетное.\n",
    " \n",
    "Пример вывода для числа 5:\n",
    "```\n",
    " \n",
    "#   #\n",
    " # #\n",
    "  #  \n",
    " # #\n",
    "#   #\n",
    "```"
   ]
  },
  {
   "cell_type": "code",
   "execution_count": 10,
   "metadata": {
    "colab": {},
    "colab_type": "code",
    "id": "oUKNB9TaPzZ3",
    "outputId": "47421e19-6d45-4cef-9df8-0d89200499ca"
   },
   "outputs": [
    {
     "name": "stdin",
     "output_type": "stream",
     "text": [
      "Введите сторону квадрата: 7\n",
      "Введите ривующий символ: O\n"
     ]
    },
    {
     "name": "stdout",
     "output_type": "stream",
     "text": [
      "O     O\n",
      " O   O \n",
      "  O O  \n",
      "   O   \n",
      "  O O  \n",
      " O   O \n",
      "O     O\n"
     ]
    }
   ],
   "source": [
    "### YOUR CODE HERE ###\n",
    "square_width = int(input('Введите сторону квадрата:'))\n",
    "symbol = input('Введите ривующий символ:')\n",
    "#square_width = 5\n",
    "#symbol = '#'\n",
    "for i in range(0,square_width):\n",
    "    st = ''\n",
    "    for j in range(0,square_width):\n",
    "        if (i == j) or (square_width-1-i == j):\n",
    "            st = st + symbol\n",
    "        else:\n",
    "            st = st + ' '\n",
    "    print(st)\n"
   ]
  },
  {
   "cell_type": "markdown",
   "metadata": {
    "colab_type": "text",
    "id": "3GaiPsFYPzZ_"
   },
   "source": [
    "### 14\n",
    "\n",
    "В корзине лежат шары. Если разложить их в кучи по 2, останется один. Если разложить в кучи по 3, останется один. Если разложить в кучи по 4, останется один. Если разложить в кучи по 5, останется один. Если разложить в кучи по 6, останется один. Если разложить в кучи по 7, не будет остатка. Нужно найти минимальное количество шаров, удовлетворяющее условию.  <br>"
   ]
  },
  {
   "cell_type": "code",
   "execution_count": 11,
   "metadata": {
    "colab": {
     "base_uri": "https://localhost:8080/",
     "height": 32
    },
    "colab_type": "code",
    "executionInfo": {
     "elapsed": 1380,
     "status": "ok",
     "timestamp": 1571844968537,
     "user": {
      "displayName": "Анастасия Рогачевская",
      "photoUrl": "https://lh3.googleusercontent.com/a-/AAuE7mB92snW1RMZTGvFBrPMpd_BzLIeP2XnbSZ3ZNVFUQ=s64",
      "userId": "07714489023974728369"
     },
     "user_tz": -180
    },
    "id": "V2msEhQkPzZ_",
    "outputId": "c36c996d-347b-430f-f53e-65e37eb23108"
   },
   "outputs": [
    {
     "name": "stdout",
     "output_type": "stream",
     "text": [
      "Найдено нужное число: 301\n"
     ]
    }
   ],
   "source": [
    "### YOUR CODE HERE ###\n",
    "balls = 0\n",
    "exit_if = 1 * 10**4\n",
    "while True:\n",
    "    balls += 1\n",
    "    if balls%2==1 and balls%3==1 and balls%4==1 and balls%5==1 and balls%6==1 and balls%7==0:\n",
    "        print('Найдено нужное число:', balls)\n",
    "        break\n",
    "    if balls > exit_if:\n",
    "        print('Выполнение слишком долгое, выхожу')\n",
    "        break\n"
   ]
  },
  {
   "cell_type": "markdown",
   "metadata": {
    "colab_type": "text",
    "id": "5pOjlON-PzaC"
   },
   "source": [
    "### 15\n",
    "\n",
    "Рабочие клеили обои на стены. Первую стену поклеили за M минут, а каждую следующую на 5 минут больше, чем предыдущую.\n",
    "Напишите программу, которая запрашивает сколько стен было в квартире под поклейку, а также время работы с первой стеной. Программа должна выводить, сколько **часов** рабочие потратили на поклейку обоев во всей квартире. Ответом должно быть целое число.\n",
    "<br><br>\n",
    "*Ограничение: нельзя пользоваться готовыми функциями `bool()`, `floor()` и их аналогами.*"
   ]
  },
  {
   "cell_type": "code",
   "execution_count": 15,
   "metadata": {
    "colab": {},
    "colab_type": "code",
    "id": "Pmu96rWGPzaD"
   },
   "outputs": [
    {
     "name": "stdin",
     "output_type": "stream",
     "text": [
      "За сколько минут поклеили первую стену:  25\n",
      "Сколько стен в квартире:  2\n"
     ]
    },
    {
     "name": "stdout",
     "output_type": "stream",
     "text": [
      "На работу потрачено 1 часов\n"
     ]
    }
   ],
   "source": [
    "### YOUR CODE HERE ###\n",
    "first_wall_time = int(input('За сколько минут поклеили первую стену: '))\n",
    "wall_number = int(input('Сколько стен в квартире: '))\n",
    "#first_wall_time = 20\n",
    "#wall_number = 10\n",
    "time_minutes = 0\n",
    "\n",
    "for i in range(0,wall_number): # считаем потраченное время в минутах\n",
    "    time_minutes += first_wall_time + i*5\n",
    "\n",
    "# переводим в часы\n",
    "hours = time_minutes // 60\n",
    "if time_minutes % 60 != 0:\n",
    "    hours += 1\n",
    "\n",
    "print('На работу потрачено', hours, 'часов')\n"
   ]
  },
  {
   "cell_type": "markdown",
   "metadata": {
    "colab_type": "text",
    "id": "63C6Za3CPzaF"
   },
   "source": [
    "### 16\n",
    "\n",
    "Напишите программу, которая убирает из списка повторяющиеся элементы. Программа должна запрашивать на вход слова, каждое с новой строки, пока пользователь не введет пустую строку. Затем должна выводить список без повторяющихся элементов. \n",
    "<br><br>\n",
    "*Ограничение: нельзя пользоваться готовой функцией `set()` и ее аналогами.*"
   ]
  },
  {
   "cell_type": "code",
   "execution_count": 16,
   "metadata": {
    "colab": {},
    "colab_type": "code",
    "id": "MQ-eDkbAPzaG"
   },
   "outputs": [
    {
     "name": "stdin",
     "output_type": "stream",
     "text": [
      "Введите слово:  aaa\n",
      "Введите слово:  aac\n",
      "Введите слово:  aab\n",
      "Введите слово:  aab\n",
      "Введите слово:  aaa\n",
      "Введите слово:  \n"
     ]
    },
    {
     "name": "stdout",
     "output_type": "stream",
     "text": [
      "['aaa', 'aac', 'aab']\n"
     ]
    }
   ],
   "source": [
    "### YOUR CODE HERE ###\n",
    "words = list()\n",
    "while True:\n",
    "    st = input('Введите слово: ')\n",
    "    if st == '':\n",
    "        break\n",
    "    if not words.count(st):\n",
    "        words.append(st)\n",
    "\n",
    "print(words)\n"
   ]
  },
  {
   "cell_type": "markdown",
   "metadata": {
    "colab_type": "text",
    "id": "jueSDORaPzaI"
   },
   "source": [
    "### 17\n",
    "\n",
    "Напишите программу, которая выводит число пар одинаковых элементов в списке. Программа должна запрашивать на вход слова, каждое с новой строки, пока пользователь не введет пустую строку. "
   ]
  },
  {
   "cell_type": "code",
   "execution_count": 18,
   "metadata": {
    "colab": {},
    "colab_type": "code",
    "id": "49tbEr3NPzaJ"
   },
   "outputs": [
    {
     "name": "stdin",
     "output_type": "stream",
     "text": [
      "Введите слово:  Alice\n",
      "Введите слово:  Bob\n",
      "Введите слово:  John\n",
      "Введите слово:  Alice\n",
      "Введите слово:  Bob\n",
      "Введите слово:  Alex\n",
      "Введите слово:  \n"
     ]
    },
    {
     "name": "stdout",
     "output_type": "stream",
     "text": [
      "Число повторений: 2\n"
     ]
    }
   ],
   "source": [
    "### YOUR CODE HERE ###\n",
    "# собираем все введенные слова в список words\n",
    "words = list()\n",
    "while True:\n",
    "    st = input('Введите слово: ')\n",
    "    if st == '':\n",
    "        break\n",
    "    words.append(st)\n",
    "#words = ('Alice', 'Bob', 'Cat', 'John', 'Alex', 'Alice', 'Bob', 'Piter', 'Alice')\n",
    "\n",
    "# Поиск повторяющихся пар\n",
    "counter = 0\n",
    "for i, word in enumerate(words):\n",
    "    for j, word2 in enumerate(words[i+1:]):\n",
    "        if word == word2:\n",
    "            counter += 1\n",
    "            #print(word)\n",
    "            break\n",
    "\n",
    "print('Число повторений:', counter)\n"
   ]
  },
  {
   "cell_type": "markdown",
   "metadata": {
    "colab_type": "text",
    "id": "yVLcBrD-PzaN"
   },
   "source": [
    "### 18\n",
    "\n",
    "Будем считать, что кубик может иметь неограниченное количество граней (натуральное число). Напишите программу, которая запрашивает, сколько граней имеется у двух разных кубиков. Затем выводит все возможные комбинации результатов бросков двух таких кубиков. "
   ]
  },
  {
   "cell_type": "code",
   "execution_count": 19,
   "metadata": {
    "colab": {},
    "colab_type": "code",
    "id": "7I2va0KwPzaR"
   },
   "outputs": [
    {
     "name": "stdin",
     "output_type": "stream",
     "text": [
      "Введите число граней первого кубика:  3\n",
      "Введите число граней второго кубика:  4\n"
     ]
    },
    {
     "name": "stdout",
     "output_type": "stream",
     "text": [
      "Грань первого кубика - 1 , грань второго кубика - 1\n",
      "Грань первого кубика - 1 , грань второго кубика - 2\n",
      "Грань первого кубика - 1 , грань второго кубика - 3\n",
      "Грань первого кубика - 1 , грань второго кубика - 4\n",
      "Грань первого кубика - 2 , грань второго кубика - 1\n",
      "Грань первого кубика - 2 , грань второго кубика - 2\n",
      "Грань первого кубика - 2 , грань второго кубика - 3\n",
      "Грань первого кубика - 2 , грань второго кубика - 4\n",
      "Грань первого кубика - 3 , грань второго кубика - 1\n",
      "Грань первого кубика - 3 , грань второго кубика - 2\n",
      "Грань первого кубика - 3 , грань второго кубика - 3\n",
      "Грань первого кубика - 3 , грань второго кубика - 4\n",
      "Всего 12 комбинаций бросков для двух кубиков с 3 и 4 гранями\n"
     ]
    }
   ],
   "source": [
    "### YOUR CODE HERE ###\n",
    "cube1_faces = int(input('Введите число граней первого кубика: '))\n",
    "cube2_faces = int(input('Введите число граней второго кубика: '))\n",
    "#cube1_faces = 2\n",
    "#cube2_faces = 3\n",
    "\n",
    "combinations = 0\n",
    "for i in range(0, cube1_faces):\n",
    "    for j in range(0, cube2_faces):\n",
    "        combinations += 1\n",
    "        print('Грань первого кубика -', i+1, ', грань второго кубика -', j+1)\n",
    "\n",
    "print('Всего', combinations, 'комбинаций бросков для двух кубиков с', cube1_faces,'и' , cube2_faces, 'гранями')\n"
   ]
  },
  {
   "cell_type": "code",
   "execution_count": null,
   "metadata": {},
   "outputs": [],
   "source": []
  }
 ],
 "metadata": {
  "colab": {
   "name": "jun_anl_loops_and_ifs_СКРИПТ.ipynb",
   "provenance": []
  },
  "kernelspec": {
   "display_name": "Python 3",
   "language": "python",
   "name": "python3"
  },
  "language_info": {
   "codemirror_mode": {
    "name": "ipython",
    "version": 3
   },
   "file_extension": ".py",
   "mimetype": "text/x-python",
   "name": "python",
   "nbconvert_exporter": "python",
   "pygments_lexer": "ipython3",
   "version": "3.7.4"
  }
 },
 "nbformat": 4,
 "nbformat_minor": 4
}
