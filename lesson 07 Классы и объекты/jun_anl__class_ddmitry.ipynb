{
 "cells": [
  {
   "cell_type": "markdown",
   "metadata": {},
   "source": [
    "# Классы\n",
    "## Домашнее задание"
   ]
  },
  {
   "cell_type": "markdown",
   "metadata": {},
   "source": [
    "### Вопросы по лекциям\n",
    "\n",
    "#### 1.\n",
    "\n",
    "Напишите название функции, которая является конструктором класса."
   ]
  },
  {
   "cell_type": "markdown",
   "metadata": {},
   "source": [
    "**Ответ:**\n",
    "__init()__\n"
   ]
  },
  {
   "cell_type": "markdown",
   "metadata": {},
   "source": [
    "#### 2.\n",
    "\n",
    "На что указывает переменная `self`?"
   ]
  },
  {
   "cell_type": "markdown",
   "metadata": {},
   "source": [
    "**Ответ:**\n",
    "self - соглашение об именах. На его месте может быть и другое имя. Указывает фукции на конкретный экземпляр объекта\n"
   ]
  },
  {
   "cell_type": "markdown",
   "metadata": {},
   "source": [
    "#### 3.\n",
    "С помощью какой функции можно проверить, что некая строка является именем одного из атрибутов объекта?"
   ]
  },
  {
   "cell_type": "markdown",
   "metadata": {},
   "source": [
    "**Ответ:**\n",
    "hasattr(obj, name)  -> bool\n",
    "Возвращает True, если атрибут существует, иначе — False."
   ]
  },
  {
   "cell_type": "markdown",
   "metadata": {},
   "source": [
    "#### 4.\n",
    "Когда вызывается метод `__del__`? (относительно события удаления объекта)"
   ]
  },
  {
   "cell_type": "markdown",
   "metadata": {},
   "source": [
    "**Ответ:**\n",
    "Вызывается перед удалением объекта. Позволяет программисту корректно закрыть используемые объектом ресурсы."
   ]
  },
  {
   "cell_type": "markdown",
   "metadata": {},
   "source": [
    "#### 5.\n",
    "Верно ли, что атрибут класса перекрывает атрибут объекта?"
   ]
  },
  {
   "cell_type": "markdown",
   "metadata": {},
   "source": [
    "**Ответ:**\n",
    "Не верно. Сначала смотрятся аттрибуты объекта, а после уже класса."
   ]
  },
  {
   "cell_type": "markdown",
   "metadata": {},
   "source": [
    "#### 6.\n",
    "Можно ли атрибуты базового класса вызывать в дочернем классе? Если да, то напишите, нет ли исклчений?"
   ]
  },
  {
   "cell_type": "markdown",
   "metadata": {},
   "source": [
    "**Ответ:**\n",
    "Можно. Кроме объектов, чье имя начинается с __ (два подчеркивания). Такие напрямую вызвать не удастся"
   ]
  },
  {
   "cell_type": "markdown",
   "metadata": {},
   "source": [
    "#### 7.\n",
    "Объясните своими словами для чего нужен метод `super`."
   ]
  },
  {
   "cell_type": "markdown",
   "metadata": {},
   "source": [
    "**Ответ:**\n",
    "Метод позволяет обратиться к переопределенному методу при наследовании. При \"прямом\" наследовании - к предку. При множественном наследовании - тот к кому мы обратимя из него определяется специальным алгоритмом MRO. "
   ]
  },
  {
   "cell_type": "markdown",
   "metadata": {},
   "source": [
    "### Практика\n",
    "\n",
    "1. Напишите класс `Fraction` для работы с дробями. Пусть дробь в нашем классе предстает в виде `числитель/знаменатель`. Дробное число должно создаваться по запросу `Fraction(a, b)`, где `a` – это числитель, а `b` – знаменатель дроби. \n",
    "2. Добавьте возможность сложения (сложения через оператор сложения) для дроби. Предполагается, что операция сложения может проводиться как только между дробями, так и между дробью и целым числом. Результат оперции должен быть представлен в виде дроби.\n",
    "3. Добавьте возможность взятия раздости (вычитания через оператор вычитания) для дробей. Предполагается, что операция вычитания может проводиться как только для двух дробей, так и для дроби и целого числа. Результат оперции должен быть представлен в виде дроби.\n",
    "4. Добавьте возможность умножения (умножения через оператор умножения) для дробей. Предполагается, что операция умножения может проводиться как только для двух дробей, так и для дроби и целого числа. Результат оперции должен быть представлен в виде дроби.\n",
    "5. Добавьте возможность приведения дроби к целому числу через стандартную функцию `int()`.\n",
    "6. Добавьте возможность приведения дроби к числу с плавающей точкой через стандартную функцию `float()`.\n",
    "7. Создайте дочерний класс `OperationsOnFraction` и добавьте туда собственные методы `getint` и `getfloat`, которые будут возвращять целую часть дроби и представление дроби в виде числа с плавающей точкой соответственно. \n",
    " "
   ]
  },
  {
   "cell_type": "code",
   "execution_count": 1,
   "metadata": {},
   "outputs": [
    {
     "name": "stdout",
     "output_type": "stream",
     "text": [
      "num_a = 3/2\n",
      "num_b = 4/3\n",
      "num_a + num_b = 17/6\n",
      "num_a + 3 =  9/2\n",
      "num_a - num_b = 1/6\n",
      "num_a + 3 =  -5/2\n",
      "num_a * num_b = 12/6\n",
      "num_a * 3 =  12/2\n",
      "int(num_a) =  1\n",
      "float(num_a) =  1.5\n",
      "num_c = 5/4\n",
      "num_c.getint = 1\n",
      "num_c.getfloat = 1.25\n"
     ]
    }
   ],
   "source": [
    "### YOUR CODE HERE ###\n",
    "class Fraction():\n",
    "    \"\"\"Класс для работы с дробями в виде \"числитель/знаменатель\". Поддерживает различные методы для\n",
    "    работы с ним, включая перегрузку операторов\"\"\"\n",
    "\n",
    "    def __init__(self, a = 0, b = 1):\n",
    "        self.a = a\n",
    "        self.b = b\n",
    "\n",
    "    def __str__(self):\n",
    "        return '{}/{}'.format(self.a, self.b)\n",
    "\n",
    "    def convert_to_fraction(self, number):\n",
    "        \"\"\"Возвращает тип fracnion из другого типа\"\"\"\n",
    "        if isinstance(number, Fraction):\n",
    "            self.a, self.b = number.a, number.b\n",
    "        else:\n",
    "            self.a, self.b = number, 1\n",
    "\n",
    "    def reduction_to_the_common_base(self, frac1, frac2):\n",
    "        \"\"\"Приведение двуъ дробей к общему основанию\"\"\"\n",
    "        if frac1.b != frac2.b: # Приводим к общему основанию\n",
    "            frac1.a *= frac2.b\n",
    "            frac1.b *= frac2.b\n",
    "            frac2.a *= frac1.b\n",
    "            frac2.b *= frac1.b\n",
    "        return frac1, frac2\n",
    "\n",
    "    def __add__(self, other):\n",
    "        \"\"\"Сложение с другой дробью или числом\"\"\"\n",
    "        frac1 = Fraction()\n",
    "        frac1.a, frac1.b = self.a, self.b # Мы не хотим побочных эффектов при вычислениях\n",
    "        frac2 = Fraction()\n",
    "        frac2.convert_to_fraction(other)\n",
    "        # self, other = reduction_to_the_common_base(self, other)\n",
    "        if frac1.b != frac2.b: # Приводим к общему основанию\n",
    "            frac1.a, frac1.b, frac2.a, frac2.b = frac1.a * frac2.b, frac1.b * frac2.b, frac2.a * frac1.b, frac2.b * frac1.b\n",
    "        # непосредственно сложение дробей\n",
    "        result = Fraction()\n",
    "        result.a = frac1.a + frac2.a\n",
    "        result.b = frac1.b\n",
    "        return result\n",
    "\n",
    "    def __sub__(self, other):\n",
    "        \"\"\"Вычитание из одной дроби другой, включая простое число\"\"\"\n",
    "        frac1 = Fraction()\n",
    "        frac1.a, frac1.b = self.a, self.b # Мы не хотим побочных эффектов при вычислениях\n",
    "        frac2 = Fraction()\n",
    "        frac2.convert_to_fraction(other)\n",
    "        if frac1.b != frac2.b: # Приводим к общему основанию\n",
    "            frac1.a, frac1.b, frac2.a, frac2.b = frac1.a * frac2.b, frac1.b * frac2.b, frac2.a * frac1.b, frac2.b * frac1.b\n",
    "        # непосредственно сложение дробей\n",
    "        result = Fraction()\n",
    "        result.a = frac1.a - frac2.a\n",
    "        result.b = frac1.b\n",
    "        return result\n",
    "    \n",
    "    def __mul__(self, other):\n",
    "        \"\"\"Умножение одной дроби на другую, включая простое число\"\"\"\n",
    "        frac1 = Fraction()\n",
    "        frac1.a, frac1.b = self.a, self.b # Мы не хотим побочных эффектов при вычислениях\n",
    "        frac2 = Fraction()\n",
    "        frac2.convert_to_fraction(other)\n",
    "        # непосредственно умножение дробей\n",
    "        result = Fraction()\n",
    "        result.a = frac1.a * frac2.a\n",
    "        result.b = frac1.b * frac2.b\n",
    "        return result\n",
    "  \n",
    "    def __int__(self):\n",
    "        \"\"\"Приведение к простому целому числу\"\"\"\n",
    "        return int(self.a / self.b)\n",
    "\n",
    "    def __float__(self):\n",
    "        \"\"\"Приведение к числу с плавающей точкой\"\"\"\n",
    "        return float(self.a / self.b)\n",
    "\n",
    "class OperationsOnFraction(Fraction):\n",
    "    \n",
    "    def getint(self):\n",
    "        \"\"\"Возвращает целую часть дроби\"\"\"\n",
    "        return int(self)\n",
    "\n",
    "    def getfloat(self):\n",
    "        \"\"\"Возвращает представление дроби в виде числа с плавающей точкой\"\"\"\n",
    "        return float(self)\n",
    "\n",
    "num_a = Fraction(3, 2)\n",
    "print('num_a =', num_a)\n",
    "num_b = Fraction(4, 3)\n",
    "print('num_b =', num_b)\n",
    "print('num_a + num_b =', num_a + num_b)\n",
    "print('num_a + 3 = ', num_a + 3)\n",
    "print('num_a - num_b =', num_a - num_b)\n",
    "print('num_a + 3 = ', num_a - 4)\n",
    "print('num_a * num_b =', num_a * num_b)\n",
    "print('num_a * 3 = ', num_a * 4)\n",
    "print('int(num_a) = ', int(num_a))\n",
    "print('float(num_a) = ', float(num_a))\n",
    "\n",
    "num_c = OperationsOnFraction(5, 4)\n",
    "print('num_c =', num_c)\n",
    "print('num_c.getint = {}'.format(num_c.getint()))\n",
    "print('num_c.getfloat =', num_c.getfloat())\n"
   ]
  },
  {
   "cell_type": "code",
   "execution_count": null,
   "metadata": {},
   "outputs": [],
   "source": []
  }
 ],
 "metadata": {
  "kernelspec": {
   "display_name": "Python 3",
   "language": "python",
   "name": "python3"
  },
  "language_info": {
   "codemirror_mode": {
    "name": "ipython",
    "version": 3
   },
   "file_extension": ".py",
   "mimetype": "text/x-python",
   "name": "python",
   "nbconvert_exporter": "python",
   "pygments_lexer": "ipython3",
   "version": "3.7.4"
  }
 },
 "nbformat": 4,
 "nbformat_minor": 4
}
