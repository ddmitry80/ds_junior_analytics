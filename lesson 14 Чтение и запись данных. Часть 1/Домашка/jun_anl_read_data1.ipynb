{
 "cells": [
  {
   "cell_type": "markdown",
   "metadata": {},
   "source": [
    "# Чтение и запись данных. Часть 1\n",
    "\n",
    "## 1. Чтение текстовых файлов, файловые дескрипторы"
   ]
  },
  {
   "cell_type": "markdown",
   "metadata": {},
   "source": [
    "### 1.1\n",
    "\n",
    "**Простая задача** сформируйте объект класса dict, где ключ - это IP адрес, а значение - количество раз, которые этот ip встретился в тесте.\n",
    "\n",
    "*Результат выполнения*\n",
    "<pre>\n",
    "{'192.168.101.4': 1, '192.168.102.3': 2, '192.168.7.46': 1}\n",
    "</pre>"
   ]
  },
  {
   "cell_type": "code",
   "execution_count": 1,
   "metadata": {},
   "outputs": [
    {
     "name": "stdout",
     "output_type": "stream",
     "text": [
      "{}\n"
     ]
    }
   ],
   "source": [
    "file_path = '../data/uwsgi.log'\n",
    "ip_counter = dict()\n",
    "\n",
    "with open(file_path, 'r', encoding='utf8') as f:\n",
    "    for row in f:\n",
    "        ### YOUR CODE HERE ###\n",
    "        pass\n",
    "\n",
    "print(ip_counter)"
   ]
  },
  {
   "cell_type": "markdown",
   "metadata": {},
   "source": [
    "### 1.2\n",
    "**Задача среднего уровня** Распечатайте список URL, к которым происходил доступ. GET или POST параметры печатать не нужно.\n",
    "\n",
    "*Результат выполнения*\n",
    "<pre>\n",
    "/movie/is_personalizable/\n",
    "/logger/content/time/\n",
    "/movie/collection/items/recommendations/\n",
    "/movie/recommendations/\n",
    "</pre>"
   ]
  },
  {
   "cell_type": "code",
   "execution_count": 4,
   "metadata": {},
   "outputs": [],
   "source": [
    "file_path = '../data/uwsgi.log'\n",
    "\n",
    "with open(file_path, 'r', encoding='utf8') as f:\n",
    "    for row in f:\n",
    "        ### YOUR CODE HERE ###\n",
    "        pass"
   ]
  },
  {
   "cell_type": "markdown",
   "metadata": {},
   "source": [
    "### 1.3\n",
    "**Задача высокого уровня** Сформируйте объект класса dict, где ключ - это URL, а значение - это массив объектов python `datetime.datetime`: когда происходили запросы к этому URL.\n",
    "\n",
    "*Результат выполнения*\n",
    "<pre>\n",
    "{\n",
    "    '/movie/is_personalizable/': [datetime.datetime(2019, 2, 5, 21, 36, 7)],\n",
    "    '/logger/content/time/': [datetime.datetime(2019, 2, 5, 21, 36, 7)],\n",
    "    '/movie/collection/items/recommendations/': [datetime.datetime(2019, 2, 5, 21, 36, 7)],\n",
    "    '/movie/recommendations/': [datetime.datetime(2019, 2, 5, 21, 36, 7)]\n",
    "}\n",
    "</pre>"
   ]
  },
  {
   "cell_type": "code",
   "execution_count": 6,
   "metadata": {},
   "outputs": [
    {
     "name": "stdout",
     "output_type": "stream",
     "text": [
      "{}\n"
     ]
    }
   ],
   "source": [
    "import datetime\n",
    "file_path = '../data/uwsgi.log'\n",
    "\n",
    "access_dournal = dict()\n",
    "\n",
    "ip_counter = dict()\n",
    "\n",
    "with open(file_path, 'r', encoding='utf8') as f:\n",
    "    for row in f:\n",
    "        ### YOUR CODE HERE ###\n",
    "        pass\n",
    "\n",
    "print(access_dournal)"
   ]
  },
  {
   "cell_type": "markdown",
   "metadata": {},
   "source": [
    "## 2. Чтение csv файлов: модуль python csv"
   ]
  },
  {
   "cell_type": "markdown",
   "metadata": {},
   "source": [
    "### 2.1\n",
    "**Простая задача** Сформируйте словарь, в котором ключ - название столбца, а значение - массив записей в этом столбце.\n",
    "\n",
    "*Результат выполнения*\n",
    "<pre>\n",
    "{\n",
    "    'Код': ['HYDRA-535', 'HYDRA-534', 'HYDRA-532', 'HYDRA-531', 'HYDRA-530', 'HYDRA-527', 'HYDRA-524', 'HYDRA-523', 'HYDRA-520', 'HYDRA-519', 'HYDRA-518', 'HYDRA-517', 'HYDRA-514', 'HYDRA-513', 'HYDRA-511', 'HYDRA-510', 'HYDRA-509', 'HYDRA-507', 'HYDRA-506'],\n",
    "    'Тема': ['Пробрасывать пользовательское распределение paid_types в ехидну', 'Гибридный рекомендатель с multi-channel feedback', 'Джоба в дженкинсе для расчёта динамики РВП', 'Интеграция Hydra с Gamora', 'Тестируем интеграцию с Jira', 'Поправить функцию _get_ui_rec_matrix', 'Оптимизировать матрицу ItemFactors', 'Сортировка ЦПБ', 'Закостылить параметр top', \"Сделать 'stable' конфигом по умолчанию в Гидре\", 'Неудобно тестировать запись в redis', 'Улучшить рекомендации (первая итерация)', 'Добавить логирование в скрипты hydra/bin', 'Поправить storage_backend', 'Перемешивание рекомендаций для старых пользователей', 'Поправить скрипты bpr и и оценщика', 'Динамические персональные рекомендации', 'Навести порядок в prepare_data_for_hydra', 'Техдолг по логике /collection/recommendations/'],\n",
    "    'Компонент': ['echidna', 'hydra', 'hydramatrices', 'hydramagrices', 'hydra', 'hydra', 'hydra', 'hydra', 'hydra', 'hydra', 'hydramatrices', 'hydra', 'hydramagrices', 'hydramatrices', 'hydra', 'hydra_utils', 'hydra', 'hydramagrices', 'hydra'],\n",
    "    'Затрачено в часах': ['1', '3', '2', '4', '2', '10', '2', '5', '2', '2', '1', '7', '5', '2', '5', '16', '10', '3', '24']\n",
    "}\n",
    "</pre>"
   ]
  },
  {
   "cell_type": "code",
   "execution_count": 8,
   "metadata": {},
   "outputs": [
    {
     "name": "stdout",
     "output_type": "stream",
     "text": [
      "{'192.168.101.4 - - [05/Feb/2019:21:36:07 +0300] \"GET /movie/is_personalizable/?history_type=watch&uid=5734473158358418&master_uid=5734473158358418 HTTP/1.1\" 200 75 \"-\" \"python-requests/2.0.0 CPython/2.7.3 Linux/4.4.0-47-generic\"': []}\n"
     ]
    }
   ],
   "source": [
    "import csv\n",
    "columns_dict = dict()\n",
    "file_path = './data/task.csv'\n",
    "\n",
    "\n",
    "with open(file_path, newline='', encoding='utf8') as csvfile:\n",
    "    reader = csv.DictReader(csvfile)\n",
    "    for col_name in reader.fieldnames:\n",
    "        columns_dict[col_name] = []\n",
    "    for row in reader:\n",
    "        ### YOUR CODE HERE ###\n",
    "        pass\n",
    "\n",
    "print(columns_dict)"
   ]
  },
  {
   "cell_type": "markdown",
   "metadata": {},
   "source": [
    "### 2.2\n",
    "**Задача среднего уровня** Посчитайте статистику по колонке \"Затрачено в часах\" (это человеко-часы, затраченные на задачу) – максимальное значение, минимальное значение, среднее значение. Воспользуйтесь словарём `columns_dict` из задания 2.1\n",
    "\n",
    "*Результат выполнения*\n",
    "<pre>\n",
    "min_val=1, max_val=24, mean_val=5.578947368421052\n",
    "\n",
    "</pre>"
   ]
  },
  {
   "cell_type": "code",
   "execution_count": 9,
   "metadata": {},
   "outputs": [
    {
     "name": "stdout",
     "output_type": "stream",
     "text": [
      "min_val=None, max_val=None, mean_val=None\n"
     ]
    }
   ],
   "source": [
    "min_val, max_val, mean_val = None, None, None\n",
    "\n",
    "\n",
    "### YOUR CODE HERE ###\n",
    "print(\"min_val={}, max_val={}, mean_val={}\".format(min_val, max_val, mean_val))"
   ]
  },
  {
   "cell_type": "markdown",
   "metadata": {},
   "source": [
    "### 2.3\n",
    "**Задача высокого уровня** Сколько человеко-часов было потрачено на задачи, в которых встречается слово \"рекомендации\" в любых формах, а сколько на остальные задачи (в процентах)?\n",
    "\n",
    "Подсказка - проверка на наличие нужного слова в тексте `txt` выглядит так:"
   ]
  },
  {
   "cell_type": "code",
   "execution_count": 3,
   "metadata": {},
   "outputs": [
    {
     "name": "stdout",
     "output_type": "stream",
     "text": [
      "True False\n"
     ]
    }
   ],
   "source": [
    "print('рек' in 'Я делаю рекомендательную систему', 'рек' in 'кек')"
   ]
  },
  {
   "cell_type": "markdown",
   "metadata": {},
   "source": [
    "*Результат выполнения*\n",
    "<pre>\n",
    "{'recs': 2, 'non_recs': 17}\n",
    "</pre>"
   ]
  },
  {
   "cell_type": "code",
   "execution_count": 10,
   "metadata": {},
   "outputs": [],
   "source": [
    "file_path = './data/task.csv'\n",
    "task_recs_counter = {'recs': 1, 'non_recs': 2}\n",
    "\n",
    "with open(file_path, newline='') as csvfile:\n",
    "    reader = csv.DictReader(csvfile)\n",
    "    for row in reader:\n",
    "        ### YOUR CODE HERE ###\n",
    "        pass\n",
    "\n",
    "print(task_recs_counter)"
   ]
  },
  {
   "cell_type": "markdown",
   "metadata": {},
   "source": [
    "## 3. Чтение csv файлов: модуль pandas"
   ]
  },
  {
   "cell_type": "markdown",
   "metadata": {},
   "source": [
    "### 3.1\n",
    "\n",
    "**Простое задание** добавьте столбец `num_tasks`, где отражено количество задач, выполненное внутри каждого компонента. Колонка `mean_val` со средним значением поля 'Затрачено в часах' уже добавлена в качестве примера.\n",
    "\n",
    "Чтобы выполнить задание, поправьте словарь `aggregation_json`"
   ]
  },
  {
   "cell_type": "code",
   "execution_count": 15,
   "metadata": {},
   "outputs": [
    {
     "name": "stderr",
     "output_type": "stream",
     "text": [
      "/home/adzhumurat/jupyter_notebooks/.venv/lib/python3.6/site-packages/pandas/core/groupby/generic.py:1315: FutureWarning: using a dict with renaming is deprecated and will be removed in a future version\n",
      "  return super(DataFrameGroupBy, self).aggregate(arg, *args, **kwargs)\n"
     ]
    },
    {
     "data": {
      "text/html": [
       "<div>\n",
       "<style scoped>\n",
       "    .dataframe tbody tr th:only-of-type {\n",
       "        vertical-align: middle;\n",
       "    }\n",
       "\n",
       "    .dataframe tbody tr th {\n",
       "        vertical-align: top;\n",
       "    }\n",
       "\n",
       "    .dataframe thead th {\n",
       "        text-align: right;\n",
       "    }\n",
       "</style>\n",
       "<table border=\"1\" class=\"dataframe\">\n",
       "  <thead>\n",
       "    <tr style=\"text-align: right;\">\n",
       "      <th></th>\n",
       "      <th>mean_val</th>\n",
       "    </tr>\n",
       "    <tr>\n",
       "      <th>Компонент</th>\n",
       "      <th></th>\n",
       "    </tr>\n",
       "  </thead>\n",
       "  <tbody>\n",
       "    <tr>\n",
       "      <th>echidna</th>\n",
       "      <td>1.000000</td>\n",
       "    </tr>\n",
       "    <tr>\n",
       "      <th>hydra</th>\n",
       "      <td>6.545455</td>\n",
       "    </tr>\n",
       "    <tr>\n",
       "      <th>hydra_utils</th>\n",
       "      <td>16.000000</td>\n",
       "    </tr>\n",
       "    <tr>\n",
       "      <th>hydramagrices</th>\n",
       "      <td>4.000000</td>\n",
       "    </tr>\n",
       "    <tr>\n",
       "      <th>hydramatrices</th>\n",
       "      <td>1.666667</td>\n",
       "    </tr>\n",
       "  </tbody>\n",
       "</table>\n",
       "</div>"
      ],
      "text/plain": [
       "                mean_val\n",
       "Компонент               \n",
       "echidna         1.000000\n",
       "hydra           6.545455\n",
       "hydra_utils    16.000000\n",
       "hydramagrices   4.000000\n",
       "hydramatrices   1.666667"
      ]
     },
     "execution_count": 15,
     "metadata": {},
     "output_type": "execute_result"
    }
   ],
   "source": [
    "import numpy as np\n",
    "import pandas as pd\n",
    "\n",
    "file_path = '../data/task.csv'\n",
    "\n",
    "df = pd.read_csv(file_path)\n",
    "\n",
    "### YOUR CODE HERE ###\n",
    "aggregation_json = {\n",
    " 'Затрачено в часах': {\n",
    "  'mean_val': np.mean}\n",
    "}\n",
    "\n",
    "df.groupby(by=['Компонент'])[['Затрачено в часах']].aggregate(aggregation_json)"
   ]
  },
  {
   "cell_type": "markdown",
   "metadata": {},
   "source": [
    "### 3.2\n",
    "**Задание среднего уровня** Добавьте (в виде `list`) для каждого компонента набор задач, который был в этом компоненте выполнен (идентификаторы содержатся в поле \"Код\"). Для этого замените `.aggregate()` на `.apply(list)`\n",
    "\n",
    "Пример:"
   ]
  },
  {
   "cell_type": "code",
   "execution_count": 14,
   "metadata": {},
   "outputs": [
    {
     "name": "stdout",
     "output_type": "stream",
     "text": [
      "Исходный DataFrame:\n",
      "  key  val\n",
      "0   a    1\n",
      "1   a    2\n",
      "Применяем apply:\n"
     ]
    },
    {
     "data": {
      "text/plain": [
       "key\n",
       "a    [1, 2]\n",
       "Name: val, dtype: object"
      ]
     },
     "execution_count": 14,
     "metadata": {},
     "output_type": "execute_result"
    }
   ],
   "source": [
    "import pandas as pd\n",
    "\n",
    "print('Исходный DataFrame:')\n",
    "a = pd.DataFrame({'key':['a', 'a'], 'val':[1, 2]})\n",
    "print(a)\n",
    "print('Применяем apply:')\n",
    "a.groupby('key')['val'].apply(list)"
   ]
  },
  {
   "cell_type": "markdown",
   "metadata": {},
   "source": [
    "Результат выполнения\n",
    "\n",
    "<pre>\n",
    "Компонент\n",
    "echidna                                                [HYDRA-535]\n",
    "hydra            [HYDRA-534, HYDRA-530, HYDRA-527, HYDRA-524, H...\n",
    "hydra_utils                                            [HYDRA-510]\n",
    "hydramagrices                    [HYDRA-531, HYDRA-514, HYDRA-507]\n",
    "hydramatrices                    [HYDRA-532, HYDRA-518, HYDRA-513]\n",
    "</pre>"
   ]
  },
  {
   "cell_type": "code",
   "execution_count": 15,
   "metadata": {},
   "outputs": [
    {
     "data": {
      "text/html": [
       "<div>\n",
       "<style scoped>\n",
       "    .dataframe tbody tr th:only-of-type {\n",
       "        vertical-align: middle;\n",
       "    }\n",
       "\n",
       "    .dataframe tbody tr th {\n",
       "        vertical-align: top;\n",
       "    }\n",
       "\n",
       "    .dataframe thead th {\n",
       "        text-align: right;\n",
       "    }\n",
       "</style>\n",
       "<table border=\"1\" class=\"dataframe\">\n",
       "  <thead>\n",
       "    <tr style=\"text-align: right;\">\n",
       "      <th></th>\n",
       "    </tr>\n",
       "  </thead>\n",
       "  <tbody>\n",
       "  </tbody>\n",
       "</table>\n",
       "</div>"
      ],
      "text/plain": [
       "Empty DataFrame\n",
       "Columns: []\n",
       "Index: []"
      ]
     },
     "execution_count": 15,
     "metadata": {},
     "output_type": "execute_result"
    }
   ],
   "source": [
    "### YOUR CODE HERE ###\n",
    "codes_list_df = pd.DataFrame()\n",
    "\n",
    "codes_list_df.head()"
   ]
  },
  {
   "cell_type": "markdown",
   "metadata": {},
   "source": [
    "### 3.3\n",
    "**Задание высокого уровня** Составьте DataFrame с двумя колонками: среднее время на задачу и список задач `codes_list_df` внутри каждого \"Компонента\". Подсказка: подготовьте два датафрейма и используйте [функцию merge](https://pandas.pydata.org/pandas-docs/stable/reference/api/pandas.DataFrame.merge.html)"
   ]
  },
  {
   "cell_type": "code",
   "execution_count": 17,
   "metadata": {},
   "outputs": [],
   "source": [
    "### YOUR CODE HERE ###\n",
    "aggregation_json = {\n",
    " 'Затрачено в часах': {'mean_val': np.mean}\n",
    "}\n"
   ]
  },
  {
   "cell_type": "markdown",
   "metadata": {},
   "source": [
    "## 4.  Работа с данными формата HTML"
   ]
  },
  {
   "cell_type": "markdown",
   "metadata": {},
   "source": [
    "### 4.1\n",
    "**Задание простого уровня** Распечатайте список курсов по программированию от Skillbox."
   ]
  },
  {
   "cell_type": "code",
   "execution_count": 21,
   "metadata": {},
   "outputs": [],
   "source": [
    "import requests\n",
    "from lxml import html\n",
    "\n",
    "page = requests.get('https://skillbox.ru/courses/code').content\n",
    "\n",
    "### YOUR CODE HERE ###\n",
    "\n",
    "html_tree = html.fromstring( )\n",
    "\n",
    "items_list = html_tree.xpath(\"//a[@class='{}']\".format(' '))\n",
    "    "
   ]
  },
  {
   "cell_type": "markdown",
   "metadata": {},
   "source": [
    "### 4.2\n",
    "\n",
    "**Задание среднего уровня**. Выведите список всех курсов Skillbox по программированию, дизайну, маркетингу и управлению. Добавьте к каждому курсу ссылку http на этот курс на сайте Skillbox."
   ]
  },
  {
   "cell_type": "markdown",
   "metadata": {},
   "source": [
    "*Результат выполнения*\n",
    "<pre>\n",
    "Курс: Веб-дизайн с нуля до PRO  link:  https://skillbox.ru/webdesign/\n",
    "Курс: Рекламная графика  link:  https://skillbox.ru/cpeople/\n",
    "Курс: UX-дизайн  link:  https://skillbox.ru/aic/\n",
    "</pre>"
   ]
  },
  {
   "cell_type": "code",
   "execution_count": 17,
   "metadata": {},
   "outputs": [],
   "source": [
    "### YOUR CODE HERE ###\n",
    "\n",
    "\n"
   ]
  },
  {
   "cell_type": "markdown",
   "metadata": {},
   "source": [
    "### 4.3\n",
    "**Задание высокого уровня**. Напишите код, который переходит по ссылкам на страницы курсов по программированию из предыдущего задания и распечатывает описание курса."
   ]
  },
  {
   "cell_type": "code",
   "execution_count": 22,
   "metadata": {
    "scrolled": true
   },
   "outputs": [
    {
     "data": {
      "text/html": [
       "<div>\n",
       "<style scoped>\n",
       "    .dataframe tbody tr th:only-of-type {\n",
       "        vertical-align: middle;\n",
       "    }\n",
       "\n",
       "    .dataframe tbody tr th {\n",
       "        vertical-align: top;\n",
       "    }\n",
       "\n",
       "    .dataframe thead th {\n",
       "        text-align: right;\n",
       "    }\n",
       "</style>\n",
       "<table border=\"1\" class=\"dataframe\">\n",
       "  <thead>\n",
       "    <tr style=\"text-align: right;\">\n",
       "      <th></th>\n",
       "      <th>link</th>\n",
       "      <th>descr</th>\n",
       "    </tr>\n",
       "  </thead>\n",
       "  <tbody>\n",
       "  </tbody>\n",
       "</table>\n",
       "</div>"
      ],
      "text/plain": [
       "Empty DataFrame\n",
       "Columns: [link, descr]\n",
       "Index: []"
      ]
     },
     "execution_count": 22,
     "metadata": {},
     "output_type": "execute_result"
    }
   ],
   "source": [
    "import requests\n",
    "\n",
    "links = []\n",
    "descr = []\n",
    "\n",
    "for course in items_list:\n",
    "    pass\n",
    "\n",
    "result_df = pd.DataFrame({\n",
    "    'link': links,\n",
    "    'descr': descr\n",
    "})\n",
    "\n",
    "result_df.head()"
   ]
  },
  {
   "cell_type": "markdown",
   "metadata": {},
   "source": [
    "## 5. Работа с данными формата XML"
   ]
  },
  {
   "cell_type": "markdown",
   "metadata": {},
   "source": [
    "### 5.1\n",
    "\n",
    "**Задание начального уровня** Распечатайте все фильмы (а не только драмы) в формате: `название фильма: жанр`"
   ]
  },
  {
   "cell_type": "code",
   "execution_count": 23,
   "metadata": {},
   "outputs": [],
   "source": [
    "from xml.etree import ElementTree\n",
    "\n",
    "file_path = '../data/xml_content_description.xml'\n",
    "\n",
    "with open(file_path) as f:\n",
    "    ### YOUR CODE HERE ###\n",
    "    pass"
   ]
  },
  {
   "cell_type": "markdown",
   "metadata": {},
   "source": [
    "### 5.2\n",
    "**Задание среднего уровня** Посчитайте среднюю длительность контента в файле. xml_content_description"
   ]
  },
  {
   "cell_type": "code",
   "execution_count": 24,
   "metadata": {
    "scrolled": true
   },
   "outputs": [
    {
     "name": "stdout",
     "output_type": "stream",
     "text": [
      "avg_duration=0.0\n"
     ]
    }
   ],
   "source": [
    "import math\n",
    "from xml.etree import ElementTree\n",
    "\n",
    "file_path = '../data/xml_content_description.xml'\n",
    "duration = []\n",
    "\n",
    "with open(file_path) as f:\n",
    "    ### YOUR CODE HERE ###\n",
    "    pass\n",
    "\n",
    "num_content = 1\n",
    "\n",
    "print(\"avg_duration={}\".format(sum(duration)/num_content))"
   ]
  },
  {
   "cell_type": "markdown",
   "metadata": {},
   "source": [
    "### 5.3\n",
    "**Задание высокого уровня** Если речь идёт о продакшн-системах машинного обучения, то данные могут приходить в форматах, мало пригодных для использования - например XML. В таких случаях приходится приводить данные к превычному табличному формату - такой кейс мы решим в рамках домашней работы.\n",
    "\n",
    "Нужно определить, сколько полей будет в выходном файле и как залить в него данные\n",
    "\n",
    "Алгоритм\n",
    "* сформируйте массив словарей `content_list`, где каждый элемент массива - это словарь вида `{tag1: value1,...,tag_n:value_n}`\n",
    "* каждый результат findall можно итеративно обойти, распечатав тэг и его значение в виде\n",
    "<pre>\n",
    "        for i in movie:\n",
    "            print(i.text, i.tag)\n",
    "</pre>\n",
    "* из полученного словаря сформируйте DataFrame с тремя колонками: `movie_id | tag | value` (movie_id соответствует номеру словаря среди всех словарей `content_list`)\n",
    "* сохраните Dataframe c помощью функции `.to_csv()`"
   ]
  },
  {
   "cell_type": "code",
   "execution_count": 25,
   "metadata": {},
   "outputs": [],
   "source": [
    "# имя входного файла XML\n",
    "input_file = './data/xml_content_description.xml'\n",
    "# имя выходного файла CSV\n",
    "output_file = 'csv_content_description.csv'\n",
    "\n",
    "### YOUR CODE HERE ###\n",
    "\n",
    "# читаем входной файл\n",
    "content_list = [] \n",
    "# пишем выходной файл"
   ]
  }
 ],
 "metadata": {
  "kernelspec": {
   "display_name": "Python 3",
   "language": "python",
   "name": "python3"
  },
  "language_info": {
   "codemirror_mode": {
    "name": "ipython",
    "version": 3
   },
   "file_extension": ".py",
   "mimetype": "text/x-python",
   "name": "python",
   "nbconvert_exporter": "python",
   "pygments_lexer": "ipython3",
   "version": "3.7.4"
  }
 },
 "nbformat": 4,
 "nbformat_minor": 4
}
