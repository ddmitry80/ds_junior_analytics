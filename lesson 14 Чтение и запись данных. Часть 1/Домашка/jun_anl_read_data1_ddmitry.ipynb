{
 "cells": [
  {
   "cell_type": "markdown",
   "metadata": {},
   "source": [
    "# Чтение и запись данных. Часть 1\n",
    "\n",
    "## 1. Чтение текстовых файлов, файловые дескрипторы"
   ]
  },
  {
   "cell_type": "markdown",
   "metadata": {},
   "source": [
    "### 1.1\n",
    "\n",
    "**Простая задача** сформируйте объект класса dict, где ключ - это IP адрес, а значение - количество раз, которые этот ip встретился в тесте.\n",
    "\n",
    "*Результат выполнения*\n",
    "<pre>\n",
    "{'192.168.101.4': 1, '192.168.102.3': 2, '192.168.7.46': 1}\n",
    "</pre>"
   ]
  },
  {
   "cell_type": "code",
   "execution_count": 1,
   "metadata": {},
   "outputs": [
    {
     "name": "stdout",
     "output_type": "stream",
     "text": [
      "{'192.168.101.4': 1, '192.168.102.3': 2, '192.168.7.46': 1}\n"
     ]
    }
   ],
   "source": [
    "file_path = 'data/uwsgi.log'\n",
    "ip_counter = dict()\n",
    "\n",
    "with open(file_path, 'r', encoding='utf8') as f:\n",
    "    for row in f:\n",
    "        ### YOUR CODE HERE ###\n",
    "        ip = row.split(' ')[0]\n",
    "        if len(ip.split('.')) == 4:\n",
    "            if ip not in ip_counter: ip_counter[ip] = 1\n",
    "            else: ip_counter[ip] += 1\n",
    "\n",
    "print(ip_counter)"
   ]
  },
  {
   "cell_type": "markdown",
   "metadata": {},
   "source": [
    "### 1.2\n",
    "**Задача среднего уровня** Распечатайте список URL, к которым происходил доступ. GET или POST параметры печатать не нужно.\n",
    "\n",
    "*Результат выполнения*\n",
    "<pre>\n",
    "/movie/is_personalizable/\n",
    "/logger/content/time/\n",
    "/movie/collection/items/recommendations/\n",
    "/movie/recommendations/\n",
    "</pre>"
   ]
  },
  {
   "cell_type": "code",
   "execution_count": 2,
   "metadata": {},
   "outputs": [
    {
     "name": "stdout",
     "output_type": "stream",
     "text": [
      "/movie/is_personalizable/\n",
      "/logger/content/time/\n",
      "/movie/collection/items/recommendations/\n",
      "/movie/recommendations/\n"
     ]
    }
   ],
   "source": [
    "file_path = 'data/uwsgi.log'\n",
    "\n",
    "with open(file_path, 'r', encoding='utf8') as f:\n",
    "    for row in f:\n",
    "        ### YOUR CODE HERE ###\n",
    "        try:\n",
    "            pos = row.index('GET') + 4\n",
    "            print(row[pos:-1].split('?')[0])\n",
    "        except ValueError:\n",
    "            pass\n",
    "        try:\n",
    "            pos = row.index('POST') + 5\n",
    "            print(row[pos:-1].split(' ')[0])\n",
    "        except ValueError:\n",
    "            pass\n",
    "          "
   ]
  },
  {
   "cell_type": "markdown",
   "metadata": {},
   "source": [
    "### 1.3\n",
    "**Задача высокого уровня** Сформируйте объект класса dict, где ключ - это URL, а значение - это массив объектов python `datetime.datetime`: когда происходили запросы к этому URL.\n",
    "\n",
    "*Результат выполнения*\n",
    "<pre>\n",
    "{\n",
    "    '/movie/is_personalizable/': [datetime.datetime(2019, 2, 5, 21, 36, 7)],\n",
    "    '/logger/content/time/': [datetime.datetime(2019, 2, 5, 21, 36, 7)],\n",
    "    '/movie/collection/items/recommendations/': [datetime.datetime(2019, 2, 5, 21, 36, 7)],\n",
    "    '/movie/recommendations/': [datetime.datetime(2019, 2, 5, 21, 36, 7)]\n",
    "}\n",
    "</pre>"
   ]
  },
  {
   "cell_type": "code",
   "execution_count": 3,
   "metadata": {},
   "outputs": [
    {
     "name": "stdout",
     "output_type": "stream",
     "text": [
      "req=/movie/is_personalizable/, date_str=05/Feb/2019:21:36:07, date=2019-02-05 21:36:07\n",
      "req=/logger/content/time/, date_str=05/Feb/2019:21:36:07, date=2019-02-05 21:36:07\n",
      "req=/movie/collection/items/recommendations/, date_str=05/Feb/2019:21:36:07, date=2019-02-05 21:36:07\n",
      "req=/movie/recommendations/, date_str=05/Feb/2019:21:36:07, date=2019-02-05 21:36:07\n",
      "\n",
      "{'/movie/is_personalizable/': datetime.datetime(2019, 2, 5, 21, 36, 7), '/logger/content/time/': datetime.datetime(2019, 2, 5, 21, 36, 7), '/movie/collection/items/recommendations/': datetime.datetime(2019, 2, 5, 21, 36, 7), '/movie/recommendations/': datetime.datetime(2019, 2, 5, 21, 36, 7)}\n"
     ]
    }
   ],
   "source": [
    "import datetime\n",
    "file_path = 'data/uwsgi.log'\n",
    "\n",
    "access_dournal = dict()\n",
    "\n",
    "ip_counter = dict()\n",
    "\n",
    "with open(file_path, 'r', encoding='utf8') as f:\n",
    "    for row in f:\n",
    "        ### YOUR CODE HERE ###\n",
    "        req = ''\n",
    "        try:\n",
    "            pos = row.index('GET') + 4\n",
    "            req = row[pos:-1].split('?')[0]\n",
    "        except ValueError:\n",
    "            pass\n",
    "        try:\n",
    "            pos = row.index('POST') + 5\n",
    "            req = row[pos:-1].split(' ')[0]\n",
    "        except ValueError:\n",
    "            pass\n",
    "        if len(req) > 0:\n",
    "            date_str = row.split(' ')[3]\n",
    "            date_str = date_str[1:]\n",
    "            date = datetime.datetime.strptime(date_str, '%d/%b/%Y:%H:%M:%S')\n",
    "            print(f'req={req}, date_str={date_str}, date={date}')\n",
    "            access_dournal[req] = date\n",
    "print('')\n",
    "print(access_dournal)"
   ]
  },
  {
   "cell_type": "markdown",
   "metadata": {},
   "source": [
    "## 2. Чтение csv файлов: модуль python csv"
   ]
  },
  {
   "cell_type": "markdown",
   "metadata": {},
   "source": [
    "### 2.1\n",
    "**Простая задача** Сформируйте словарь, в котором ключ - название столбца, а значение - массив записей в этом столбце.\n",
    "\n",
    "*Результат выполнения*\n",
    "<pre>\n",
    "{\n",
    "    'Код': ['HYDRA-535', 'HYDRA-534', 'HYDRA-532', 'HYDRA-531', 'HYDRA-530', 'HYDRA-527', 'HYDRA-524', 'HYDRA-523', 'HYDRA-520', 'HYDRA-519', 'HYDRA-518', 'HYDRA-517', 'HYDRA-514', 'HYDRA-513', 'HYDRA-511', 'HYDRA-510', 'HYDRA-509', 'HYDRA-507', 'HYDRA-506'],\n",
    "    'Тема': ['Пробрасывать пользовательское распределение paid_types в ехидну', 'Гибридный рекомендатель с multi-channel feedback', 'Джоба в дженкинсе для расчёта динамики РВП', 'Интеграция Hydra с Gamora', 'Тестируем интеграцию с Jira', 'Поправить функцию _get_ui_rec_matrix', 'Оптимизировать матрицу ItemFactors', 'Сортировка ЦПБ', 'Закостылить параметр top', \"Сделать 'stable' конфигом по умолчанию в Гидре\", 'Неудобно тестировать запись в redis', 'Улучшить рекомендации (первая итерация)', 'Добавить логирование в скрипты hydra/bin', 'Поправить storage_backend', 'Перемешивание рекомендаций для старых пользователей', 'Поправить скрипты bpr и и оценщика', 'Динамические персональные рекомендации', 'Навести порядок в prepare_data_for_hydra', 'Техдолг по логике /collection/recommendations/'],\n",
    "    'Компонент': ['echidna', 'hydra', 'hydramatrices', 'hydramagrices', 'hydra', 'hydra', 'hydra', 'hydra', 'hydra', 'hydra', 'hydramatrices', 'hydra', 'hydramagrices', 'hydramatrices', 'hydra', 'hydra_utils', 'hydra', 'hydramagrices', 'hydra'],\n",
    "    'Затрачено в часах': ['1', '3', '2', '4', '2', '10', '2', '5', '2', '2', '1', '7', '5', '2', '5', '16', '10', '3', '24']\n",
    "}\n",
    "</pre>"
   ]
  },
  {
   "cell_type": "code",
   "execution_count": 4,
   "metadata": {},
   "outputs": [
    {
     "name": "stdout",
     "output_type": "stream",
     "text": [
      "{'Код': ['HYDRA-535', 'HYDRA-534', 'HYDRA-532', 'HYDRA-531', 'HYDRA-530', 'HYDRA-527', 'HYDRA-524', 'HYDRA-523', 'HYDRA-520', 'HYDRA-519', 'HYDRA-518', 'HYDRA-517', 'HYDRA-514', 'HYDRA-513', 'HYDRA-511', 'HYDRA-510', 'HYDRA-509', 'HYDRA-507', 'HYDRA-506'], 'Тема': ['Пробрасывать пользовательское распределение paid_types в ехидну', 'Гибридный рекомендатель с multi-channel feedback', 'Джоба в дженкинсе для расчёта динамики РВП', 'Интеграция Hydra с Gamora', 'Тестируем интеграцию с Jira', 'Поправить функцию _get_ui_rec_matrix', 'Оптимизировать матрицу ItemFactors', 'Сортировка ЦПБ', 'Закостылить параметр top', \"Сделать 'stable' конфигом по умолчанию в Гидре\", 'Неудобно тестировать запись в redis', 'Улучшить рекомендации (первая итерация)', 'Добавить логирование в скрипты hydra/bin', 'Поправить storage_backend', 'Перемешивание рекомендаций для старых пользователей', 'Поправить скрипты bpr и и оценщика', 'Динамические персональные рекомендации', 'Навести порядок в prepare_data_for_hydra', 'Техдолг по логике /collection/recommendations/'], 'Компонент': ['echidna', 'hydra', 'hydramatrices', 'hydramagrices', 'hydra', 'hydra', 'hydra', 'hydra', 'hydra', 'hydra', 'hydramatrices', 'hydra', 'hydramagrices', 'hydramatrices', 'hydra', 'hydra_utils', 'hydra', 'hydramagrices', 'hydra'], 'Затрачено в часах': ['1', '3', '2', '4', '2', '10', '2', '5', '2', '2', '1', '7', '5', '2', '5', '16', '10', '3', '24']}\n"
     ]
    }
   ],
   "source": [
    "import csv\n",
    "columns_dict = dict()\n",
    "file_path = './data/task.csv'\n",
    "\n",
    "\n",
    "with open(file_path, newline='', encoding='utf8') as csvfile:\n",
    "    reader = csv.DictReader(csvfile)\n",
    "    for col_name in reader.fieldnames:\n",
    "        columns_dict[col_name] = []\n",
    "    for row in reader:\n",
    "        ### YOUR CODE HERE ###\n",
    "        for field in reader.fieldnames:\n",
    "            columns_dict[field].append(row[field])\n",
    "\n",
    "print(columns_dict)"
   ]
  },
  {
   "cell_type": "markdown",
   "metadata": {},
   "source": [
    "### 2.2\n",
    "**Задача среднего уровня** Посчитайте статистику по колонке \"Затрачено в часах\" (это человеко-часы, затраченные на задачу) – максимальное значение, минимальное значение, среднее значение. Воспользуйтесь словарём `columns_dict` из задания 2.1\n",
    "\n",
    "*Результат выполнения*\n",
    "<pre>\n",
    "min_val=1, max_val=24, mean_val=5.578947368421052\n",
    "\n",
    "</pre>"
   ]
  },
  {
   "cell_type": "code",
   "execution_count": 5,
   "metadata": {},
   "outputs": [
    {
     "name": "stdout",
     "output_type": "stream",
     "text": [
      "min_val=1, max_val=24, mean_val=5.578947368421052\n"
     ]
    }
   ],
   "source": [
    "min_val, max_val, mean_val = None, None, None\n",
    "\n",
    "\n",
    "### YOUR CODE HERE ###\n",
    "import numpy as np\n",
    "data = np.array(columns_dict['Затрачено в часах'], dtype = 'int')\n",
    "min_val = np.min(data)\n",
    "max_val = data.max()\n",
    "mean_val = data.mean()\n",
    "print(\"min_val={}, max_val={}, mean_val={}\".format(min_val, max_val, mean_val))"
   ]
  },
  {
   "cell_type": "markdown",
   "metadata": {},
   "source": [
    "### 2.3\n",
    "**Задача высокого уровня** Сколько человеко-часов было потрачено на задачи, в которых встречается слово \"рекомендации\" в любых формах, а сколько на остальные задачи (в процентах)?\n",
    "\n",
    "Подсказка - проверка на наличие нужного слова в тексте `txt` выглядит так:"
   ]
  },
  {
   "cell_type": "code",
   "execution_count": 6,
   "metadata": {},
   "outputs": [
    {
     "name": "stdout",
     "output_type": "stream",
     "text": [
      "True False\n"
     ]
    }
   ],
   "source": [
    "print('рек' in 'Я делаю рекомендательную систему', 'рек' in 'кек')"
   ]
  },
  {
   "cell_type": "markdown",
   "metadata": {},
   "source": [
    "*Результат выполнения*\n",
    "<pre>\n",
    "{'recs': 2, 'non_recs': 17}\n",
    "</pre>"
   ]
  },
  {
   "cell_type": "code",
   "execution_count": 7,
   "metadata": {},
   "outputs": [
    {
     "name": "stdout",
     "output_type": "stream",
     "text": [
      "{'recs': 2, 'non_recs': 17}\n"
     ]
    }
   ],
   "source": [
    "file_path = './data/task.csv'\n",
    "# task_recs_counter = {'recs': 1, 'non_recs': 2}\n",
    "task_recs_counter = {'recs': 0, 'non_recs': 0}\n",
    "\n",
    "with open(file_path, newline='') as csvfile:\n",
    "    reader = csv.DictReader(csvfile)\n",
    "    for row in reader:\n",
    "        ### YOUR CODE HERE ###\n",
    "#         print('рекомендации' in row['Тема'], row['Тема'])\n",
    "        if ('рекомендации' in row['Тема']): \n",
    "            task_recs_counter['recs'] += 1\n",
    "        else:\n",
    "            task_recs_counter['non_recs'] += 1\n",
    "            \n",
    "\n",
    "print(task_recs_counter)"
   ]
  },
  {
   "cell_type": "markdown",
   "metadata": {},
   "source": [
    "## 3. Чтение csv файлов: модуль pandas"
   ]
  },
  {
   "cell_type": "markdown",
   "metadata": {},
   "source": [
    "### 3.1\n",
    "\n",
    "**Простое задание** добавьте столбец `num_tasks`, где отражено количество задач, выполненное внутри каждого компонента. Колонка `mean_val` со средним значением поля 'Затрачено в часах' уже добавлена в качестве примера.\n",
    "\n",
    "Чтобы выполнить задание, поправьте словарь `aggregation_json`"
   ]
  },
  {
   "cell_type": "code",
   "execution_count": 8,
   "metadata": {},
   "outputs": [
    {
     "name": "stderr",
     "output_type": "stream",
     "text": [
      "/home/dmitry/anaconda3/lib/python3.7/site-packages/pandas/core/groupby/generic.py:1455: FutureWarning: using a dict with renaming is deprecated and will be removed\n",
      "in a future version.\n",
      "\n",
      "For column-specific groupby renaming, use named aggregation\n",
      "\n",
      "    >>> df.groupby(...).agg(name=('column', aggfunc))\n",
      "\n",
      "  return super().aggregate(arg, *args, **kwargs)\n"
     ]
    },
    {
     "data": {
      "text/html": [
       "<div>\n",
       "<style scoped>\n",
       "    .dataframe tbody tr th:only-of-type {\n",
       "        vertical-align: middle;\n",
       "    }\n",
       "\n",
       "    .dataframe tbody tr th {\n",
       "        vertical-align: top;\n",
       "    }\n",
       "\n",
       "    .dataframe thead th {\n",
       "        text-align: right;\n",
       "    }\n",
       "</style>\n",
       "<table border=\"1\" class=\"dataframe\">\n",
       "  <thead>\n",
       "    <tr style=\"text-align: right;\">\n",
       "      <th></th>\n",
       "      <th>mean_val</th>\n",
       "      <th>num_tasks</th>\n",
       "    </tr>\n",
       "    <tr>\n",
       "      <th>Компонент</th>\n",
       "      <th></th>\n",
       "      <th></th>\n",
       "    </tr>\n",
       "  </thead>\n",
       "  <tbody>\n",
       "    <tr>\n",
       "      <td>echidna</td>\n",
       "      <td>1.000000</td>\n",
       "      <td>1</td>\n",
       "    </tr>\n",
       "    <tr>\n",
       "      <td>hydra</td>\n",
       "      <td>6.545455</td>\n",
       "      <td>11</td>\n",
       "    </tr>\n",
       "    <tr>\n",
       "      <td>hydra_utils</td>\n",
       "      <td>16.000000</td>\n",
       "      <td>1</td>\n",
       "    </tr>\n",
       "    <tr>\n",
       "      <td>hydramagrices</td>\n",
       "      <td>4.000000</td>\n",
       "      <td>3</td>\n",
       "    </tr>\n",
       "    <tr>\n",
       "      <td>hydramatrices</td>\n",
       "      <td>1.666667</td>\n",
       "      <td>3</td>\n",
       "    </tr>\n",
       "  </tbody>\n",
       "</table>\n",
       "</div>"
      ],
      "text/plain": [
       "                mean_val  num_tasks\n",
       "Компонент                          \n",
       "echidna         1.000000          1\n",
       "hydra           6.545455         11\n",
       "hydra_utils    16.000000          1\n",
       "hydramagrices   4.000000          3\n",
       "hydramatrices   1.666667          3"
      ]
     },
     "execution_count": 8,
     "metadata": {},
     "output_type": "execute_result"
    }
   ],
   "source": [
    "import numpy as np\n",
    "import pandas as pd\n",
    "\n",
    "file_path = './data/task.csv'\n",
    "\n",
    "df = pd.read_csv(file_path)\n",
    "\n",
    "### YOUR CODE HERE ###\n",
    "aggregation_json = {\n",
    " 'Затрачено в часах': {\n",
    "  'mean_val': np.mean,\n",
    "  'num_tasks': np.size}\n",
    "\n",
    "}\n",
    "\n",
    "df.groupby(by=['Компонент'])[['Затрачено в часах']].aggregate(aggregation_json)\n",
    "# df.groupby(by=['Компонент'])[['Затрачено в часах']].aggregate([np.mean, np.size])"
   ]
  },
  {
   "cell_type": "markdown",
   "metadata": {},
   "source": [
    "### 3.2\n",
    "**Задание среднего уровня** Добавьте (в виде `list`) для каждого компонента набор задач, который был в этом компоненте выполнен (идентификаторы содержатся в поле \"Код\"). Для этого замените `.aggregate()` на `.apply(list)`\n",
    "\n",
    "Пример:"
   ]
  },
  {
   "cell_type": "code",
   "execution_count": 9,
   "metadata": {},
   "outputs": [
    {
     "name": "stdout",
     "output_type": "stream",
     "text": [
      "Исходный DataFrame:\n",
      "  key  val\n",
      "0   a    1\n",
      "1   a    2\n",
      "Применяем apply:\n"
     ]
    },
    {
     "data": {
      "text/plain": [
       "key\n",
       "a    [1, 2]\n",
       "Name: val, dtype: object"
      ]
     },
     "execution_count": 9,
     "metadata": {},
     "output_type": "execute_result"
    }
   ],
   "source": [
    "import pandas as pd\n",
    "\n",
    "print('Исходный DataFrame:')\n",
    "a = pd.DataFrame({'key':['a', 'a'], 'val':[1, 2]})\n",
    "print(a)\n",
    "print('Применяем apply:')\n",
    "a.groupby('key')['val'].apply(list)"
   ]
  },
  {
   "cell_type": "markdown",
   "metadata": {},
   "source": [
    "Результат выполнения\n",
    "\n",
    "<pre>\n",
    "Компонент\n",
    "echidna                                                [HYDRA-535]\n",
    "hydra            [HYDRA-534, HYDRA-530, HYDRA-527, HYDRA-524, H...\n",
    "hydra_utils                                            [HYDRA-510]\n",
    "hydramagrices                    [HYDRA-531, HYDRA-514, HYDRA-507]\n",
    "hydramatrices                    [HYDRA-532, HYDRA-518, HYDRA-513]\n",
    "</pre>"
   ]
  },
  {
   "cell_type": "code",
   "execution_count": 10,
   "metadata": {},
   "outputs": [
    {
     "data": {
      "text/html": [
       "<div>\n",
       "<style scoped>\n",
       "    .dataframe tbody tr th:only-of-type {\n",
       "        vertical-align: middle;\n",
       "    }\n",
       "\n",
       "    .dataframe tbody tr th {\n",
       "        vertical-align: top;\n",
       "    }\n",
       "\n",
       "    .dataframe thead th {\n",
       "        text-align: right;\n",
       "    }\n",
       "</style>\n",
       "<table border=\"1\" class=\"dataframe\">\n",
       "  <thead>\n",
       "    <tr style=\"text-align: right;\">\n",
       "      <th></th>\n",
       "      <th>Код</th>\n",
       "    </tr>\n",
       "    <tr>\n",
       "      <th>Компонент</th>\n",
       "      <th></th>\n",
       "    </tr>\n",
       "  </thead>\n",
       "  <tbody>\n",
       "    <tr>\n",
       "      <td>echidna</td>\n",
       "      <td>[HYDRA-535]</td>\n",
       "    </tr>\n",
       "    <tr>\n",
       "      <td>hydra</td>\n",
       "      <td>[HYDRA-534, HYDRA-530, HYDRA-527, HYDRA-524, H...</td>\n",
       "    </tr>\n",
       "    <tr>\n",
       "      <td>hydra_utils</td>\n",
       "      <td>[HYDRA-510]</td>\n",
       "    </tr>\n",
       "    <tr>\n",
       "      <td>hydramagrices</td>\n",
       "      <td>[HYDRA-531, HYDRA-514, HYDRA-507]</td>\n",
       "    </tr>\n",
       "    <tr>\n",
       "      <td>hydramatrices</td>\n",
       "      <td>[HYDRA-532, HYDRA-518, HYDRA-513]</td>\n",
       "    </tr>\n",
       "  </tbody>\n",
       "</table>\n",
       "</div>"
      ],
      "text/plain": [
       "                                                             Код\n",
       "Компонент                                                       \n",
       "echidna                                              [HYDRA-535]\n",
       "hydra          [HYDRA-534, HYDRA-530, HYDRA-527, HYDRA-524, H...\n",
       "hydra_utils                                          [HYDRA-510]\n",
       "hydramagrices                  [HYDRA-531, HYDRA-514, HYDRA-507]\n",
       "hydramatrices                  [HYDRA-532, HYDRA-518, HYDRA-513]"
      ]
     },
     "execution_count": 10,
     "metadata": {},
     "output_type": "execute_result"
    }
   ],
   "source": [
    "### YOUR CODE HERE ###\n",
    "# Используем датафрейм из предыдущего задания\n",
    "codes_list_df = df.groupby('Компонент')['Код'].apply(list).to_frame()\n",
    "codes_list_df.head()"
   ]
  },
  {
   "cell_type": "markdown",
   "metadata": {},
   "source": [
    "### 3.3\n",
    "**Задание высокого уровня** Составьте DataFrame с двумя колонками: среднее время на задачу и список задач `codes_list_df` внутри каждого \"Компонента\". Подсказка: подготовьте два датафрейма и используйте [функцию merge](https://pandas.pydata.org/pandas-docs/stable/reference/api/pandas.DataFrame.merge.html)"
   ]
  },
  {
   "cell_type": "code",
   "execution_count": 11,
   "metadata": {},
   "outputs": [
    {
     "name": "stdout",
     "output_type": "stream",
     "text": [
      "Пример с использованием merge\n",
      "                Средний вес                                               Коды\n",
      "Компонент                                                                    \n",
      "echidna           1.000000                                        [HYDRA-535]\n",
      "hydra             6.545455  [HYDRA-534, HYDRA-530, HYDRA-527, HYDRA-524, H...\n",
      "hydra_utils      16.000000                                        [HYDRA-510]\n",
      "hydramagrices     4.000000                  [HYDRA-531, HYDRA-514, HYDRA-507]\n",
      "hydramatrices     1.666667                  [HYDRA-532, HYDRA-518, HYDRA-513]\n",
      "\n",
      "Вариант сбора датафрейма одним запросом\n",
      "                Средний вес                                               Коды\n",
      "Компонент                                                                    \n",
      "echidna           1.000000                                        [HYDRA-535]\n",
      "hydra             6.545455  [HYDRA-534, HYDRA-530, HYDRA-527, HYDRA-524, H...\n",
      "hydra_utils      16.000000                                        [HYDRA-510]\n",
      "hydramagrices     4.000000                  [HYDRA-531, HYDRA-514, HYDRA-507]\n",
      "hydramatrices     1.666667                  [HYDRA-532, HYDRA-518, HYDRA-513]\n"
     ]
    }
   ],
   "source": [
    "### YOUR CODE HERE ###\n",
    "\n",
    "aggregation_json = {\n",
    " 'Затрачено в часах': {'mean_val': np.mean}\n",
    "}\n",
    "# Этот синтаксис устарел и официально не рекомендуется\n",
    "# df_mean = df.groupby('Код')['Затрачено в часах'].agg(aggregation_json)\n",
    "# Вместо него в официальной документации рекомендуются выражения типа:\n",
    "df_mean = df.groupby('Компонент').agg(Mean_weight = ('Затрачено в часах', np.mean))\n",
    "df_tasks = df.groupby('Компонент')['Код'].apply(list)\n",
    "df_merged = df_mean.merge(df_tasks, left_index = True, right_index = True)\n",
    "df_merged.columns = ('Средний вес', 'Коды')\n",
    "print('Пример с использованием merge\\n', df_merged)\n",
    "\n",
    "# И если постараться и оптимизировать\n",
    "print('\\nВариант сбора датафрейма одним запросом\\n', \n",
    "      df.groupby('Компонент').agg(\n",
    "        Mean_weight = ('Затрачено в часах', np.mean), Codes = ('Код' , list)).rename(\n",
    "        columns = {'Mean_weight':'Средний вес', 'Codes':'Коды'})\n",
    "     )"
   ]
  },
  {
   "cell_type": "markdown",
   "metadata": {},
   "source": [
    "## 4.  Работа с данными формата HTML"
   ]
  },
  {
   "cell_type": "markdown",
   "metadata": {},
   "source": [
    "### 4.1\n",
    "**Задание простого уровня** Распечатайте список курсов по программированию от Skillbox."
   ]
  },
  {
   "cell_type": "code",
   "execution_count": 12,
   "metadata": {},
   "outputs": [
    {
     "name": "stdout",
     "output_type": "stream",
     "text": [
      "Курс:  Веб-разработчик c 0 до PRO\n",
      "Курс:  Java-разработчик\n",
      "Курс:  Python-разработчик\n",
      "Курс:  Аналитик данных на Python\n",
      "Курс:  Frontend-разработчик\n",
      "Курс:  PHP-разработчик c 0 до PRO\n",
      "Курс:  Мобильный разработчик PRO\n",
      "Курс:  JavaScript-фреймворк Vue.js\n"
     ]
    }
   ],
   "source": [
    "import requests\n",
    "from lxml import html\n",
    "\n",
    "page = requests.get('https://skillbox.ru/courses/code').content.decode('utf-8')\n",
    "\n",
    "### YOUR CODE HERE ###\n",
    "\n",
    "html_tree = html.fromstring(page)\n",
    "\n",
    "items = html_tree.xpath(\"//div[contains(@class, '{}')]//a\".format('courses-list'))\n",
    "for item in items:\n",
    "    course_title = item.text_content().split('\\n')[1].strip()\n",
    "    href = (item.get('href'))\n",
    "    print('Курс: ', course_title)\n",
    "#     print('Ссылка: ', href)"
   ]
  },
  {
   "cell_type": "markdown",
   "metadata": {},
   "source": [
    "### 4.2\n",
    "\n",
    "**Задание среднего уровня**. Выведите список всех курсов Skillbox по программированию, дизайну, маркетингу и управлению. Добавьте к каждому курсу ссылку http на этот курс на сайте Skillbox."
   ]
  },
  {
   "cell_type": "markdown",
   "metadata": {},
   "source": [
    "*Результат выполнения*\n",
    "<pre>\n",
    "Курс: Веб-дизайн с нуля до PRO  link:  https://skillbox.ru/webdesign/\n",
    "Курс: Рекламная графика  link:  https://skillbox.ru/cpeople/\n",
    "Курс: UX-дизайн  link:  https://skillbox.ru/aic/\n",
    "</pre>"
   ]
  },
  {
   "cell_type": "code",
   "execution_count": 13,
   "metadata": {},
   "outputs": [
    {
     "name": "stdout",
     "output_type": "stream",
     "text": [
      "Направление: Программирование  link: /code/\n",
      "Курс: Веб-разработчик c 0 до PRO   link: https://course.skillbox.ru/webdev/\n",
      "Курс: Java-разработчик   link: https://skillbox.ru/course/java/\n",
      "Курс: Python-разработчик   link: https://skillbox.ru/course/python/\n",
      "Курс: Аналитик данных на Python   link: https://skillbox.ru/python-data/\n",
      "Курс: Frontend-разработчик   link: https://skillbox.ru/course/frontend-developer/\n",
      "Курс: PHP-разработчик c 0 до PRO   link: https://skillbox.ru/course/php/\n",
      "Курс: Мобильный разработчик PRO   link: https://skillbox.ru/agima/\n",
      "Курс: JavaScript-фреймворк Vue.js   link: https://skillbox.ru/course/vue-js/\n",
      "Направление: Дизайн  link: /design/\n",
      "Курс: Веб-дизайн с 0 до PRO   link: https://skillbox.ru/course/webdesign/\n",
      "Курс: Cinema4D   link: https://skillbox.ru/course/cinema4d/\n",
      "Курс: Дизайн мобильных приложений с 0 до PRO   link: https://skillbox.ru/course/app-design-pro/\n",
      "Курс: Дизайн интерьеров с 0 до PRO   link: https://skillbox.ru/course/interiordesigner/\n",
      "Курс: UX-дизайн с Майклом Джандой   link: https://janda.skillbox.ru/\n",
      "Курс: Photoshop   link: https://skillbox.ru/photoshoppro/\n",
      "Курс: Sound design   link: https://skillbox.ru/sound-design/\n",
      "Курс: Motion Design с 0 до PRO   link: https://course.skillbox.ru/motion-design\n",
      "Курс: UX-дизайн   link: https://skillbox.ru/course/uxdesign/\n",
      "Курс: Archicad   link: https://course.skillbox.ru/archicad\n",
      "Курс: Анимация интерфейсов   link: https://skillbox.ru/course/motion/\n",
      "Курс: Рекламная графика   link: https://skillbox.ru/course/cpeople/\n",
      "Курс: Визуализация в 3ds Max и V-Ray   link: https://skillbox.ru/course/3d-max-visualisation/\n",
      "Курс: Дизайнер сайтов на Tilda   link: https://course.skillbox.ru/tilda\n",
      "Курс: Дизайн коммерческих интерьеров с 0 до PRO   link: https://skillbox.ru/course/commercial-design/\n",
      "Курс: Экспресс-курс «Дизайнер сайтов»   link: https://skillbox.ru/course/redcollar/\n",
      "Курс: Графический дизайнер с нуля до PRO   link: https://skillbox.ru/course/graphic-design/\n",
      "Курс: Ableton Live c 0 до PRO   link: https://skillbox.ru/course/ableton-live/\n",
      "Курс: Брендинг и бренд-дизайн   link: https://skillbox.ru/course/branding/\n",
      "Курс: Скетчинг для дизайнеров   link: https://skillbox.ru/course/sketching/\n",
      "Курс: 3D Max для дизайнеров интерьера   link: https://skillbox.ru/course/3d-max/\n",
      "Курс: Фриланс для дизайнера   link: https://skillbox.ru/course/freelancer/\n",
      "Курс: Скетчинг на iPad   link: https://skillbox.ru/course/ipad-sketching/\n",
      "Курс: Adobe XD   link: https://skillbox.ru/course/adobexd/\n",
      "Курс: 3D-моделирование в Zbrush с нуля   link: https://skillbox.ru/course/zbrush/\n",
      "Курс: Дизайнер логотипа и фирменного стиля   link: https://course.skillbox.ru/logodesign\n",
      "Курс: After Effects с 0 до PRO   link: https://course.skillbox.ru/after-effects\n",
      "Курс: Управление дизайн-командами и арт-дирекшн   link: https://new.skillbox.ru/artdirector\n",
      "Курс: 3D-моделирование для начинающих   link: https://skillbox.ru/course/3d/\n",
      "Курс: Figma   link: https://skillbox.ru/course/figma/\n",
      "Курс: Sketch   link: https://skillbox.ru/course/sketchapp/\n",
      "Курс: Шрифт в дизайне   link: https://new.skillbox.ru/paratype\n",
      "Направление: Маркетинг  link: /marketing/\n",
      "Курс: Веб-аналитика от Ingate   link: https://skillbox.ru/course/web-analytic-ingate/\n",
      "Курс: Копирайтинг от А до Я   link: https://skillbox.ru/course/copywriter/\n",
      "Курс: Интернет-маркетолог с 0   link: https://skillbox.ru/course/marketolog/\n",
      "Курс: SMM-маркетолог от А до Я   link: https://skillbox.ru/course/smm/\n",
      "Курс: Контекстная реклама от А до Я   link: https://skillbox.ru/course/ppc/\n",
      "Курс: Таргетолог   link: https://skillbox.ru/targetolog/\n",
      "Курс: SEO-специалист   link: https://course.skillbox.ru/seo-specialist/\n",
      "Курс: Digital-стратег   link: https://course.skillbox.ru/digitalstrategy\n",
      "Курс: Performance-маркетинг   link: https://skillbox.ru/course/performance-mark/\n",
      "Курс: Управление репутацией бренда в сети   link: https://skillbox.ru/course/reputation/\n",
      "Курс: Продвижение в Инстаграм   link: https://skillbox.ru/instagram/\n",
      "Курс: Как делать контент для YouTube   link: https://skillbox.ru/blogger/\n",
      "Курс: Сквозная аналитика   link: https://skillbox.ru/end-to-end/\n",
      "Курс: CRM-маркетолог   link: https://course.skillbox.ru/crm-marketolog\n",
      "Курс: PR-менеджер от PRT   link: https://skillbox.ru/course/prmanager/\n",
      "Курс: Интернет-маркетолог от Ingate   link: https://skillbox.ru/marketolog/\n",
      "Курс: Запуск и продвижение интернет-магазина с нуля   link: https://skillbox.ru/course/ecommerce/\n",
      "Направление: Управление  link: /management/\n",
      "Курс: Управление продуктом   link: https://course.skillbox.ru/product-management\n",
      "Курс: Управление проектами   link: https://skillbox.ru/course/itproject/\n",
      "Курс: Руководитель digital-проектов   link: https://course.skillbox.ru/sibirix-managment/\n",
      "Курс: Менеджмент и маркетинг в индустрии спорта   link: https://course.skillbox.ru/sportmanagement/\n",
      "Курс: Мастер презентации   link: https://skillbox.ru/course/presentation-master/\n",
      "Курс: Продюсер онлайн-курсов   link: https://skillbox.ru/producer/\n",
      "Курс: Как открыть и развивать веб‑студию   link: https://skillbox.ru/course/studio/\n",
      "Курс: Эффективное партнерство в бизнесе   link: https://skillbox.ru/course/partnership/\n",
      "Курс: Excel + Google-таблицы с нуля до PRO   link: https://skillbox.ru/course/excel-gsheets/\n",
      "Курс: Менеджмент в индустрии красоты   link: https://skillbox.ru/course/beauty-industry/\n",
      "Курс: Управление командами   link: https://skillbox.ru/course/team-management/\n",
      "Курс: Продвижение и продажи в digital-агентстве   link: https://skillbox.ru/course/digital-sales/\n",
      "Курс: PowerPoint и Google Презентации   link: https://skillbox.ru/course/powerpoint-gslides/\n",
      "Курс: MS Office и Google Office с нуля до PRO   link: https://skillbox.ru/course/msoffice/\n",
      "Курс: Финансовая грамотность   link: https://skillbox.ru/course/finance/\n"
     ]
    }
   ],
   "source": [
    "### YOUR CODE HERE ###\n",
    "import requests\n",
    "from lxml import html\n",
    "\n",
    "page = requests.get('https://skillbox.ru/courses/code').content.decode('utf-8')\n",
    "\n",
    "### YOUR CODE HERE ###\n",
    "\n",
    "html_tree = html.fromstring(page)\n",
    "\n",
    "menu_items = html_tree.xpath(\"//ul[contains(@class, '{}')]//a\".format('tabs-list__items'))\n",
    "# Перебираю заголовки направлений деятельности\n",
    "for menu_item in menu_items:\n",
    "    direct_name = menu_item.text.split('\\n')[1].strip()\n",
    "    direct_link = menu_item.get('href')\n",
    "    print('Направление:', direct_name, ' link:', direct_link)\n",
    "    # Выбираю курсы данного направления\n",
    "    page_title = requests.get('https://skillbox.ru' + direct_link).content.decode('utf-8')\n",
    "    html_tree_title = html.fromstring(page_title)\n",
    "    items = html_tree_title.xpath(\"//div[contains(@class, '{}')]//a\".format('courses-list'))\n",
    "    for item in items:\n",
    "        course_title = item.text_content().split('\\n')[1].strip()\n",
    "        link = (item.get('href'))\n",
    "        print('Курс:', course_title, '  link:', link)\n",
    "\n"
   ]
  },
  {
   "cell_type": "markdown",
   "metadata": {},
   "source": [
    "### 4.3\n",
    "**Задание высокого уровня**. Напишите код, который переходит по ссылкам на страницы курсов по программированию из предыдущего задания и распечатывает описание курса."
   ]
  },
  {
   "cell_type": "code",
   "execution_count": 14,
   "metadata": {
    "scrolled": true
   },
   "outputs": [
    {
     "data": {
      "text/html": [
       "<div>\n",
       "<style scoped>\n",
       "    .dataframe tbody tr th:only-of-type {\n",
       "        vertical-align: middle;\n",
       "    }\n",
       "\n",
       "    .dataframe tbody tr th {\n",
       "        vertical-align: top;\n",
       "    }\n",
       "\n",
       "    .dataframe thead th {\n",
       "        text-align: right;\n",
       "    }\n",
       "</style>\n",
       "<table border=\"1\" class=\"dataframe\">\n",
       "  <thead>\n",
       "    <tr style=\"text-align: right;\">\n",
       "      <th></th>\n",
       "      <th>link</th>\n",
       "      <th>descr</th>\n",
       "    </tr>\n",
       "  </thead>\n",
       "  <tbody>\n",
       "    <tr>\n",
       "      <td>0</td>\n",
       "      <td>https://course.skillbox.ru/webdev/</td>\n",
       "      <td>Курс Веб-разработчик c 0 до PRO. Обучение на В...</td>\n",
       "    </tr>\n",
       "    <tr>\n",
       "      <td>1</td>\n",
       "      <td>https://skillbox.ru/course/java/</td>\n",
       "      <td>Курс Java-разработчик. Обучение на Java-разраб...</td>\n",
       "    </tr>\n",
       "    <tr>\n",
       "      <td>2</td>\n",
       "      <td>https://skillbox.ru/course/python/</td>\n",
       "      <td>Курс Python-разработчик. Обучение на Python-ра...</td>\n",
       "    </tr>\n",
       "    <tr>\n",
       "      <td>3</td>\n",
       "      <td>https://skillbox.ru/python-data/</td>\n",
       "      <td>Курс Аналитик данных на Python. Обучение на Ан...</td>\n",
       "    </tr>\n",
       "    <tr>\n",
       "      <td>4</td>\n",
       "      <td>https://skillbox.ru/course/frontend-developer/</td>\n",
       "      <td>Курс Frontend-разработчик. Обучение на Fronten...</td>\n",
       "    </tr>\n",
       "  </tbody>\n",
       "</table>\n",
       "</div>"
      ],
      "text/plain": [
       "                                             link  \\\n",
       "0              https://course.skillbox.ru/webdev/   \n",
       "1                https://skillbox.ru/course/java/   \n",
       "2              https://skillbox.ru/course/python/   \n",
       "3                https://skillbox.ru/python-data/   \n",
       "4  https://skillbox.ru/course/frontend-developer/   \n",
       "\n",
       "                                               descr  \n",
       "0  Курс Веб-разработчик c 0 до PRO. Обучение на В...  \n",
       "1  Курс Java-разработчик. Обучение на Java-разраб...  \n",
       "2  Курс Python-разработчик. Обучение на Python-ра...  \n",
       "3  Курс Аналитик данных на Python. Обучение на Ан...  \n",
       "4  Курс Frontend-разработчик. Обучение на Fronten...  "
      ]
     },
     "execution_count": 14,
     "metadata": {},
     "output_type": "execute_result"
    }
   ],
   "source": [
    "import requests\n",
    "\n",
    "links = []\n",
    "descr = []\n",
    "\n",
    "page = requests.get('https://skillbox.ru/courses/code').content.decode('utf-8')\n",
    "html_tree = html.fromstring(page)\n",
    "menu_items = html_tree.xpath(\"//ul[contains(@class, '{}')]//a\".format('tabs-list__items'))\n",
    "# Перебираю заголовки направлений деятельности\n",
    "for menu_item in menu_items:\n",
    "    direct_name = menu_item.text.split('\\n')[1].strip()\n",
    "    direct_link = menu_item.get('href')\n",
    "    # Выбираю курсы данного направления\n",
    "    page_title = requests.get('https://skillbox.ru' + direct_link).content.decode('utf-8')\n",
    "    html_tree_title = html.fromstring(page_title)\n",
    "    items = html_tree_title.xpath(\"//div[contains(@class, '{}')]//a\".format('courses-list'))\n",
    "    for item in items:\n",
    "        course_title = item.text_content().split('\\n')[1].strip()\n",
    "        link = (item.get('href'))\n",
    "        links.append(link)\n",
    "\n",
    "        page_descr = requests.get(link).content.decode('utf-8')\n",
    "        html_tree_descr = html.fromstring(page_descr)\n",
    "#         items_descr = html_tree_descr.xpath(\"//h3[contains(@class, '{}')]//a\".format('course__subtitle'))\n",
    "#         items_descr = html_tree_descr.xpath(\"//div[contains(@field, '{}')]//a\".format('descr'))\n",
    "        items_descr = html_tree_descr.xpath(\"//title\")\n",
    "        if items_descr == []:\n",
    "            description = 'no description'\n",
    "        else:\n",
    "            description = items_descr[0].text.strip()\n",
    "        descr.append(description)\n",
    "#         print(link, description) # Отладочная информация\n",
    "\n",
    "result_df = pd.DataFrame({\n",
    "    'link': links,\n",
    "    'descr': descr\n",
    "})\n",
    "\n",
    "result_df.head()"
   ]
  },
  {
   "cell_type": "markdown",
   "metadata": {},
   "source": [
    "## 5. Работа с данными формата XML"
   ]
  },
  {
   "cell_type": "markdown",
   "metadata": {},
   "source": [
    "### 5.1\n",
    "\n",
    "**Задание начального уровня** Распечатайте все фильмы (а не только драмы) в формате: `название фильма: жанр`"
   ]
  },
  {
   "cell_type": "code",
   "execution_count": 15,
   "metadata": {},
   "outputs": [
    {
     "name": "stdout",
     "output_type": "stream",
     "text": [
      "The Shawshank Redemption: drama\n",
      "The Dark Knight: drama\n",
      "\"Back 2 the Future\": None\n"
     ]
    }
   ],
   "source": [
    "from xml.etree import ElementTree\n",
    "\n",
    "file_path = './data/xml_content_description.xml'\n",
    "\n",
    "with open(file_path) as f:\n",
    "    ### YOUR CODE HERE ###\n",
    "    doc = ElementTree.parse(f)\n",
    "    content_titles = doc.getroot()\n",
    "    for movie in content_titles.findall(\"./Content/content_title/[title]\"):\n",
    "        try:\n",
    "            genre = movie.find(\"./genre\").text\n",
    "        except AttributeError:\n",
    "            genre = None\n",
    "        print(movie.find(\"./title\").text + ':', genre)"
   ]
  },
  {
   "cell_type": "markdown",
   "metadata": {},
   "source": [
    "### 5.2\n",
    "**Задание среднего уровня** Посчитайте среднюю длительность контента в файле. xml_content_description"
   ]
  },
  {
   "cell_type": "code",
   "execution_count": 16,
   "metadata": {
    "scrolled": true
   },
   "outputs": [
    {
     "name": "stdout",
     "output_type": "stream",
     "text": [
      "avg_duration=8820.0\n"
     ]
    }
   ],
   "source": [
    "import math\n",
    "from xml.etree import ElementTree\n",
    "\n",
    "file_path = './data/xml_content_description.xml'\n",
    "duration = []\n",
    "num_content = 0\n",
    "\n",
    "with open(file_path) as f:\n",
    "    ### YOUR CODE HERE ###\n",
    "    doc = ElementTree.parse(f)\n",
    "    content_titles = doc.getroot()\n",
    "    for movie in content_titles.findall(\"./Content/content_title/[title]\"):\n",
    "        try:\n",
    "            duration.append(int(movie.find(\"./duration\").text))\n",
    "            num_content += 1\n",
    "        except AttributeError:\n",
    "            pass\n",
    "\n",
    "print(\"avg_duration={}\".format(sum(duration)/num_content))"
   ]
  },
  {
   "cell_type": "markdown",
   "metadata": {},
   "source": [
    "### 5.3\n",
    "**Задание высокого уровня** Если речь идёт о продакшн-системах машинного обучения, то данные могут приходить в форматах, мало пригодных для использования - например XML. В таких случаях приходится приводить данные к превычному табличному формату - такой кейс мы решим в рамках домашней работы.\n",
    "\n",
    "Нужно определить, сколько полей будет в выходном файле и как залить в него данные\n",
    "\n",
    "Алгоритм\n",
    "* сформируйте массив словарей `content_list`, где каждый элемент массива - это словарь вида `{tag1: value1,...,tag_n:value_n}`\n",
    "* каждый результат findall можно итеративно обойти, распечатав тэг и его значение в виде\n",
    "<pre>\n",
    "        for i in movie:\n",
    "            print(i.text, i.tag)\n",
    "</pre>\n",
    "* из полученного словаря сформируйте DataFrame с тремя колонками: `movie_id | tag | value` (movie_id соответствует номеру словаря среди всех словарей `content_list`)\n",
    "* сохраните Dataframe c помощью функции `.to_csv()`"
   ]
  },
  {
   "cell_type": "code",
   "execution_count": 1,
   "metadata": {},
   "outputs": [
    {
     "data": {
      "text/html": [
       "<div>\n",
       "<style scoped>\n",
       "    .dataframe tbody tr th:only-of-type {\n",
       "        vertical-align: middle;\n",
       "    }\n",
       "\n",
       "    .dataframe tbody tr th {\n",
       "        vertical-align: top;\n",
       "    }\n",
       "\n",
       "    .dataframe thead th {\n",
       "        text-align: right;\n",
       "    }\n",
       "</style>\n",
       "<table border=\"1\" class=\"dataframe\">\n",
       "  <thead>\n",
       "    <tr style=\"text-align: right;\">\n",
       "      <th></th>\n",
       "      <th>movie_id</th>\n",
       "      <th>tag</th>\n",
       "      <th>value</th>\n",
       "    </tr>\n",
       "  </thead>\n",
       "  <tbody>\n",
       "    <tr>\n",
       "      <td>0</td>\n",
       "      <td>0</td>\n",
       "      <td>content_id</td>\n",
       "      <td>1181251680</td>\n",
       "    </tr>\n",
       "    <tr>\n",
       "      <td>1</td>\n",
       "      <td>0</td>\n",
       "      <td>genre</td>\n",
       "      <td>drama</td>\n",
       "    </tr>\n",
       "    <tr>\n",
       "      <td>2</td>\n",
       "      <td>0</td>\n",
       "      <td>title</td>\n",
       "      <td>The Shawshank Redemption</td>\n",
       "    </tr>\n",
       "    <tr>\n",
       "      <td>3</td>\n",
       "      <td>0</td>\n",
       "      <td>iid</td>\n",
       "      <td>040000008200E000</td>\n",
       "    </tr>\n",
       "    <tr>\n",
       "      <td>4</td>\n",
       "      <td>0</td>\n",
       "      <td>releaseTime</td>\n",
       "      <td>1181572063</td>\n",
       "    </tr>\n",
       "    <tr>\n",
       "      <td>5</td>\n",
       "      <td>0</td>\n",
       "      <td>state</td>\n",
       "      <td>None</td>\n",
       "    </tr>\n",
       "    <tr>\n",
       "      <td>6</td>\n",
       "      <td>0</td>\n",
       "      <td>location</td>\n",
       "      <td>None</td>\n",
       "    </tr>\n",
       "    <tr>\n",
       "      <td>7</td>\n",
       "      <td>0</td>\n",
       "      <td>duration</td>\n",
       "      <td>8520</td>\n",
       "    </tr>\n",
       "    <tr>\n",
       "      <td>8</td>\n",
       "      <td>0</td>\n",
       "      <td>descr</td>\n",
       "      <td>Two imprisoned men bond over a number of years...</td>\n",
       "    </tr>\n",
       "    <tr>\n",
       "      <td>9</td>\n",
       "      <td>1</td>\n",
       "      <td>content_id</td>\n",
       "      <td>1234360800</td>\n",
       "    </tr>\n",
       "    <tr>\n",
       "      <td>10</td>\n",
       "      <td>1</td>\n",
       "      <td>title</td>\n",
       "      <td>The Dark Knight</td>\n",
       "    </tr>\n",
       "    <tr>\n",
       "      <td>11</td>\n",
       "      <td>1</td>\n",
       "      <td>genre</td>\n",
       "      <td>drama</td>\n",
       "    </tr>\n",
       "    <tr>\n",
       "      <td>12</td>\n",
       "      <td>1</td>\n",
       "      <td>duration</td>\n",
       "      <td>9120</td>\n",
       "    </tr>\n",
       "    <tr>\n",
       "      <td>13</td>\n",
       "      <td>1</td>\n",
       "      <td>descr</td>\n",
       "      <td>The Dark Knight must accept one of the greates...</td>\n",
       "    </tr>\n",
       "    <tr>\n",
       "      <td>14</td>\n",
       "      <td>1</td>\n",
       "      <td>location</td>\n",
       "      <td>None</td>\n",
       "    </tr>\n",
       "    <tr>\n",
       "      <td>15</td>\n",
       "      <td>1</td>\n",
       "      <td>iid</td>\n",
       "      <td>604f4792-eb89-478b-a14f-dd34d3cc6c21-1234360800</td>\n",
       "    </tr>\n",
       "    <tr>\n",
       "      <td>16</td>\n",
       "      <td>1</td>\n",
       "      <td>state</td>\n",
       "      <td>dismissed</td>\n",
       "    </tr>\n",
       "    <tr>\n",
       "      <td>17</td>\n",
       "      <td>2</td>\n",
       "      <td>title</td>\n",
       "      <td>\"Back 2 the Future\"</td>\n",
       "    </tr>\n",
       "    <tr>\n",
       "      <td>18</td>\n",
       "      <td>2</td>\n",
       "      <td>year</td>\n",
       "      <td>1985</td>\n",
       "    </tr>\n",
       "    <tr>\n",
       "      <td>19</td>\n",
       "      <td>2</td>\n",
       "      <td>descr</td>\n",
       "      <td>Marty McFly</td>\n",
       "    </tr>\n",
       "  </tbody>\n",
       "</table>\n",
       "</div>"
      ],
      "text/plain": [
       "   movie_id          tag                                              value\n",
       "0         0   content_id                                         1181251680\n",
       "1         0        genre                                              drama\n",
       "2         0        title                           The Shawshank Redemption\n",
       "3         0          iid                                   040000008200E000\n",
       "4         0  releaseTime                                         1181572063\n",
       "5         0        state                                               None\n",
       "6         0     location                                               None\n",
       "7         0     duration                                               8520\n",
       "8         0        descr  Two imprisoned men bond over a number of years...\n",
       "9         1   content_id                                         1234360800\n",
       "10        1        title                                    The Dark Knight\n",
       "11        1        genre                                              drama\n",
       "12        1     duration                                               9120\n",
       "13        1        descr  The Dark Knight must accept one of the greates...\n",
       "14        1     location                                               None\n",
       "15        1          iid    604f4792-eb89-478b-a14f-dd34d3cc6c21-1234360800\n",
       "16        1        state                                          dismissed\n",
       "17        2        title                                \"Back 2 the Future\"\n",
       "18        2         year                                               1985\n",
       "19        2        descr                                        Marty McFly"
      ]
     },
     "execution_count": 1,
     "metadata": {},
     "output_type": "execute_result"
    }
   ],
   "source": [
    "# имя входного файла XML\n",
    "input_file = './data/xml_content_description.xml'\n",
    "# имя выходного файла CSV\n",
    "output_file = 'compute/csv_content_description.csv'\n",
    "\n",
    "### YOUR CODE HERE ###\n",
    "from xml.etree import ElementTree\n",
    "import pandas as pd\n",
    "\n",
    "# читаем входной файл\n",
    "content_list = [] \n",
    "\n",
    "with open(input_file) as f:\n",
    "    doc = ElementTree.parse(f)\n",
    "    content_titles = doc.getroot()    \n",
    "    for movie in content_titles.findall(\"./Content/content_title/[title]\"):\n",
    "        content_dict = {}\n",
    "        for i in movie:\n",
    "            content_dict[i.tag] = i.text\n",
    "        content_list.append(content_dict)\n",
    "#         print(content_dict,'\\n')\n",
    "\n",
    "# Формируем датафрейм. Формировать его без content_list, в предыдущем цикле, было бы быстрее и компактнее по коду\n",
    "df = pd.DataFrame(columns = ('movie_id', 'tag', 'value'))\n",
    "i = -1 # Индекс в датафрейме\n",
    "for movie_id, film in enumerate(content_list):\n",
    "#     print(content_id, film)\n",
    "    for tag in film:\n",
    "        i += 1\n",
    "        df.loc[i]=[movie_id, tag, film[tag]]\n",
    "\n",
    "# пишем выходной файл\n",
    "df.to_csv(output_file)\n",
    "df"
   ]
  },
  {
   "cell_type": "code",
   "execution_count": null,
   "metadata": {},
   "outputs": [],
   "source": []
  }
 ],
 "metadata": {
  "kernelspec": {
   "display_name": "Python 3",
   "language": "python",
   "name": "python3"
  },
  "language_info": {
   "codemirror_mode": {
    "name": "ipython",
    "version": 3
   },
   "file_extension": ".py",
   "mimetype": "text/x-python",
   "name": "python",
   "nbconvert_exporter": "python",
   "pygments_lexer": "ipython3",
   "version": "3.7.4"
  }
 },
 "nbformat": 4,
 "nbformat_minor": 4
}
