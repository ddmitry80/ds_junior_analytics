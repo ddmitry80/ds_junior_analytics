{
 "cells": [
  {
   "cell_type": "markdown",
   "metadata": {},
   "source": [
    "# CSV\n",
    "\n",
    "Для чтения csv в Python существует два основных способа - [модуль csv](https://docs.python.org/3/library/csv.html), который доступен в стандартной библиотеке и библиотека для обработки табличных данных [pandas](https://pandas.pydata.org/).\n",
    "\n",
    "## python csv\n",
    "\n",
    "Базовый примитив в модуле csv - это [reader](https://docs.python.org/3/library/csv.html#csv.reader), который представляет собой итератор по строкам csv-файла. Более интересным объектом является [DictReader](https://docs.python.org/3/library/csv.html#csv.DictReader), который читает каждую строку как словарь, в котором ключом является имя столбца, а значением - элемент строки, находящийся в этом поле.\n",
    "\n",
    "Проведём разбор csv-файла с помощью xml.DictReader:"
   ]
  },
  {
   "cell_type": "code",
   "execution_count": 1,
   "metadata": {},
   "outputs": [
    {
     "name": "stdout",
     "output_type": "stream",
     "text": [
      "['Код', 'Тема', 'Компонент', 'Затрачено в часах']\n",
      "['HYDRA-535', 'Пробрасывать пользовательское распределение paid_types в ехидну', 'echidna', '1']\n",
      "['HYDRA-534', 'Гибридный рекомендатель с multi-channel feedback', 'hydra', '3']\n",
      "['HYDRA-532', 'Джоба в дженкинсе для расчёта динамики РВП', 'hydramatrices', '2']\n",
      "['HYDRA-531', 'Интеграция Hydra с Gamora', 'hydramagrices', '4']\n",
      "['HYDRA-530', 'Тестируем интеграцию с Jira', 'hydra', '2']\n",
      "['HYDRA-527', 'Поправить функцию _get_ui_rec_matrix', 'hydra', '10']\n",
      "['HYDRA-524', 'Оптимизировать матрицу ItemFactors', 'hydra', '2']\n",
      "['HYDRA-523', 'Сортировка ЦПБ', 'hydra', '5']\n",
      "['HYDRA-520', 'Закостылить параметр top', 'hydra', '2']\n",
      "['HYDRA-519', \"Сделать 'stable' конфигом по умолчанию в Гидре\", 'hydra', '2']\n",
      "['HYDRA-518', 'Неудобно тестировать запись в redis', 'hydramatrices', '1']\n",
      "['HYDRA-517', 'Улучшить рекомендации (первая итерация)', 'hydra', '7']\n",
      "['HYDRA-514', 'Добавить логирование в скрипты hydra/bin', 'hydramagrices', '5']\n",
      "['HYDRA-513', 'Поправить storage_backend', 'hydramatrices', '2']\n",
      "['HYDRA-511', 'Перемешивание рекомендаций для старых пользователей', 'hydra', '5']\n",
      "['HYDRA-510', 'Поправить скрипты bpr и и оценщика', 'hydra_utils', '16']\n",
      "['HYDRA-509', 'Динамические персональные рекомендации', 'hydra', '10']\n",
      "['HYDRA-507', 'Навести порядок в prepare_data_for_hydra', 'hydramagrices', '3']\n",
      "['HYDRA-506', 'Техдолг по логике /collection/recommendations/', 'hydra', '24']\n"
     ]
    }
   ],
   "source": [
    "import csv\n",
    "\n",
    "file_path = './data/task.csv'\n",
    "\n",
    "sample_row = None\n",
    "with open(file_path, newline='') as csvfile:\n",
    "    reader = csv.DictReader(csvfile)\n",
    "    print(reader.fieldnames)\n",
    "    for row in reader:\n",
    "        print([row[field_name] for field_name in reader.fieldnames])\n",
    "        sample_row = row"
   ]
  },
  {
   "cell_type": "markdown",
   "metadata": {},
   "source": [
    "Каждая строка представляет собой объект формата [OrderedDict](https://docs.python.org/3/library/collections.html#collections.OrderedDict)"
   ]
  },
  {
   "cell_type": "code",
   "execution_count": 2,
   "metadata": {},
   "outputs": [
    {
     "name": "stdout",
     "output_type": "stream",
     "text": [
      "<class 'collections.OrderedDict'>\n"
     ]
    }
   ],
   "source": [
    "print(type(row))"
   ]
  }
 ],
 "metadata": {
  "kernelspec": {
   "display_name": "Python 3",
   "language": "python",
   "name": "python3"
  },
  "language_info": {
   "codemirror_mode": {
    "name": "ipython",
    "version": 3
   },
   "file_extension": ".py",
   "mimetype": "text/x-python",
   "name": "python",
   "nbconvert_exporter": "python",
   "pygments_lexer": "ipython3",
   "version": "3.6.7"
  }
 },
 "nbformat": 4,
 "nbformat_minor": 2
}
