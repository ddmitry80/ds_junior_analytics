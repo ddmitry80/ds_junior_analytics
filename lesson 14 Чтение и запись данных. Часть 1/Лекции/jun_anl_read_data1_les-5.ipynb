{
 "cells": [
  {
   "cell_type": "markdown",
   "metadata": {},
   "source": [
    "# Работа с данными формата XML\n",
    "\n",
    "## Описание формата XML\n",
    "\n",
    "XML (eXtensible Markup Language) — [расширяемый язык разметки](https://ru.wikipedia.org/wiki/XML) текстовых документов. Организация Консорциум Всемирной паутины (W3C) занимается разработкой [стандарта XML](https://www.w3.org/XML/)\n",
    "\n",
    "Пример документа в формате XML:\n",
    "<pre> \n",
    "<code>\n",
    "&lt; ?xml version=\"1.0\" ?&gt;\n",
    "&lt; contentTitles reminder=\"15\"&gt;\n",
    "    &lt; content &gt;\n",
    "        &lt; releaseDate &gt; 1181251680 &lt; /releaseDate &gt;\n",
    "        &lt; id &gt; 040000008200E000 &lt; /id &gt;\n",
    "    &lt; /content &gt;\n",
    "&lt; /contentTitles &gt;\n",
    "</code>\n",
    "</pre>\n",
    "\n",
    "Видно, что файл содержит версионирование ```xml_version=\"1.0\"```, а так же имеет иерархическую структуру. Минимальный логический элемент XML называется **сущностью** (англ. entity). У *сущности* есть имя (тест, заключённый в угловые скобки) и значение (англ. **value**) - всё, что содержится внутри сущности. Одним из подмножеств XML является язык разметки web-страниц *HTML*. Сущности HTML зафиксированы в стандарте html, а сущности XML нигде не зафиксированы - их определяет для себя разработчик в кажом конкретном случае (пример выше - xml-документ, который описывает некоторые свойства контента а базе данных онлайн-кинотеатра, например дату выпуска *releaseDate* и внутренний идентификатор *id*)\n",
    "\n",
    "Для разбора XML тоже можно использовать XPath"
   ]
  },
  {
   "cell_type": "code",
   "execution_count": 1,
   "metadata": {},
   "outputs": [
    {
     "name": "stdout",
     "output_type": "stream",
     "text": [
      "The Shawshank Redemption\n",
      "The Dark Knight\n"
     ]
    }
   ],
   "source": [
    "from xml.etree import ElementTree\n",
    "\n",
    "file_path = './data/xml_content_description.xml'\n",
    "\n",
    "with open(file_path) as f:\n",
    "    \n",
    "    doc = ElementTree.parse(f)\n",
    "    content_titles = doc.getroot()\n",
    "    for movie in content_titles.findall(\"./Content/content_title/[genre='drama']\"):\n",
    "        print(movie.find(\"./title\").text)"
   ]
  }
 ],
 "metadata": {
  "kernelspec": {
   "display_name": "Python 3",
   "language": "python",
   "name": "python3"
  },
  "language_info": {
   "codemirror_mode": {
    "name": "ipython",
    "version": 3
   },
   "file_extension": ".py",
   "mimetype": "text/x-python",
   "name": "python",
   "nbconvert_exporter": "python",
   "pygments_lexer": "ipython3",
   "version": "3.7.4"
  }
 },
 "nbformat": 4,
 "nbformat_minor": 4
}
