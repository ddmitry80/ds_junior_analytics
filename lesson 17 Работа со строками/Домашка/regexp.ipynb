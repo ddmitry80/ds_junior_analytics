{
 "cells": [
  {
   "cell_type": "code",
   "execution_count": 1,
   "metadata": {},
   "outputs": [
    {
     "name": "stdout",
     "output_type": "stream",
     "text": [
      "['12', '  ', '+', '  ', '13', '', '*', '', '15', '   ', '-', ' ', '6']\n"
     ]
    }
   ],
   "source": [
    "import re \n",
    "print(re.split(r'(\\s*)([+*/-])(\\s*)', r'12  +  13*15   - 6')) \n",
    "# -> ['12', '  ', '+', '  ', '13', '', '*', '', '15', '   ', '-', ' ', '6'] "
   ]
  },
  {
   "cell_type": "code",
   "execution_count": 2,
   "metadata": {},
   "outputs": [
    {
     "name": "stdout",
     "output_type": "stream",
     "text": [
      "['12', '+', '13', '*', '15', '-', '6']\n"
     ]
    }
   ],
   "source": [
    "import re \n",
    "print(re.split(r'\\s*([+*/-])\\s*', r'12  +  13*15   - 6')) \n",
    "# -> ['12', '+', '13', '*', '15', '-', '6'] "
   ]
  },
  {
   "cell_type": "code",
   "execution_count": 7,
   "metadata": {},
   "outputs": [
    {
     "name": "stdout",
     "output_type": "stream",
     "text": [
      "['12', '13', '15', '6']\n"
     ]
    }
   ],
   "source": [
    "import re \n",
    "print(re.split(r'(?:\\s*)(?:[+*/-])(?:\\s*)', r'12  +  13*15   - 6')) \n",
    "# -> ['12', '  ', '+', '  ', '13', '', '*', '', '15', '   ', '-', ' ', '6'] "
   ]
  },
  {
   "cell_type": "code",
   "execution_count": 26,
   "metadata": {},
   "outputs": [
    {
     "name": "stdout",
     "output_type": "stream",
     "text": [
      "MyVar : my_var \n",
      "\n",
      "OtherVar : other_var \n",
      "\n",
      "YetAnother : yet_another \n",
      "\n",
      "TheAnswer : the_answer \n",
      "\n",
      "ToLife : to_life \n",
      "\n",
      "TheUniverse : the_universe \n",
      "\n",
      "AndEverything : and_everything \n",
      "\n",
      "Result:\n",
      " my_var17 = other_var + yet_another2Var \n",
      "the_answerto_lifethe_universeand_everything = 42\n"
     ]
    }
   ],
   "source": []
  },
  {
   "cell_type": "code",
   "execution_count": 38,
   "metadata": {},
   "outputs": [
    {
     "name": "stdout",
     "output_type": "stream",
     "text": [
      "С227НА777 - Private\n",
      "КУ22777 - Taxi\n",
      "Т22В7477 - Fail\n",
      "М227К19У9 - Fail\n",
      " С227НА777 - Private\n"
     ]
    }
   ],
   "source": [
    "# Задача 01. Регистрационные знаки транспортных средств\n",
    "input_text = ['С227НА777', 'КУ22777', 'Т22В7477', 'М227К19У9', ' С227НА777']\n",
    "for text in input_text:\n",
    "    out = text\n",
    "    if re.findall(r'[АВЕКМНОРСТУХ]\\d{3}[АВЕКМНОРСТУХ]{2}\\d{2,3}', text):\n",
    "        out += ' - Private'\n",
    "    elif re.findall(r'[АВЕКМНОРСТУХ]{2}\\d{3}\\d{2,3}', text):\n",
    "        out += ' - Taxi'\n",
    "    else:\n",
    "        out += ' - Fail'\n",
    "    print(out)"
   ]
  },
  {
   "cell_type": "code",
   "execution_count": 68,
   "metadata": {},
   "outputs": [
    {
     "name": "stdout",
     "output_type": "stream",
     "text": [
      "Длина:  9 список:  ['Он', 'серо-буро-малиновая', 'редиска', 'А', 'не', 'кот', 'www', 'kot', 'ru']\n"
     ]
    }
   ],
   "source": [
    "# Задача 02. Количество слов\n",
    "text = \"\"\"Он --- серо-буро-малиновая редиска!! \n",
    ">>>:-> \n",
    "А не кот. \n",
    "www.kot.ru\"\"\"\n",
    "# result_list = re.split(r'(?:[^\\w]{2,})|(?:[ \\s\\.,])', text)\n",
    "result_list = re.split(r'(?:[^\\w]{2,})|(?:[^\\w-])', text)\n",
    "print('Длина: ', len(result_list), 'список: ', result_list)"
   ]
  },
  {
   "cell_type": "code",
   "execution_count": 55,
   "metadata": {},
   "outputs": [
    {
     "name": "stdout",
     "output_type": "stream",
     "text": [
      "['ivanoff@ivan-chai.ru', 'o-lupin@mail.ru']\n",
      "['boo@ya', 'boo@ya.ru', 'boo@ya.ru']\n"
     ]
    }
   ],
   "source": [
    "# Задача 03. Поиск e-mailов\n",
    "texts = [\"\"\"Иван Иванович! \n",
    "Нужен ответ на письмо от ivanoff@ivan-chai.ru. \n",
    "Не забудьте поставить в копию \n",
    "serge'o-lupin@mail.ru- это важно.\"\"\"\n",
    ",\n",
    "\"\"\"NO: foo.@ya.ru, foo@.ya.ru \n",
    "PARTLY: boo@ya_ru, -boo@ya.ru-, foo№boo@ya.ru\"\"\"]\n",
    "\n",
    "for text in texts:\n",
    "    print(re.findall(r'[a-zA-Z0-9](?:[-]?[a-zA-Z0-9])*@[a-zA-Z0-9-]+(?:\\.[a-zA-Z0-9]+)?', text))"
   ]
  },
  {
   "cell_type": "code",
   "execution_count": 75,
   "metadata": {},
   "outputs": [
    {
     "name": "stdout",
     "output_type": "stream",
     "text": [
      "Уважаемые! Если вы к (TBD) не вернёте \n",
      "чемодан, то уже в (TBD) я за себя не отвечаю. \n",
      "PS. С отношением 25:50 всё нормально!\n"
     ]
    }
   ],
   "source": [
    "# Задача 04. Замена времени\n",
    "text = \"\"\"Уважаемые! Если вы к 09:00 не вернёте \n",
    "чемодан, то уже в 09:00:01 я за себя не отвечаю. \n",
    "PS. С отношением 25:50 всё нормально!\"\"\"\n",
    "\n",
    "print(re.sub(r'(?:(?:[0-1]\\d)|2[0-4])(?::[0-6]\\d){1,2}', '(TBD)', text))"
   ]
  },
  {
   "cell_type": "code",
   "execution_count": 96,
   "metadata": {},
   "outputs": [
    {
     "name": "stdout",
     "output_type": "stream",
     "text": [
      " - None\n",
      "1.2 - None\n",
      "1. - None\n",
      "1.0e-55 - None\n",
      "e-12 - None\n",
      "6.5E - None\n",
      "1e-12 - None\n",
      "+4.1234567890E-99999 - None\n",
      "7.6e+12.5 - None\n",
      "99 - None\n"
     ]
    }
   ],
   "source": [
    "# Задача 05. Действительные числа в паскале\n",
    "text = \"\"\"\n",
    "1.2 \n",
    "  1. \n",
    "    1.0e-55  \n",
    "      e-12   \n",
    "  6.5E \n",
    "        1e-12  \n",
    "  +4.1234567890E-99999           \n",
    "  7.6e+12.5 \n",
    "   99 \"\"\"\n",
    "\n",
    "for txt in text.split('\\n'):\n",
    "    text2 = txt.strip()\n",
    "    print(text2, '-', \n",
    "    re.fullmatch(r'^[+-]?\\d+(?:(?:\\.\\d+)(?:[eE]-\\d+)?)(?=\\s)|(?<=(?:\\s))[+-]?\\d+(?:[eE]-\\d+)', text2)\n",
    "         )"
   ]
  },
  {
   "cell_type": "code",
   "execution_count": 103,
   "metadata": {},
   "outputs": [
    {
     "name": "stdout",
     "output_type": "stream",
     "text": [
      "Список = ['ФГОС', 'ПООП', 'ФГУ ФНЦ НИИСИ РАН'], длина = 3\n"
     ]
    }
   ],
   "source": [
    "# Задача 06. Аббревиатуры\n",
    "text = \"\"\"Это курс информатики соответствует ФГОС и ПООП, \n",
    "это подтверждено ФГУ ФНЦ НИИСИ РАН\"\"\"\n",
    "\n",
    "result = re.findall(r'[А-Я]{2,}(?:\\s?[А-Я]{2,})*', text)\n",
    "print(f'Список = {result}, длина = {len(result)}')"
   ]
  },
  {
   "cell_type": "code",
   "execution_count": 111,
   "metadata": {},
   "outputs": [
    {
     "name": "stdout",
     "output_type": "stream",
     "text": [
      "Было закуплено 1728 единиц техники \n",
      "по 68921000.50653 рублей.\n"
     ]
    }
   ],
   "source": [
    "# Задача 07. Шифровка\n",
    "text = \"\"\"Было закуплено 12 единиц техники \n",
    "по 410.37 рублей.\"\"\"\n",
    "\n",
    "# def proc(x): return str(int(x[0])**3) \n",
    "proc = lambda x: str(int(x[0])**3)\n",
    "\n",
    "print(re.sub(r'\\d+', proc, text))"
   ]
  },
  {
   "cell_type": "code",
   "execution_count": null,
   "metadata": {},
   "outputs": [],
   "source": [
    "# Задача 08. То ли акростих, то ли акроним, то ли апроним\n"
   ]
  },
  {
   "cell_type": "code",
   "execution_count": 116,
   "metadata": {},
   "outputs": [
    {
     "name": "stdout",
     "output_type": "stream",
     "text": [
      "[1, 2, 3, 4, 5, 6, 7]\n"
     ]
    }
   ],
   "source": [
    "old_list = ['1', '2', '3', '4', '5', '6', '7']\n",
    "new_list = list(map(int, old_list))\n",
    "print (new_list)"
   ]
  },
  {
   "cell_type": "code",
   "execution_count": 121,
   "metadata": {},
   "outputs": [
    {
     "name": "stdout",
     "output_type": "stream",
     "text": [
      "МГИМО\n",
      "МАСАНДРА\n"
     ]
    }
   ],
   "source": [
    "texts = [\"\"\"Московский государственный институт международных отношений\"\"\"\n",
    "         ,\n",
    "         \"\"\"микоян авиацию снабдил алкоголем, \n",
    "народ доволен работой авиаконструктора\"\"\"]\n",
    "\n",
    "for text in texts:\n",
    "    print(\n",
    "        ''.join(re.findall(r'\\b[а-яА-Я]', text)).upper()\n",
    "    )"
   ]
  },
  {
   "cell_type": "code",
   "execution_count": 163,
   "metadata": {},
   "outputs": [
    {
     "name": "stdout",
     "output_type": "stream",
     "text": [
      "Вечер за окном. / Еще один день прожит. / Жизнь скоротечна...\n",
      "Строк 3, гласных буквы [5, 7, 5]\n",
      "Хайку!\n",
      "\n",
      "Просто текст\n",
      "Строк 1, гласных буквы [3]\n",
      "Не хайку! Должно быть 3 строки\n",
      "\n",
      "Как вишня расцвела! / Она с коня согнала / И князя-гордеца.\n",
      "Строк 3, гласных буквы [6, 7, 6]\n",
      "В строке 1 должно быть 5 слогов, а не 6\n",
      "\n",
      "На голой ветке / Ворон сидит одиноко… / Осенний вечер!\n",
      "Строк 3, гласных буквы [5, 8, 5]\n",
      "В строке 2 должно быть 7 слогов, а не 8\n",
      "\n",
      "Тихо, тихо ползи, / Улитка, по склону Фудзи, / Вверх, до самых высот!\n",
      "Строк 3, гласных буквы [6, 8, 4]\n",
      "В строке 1 должно быть 5 слогов, а не 6\n",
      "\n",
      "Жизнь скоротечна… / Думает ли об этом / Маленький мальчик.\n",
      "Строк 3, гласных буквы [5, 7, 5]\n",
      "Хайку!\n",
      "\n"
     ]
    }
   ],
   "source": [
    "# Задача 09. Хайку\n",
    "texts = [\"\"\"Вечер за окном. / Еще один день прожит. / Жизнь скоротечна...\"\"\",\n",
    "         \"\"\"Просто текст\"\"\",\n",
    "         \"\"\"Как вишня расцвела! / Она с коня согнала / И князя-гордеца.\"\"\",\n",
    "         \"\"\"На голой ветке / Ворон сидит одиноко… / Осенний вечер!\"\"\",\n",
    "         \"\"\"Тихо, тихо ползи, / Улитка, по склону Фудзи, / Вверх, до самых высот!\"\"\",\n",
    "         \"\"\"Жизнь скоротечна… / Думает ли об этом / Маленький мальчик.\"\"\"\n",
    "]\n",
    "\n",
    "for text in texts:\n",
    "    print(text)\n",
    "    rows = re.split(r'/', text)\n",
    "#     vowels=[]\n",
    "#     for row in rows:\n",
    "#         vowels.append(len(re.findall(r'[аеоиюэяАЕОИЮЭЯ]', row)))\n",
    "    vowels = list(map(lambda str: len(re.findall(r'[аеоуиюэяАЕОУИЮЭЯ]', str)), rows))\n",
    "    print(f'Строк {len(rows)}, гласных буквы {vowels}')\n",
    "    if len(rows)!=3: \n",
    "        print('Не хайку! Должно быть 3 строки')\n",
    "    else:\n",
    "        if vowels[0] != 5:\n",
    "            print('В строке 1 должно быть 5 слогов, а не', vowels[0])\n",
    "        elif vowels[1] != 7:\n",
    "            print('В строке 2 должно быть 7 слогов, а не', vowels[1])\n",
    "        elif vowels[2] != 5:\n",
    "            print('В строке 3 должно быть 5 слогов, а не', vowels[2])\n",
    "        else:\n",
    "            print('Хайку!')\n",
    "    print()"
   ]
  },
  {
   "cell_type": "code",
   "execution_count": 164,
   "metadata": {},
   "outputs": [
    {
     "name": "stdout",
     "output_type": "stream",
     "text": [
      "MyVar : my_var \n",
      "\n",
      "OtherVar : other_var \n",
      "\n",
      "YetAnother : yet_another \n",
      "\n",
      "TheAnswer : the_answer \n",
      "\n",
      "ToLife : to_life \n",
      "\n",
      "TheUniverse : the_universe \n",
      "\n",
      "AndEverything : and_everything \n",
      "\n",
      "Result:\n",
      " my_var17 = other_var + yet_another2Var \n",
      "the_answerto_lifethe_universeand_everything = 42\n"
     ]
    }
   ],
   "source": [
    "# Задача 10. CamelCase -> under_score\n",
    "import re \n",
    "def repl(m): \n",
    "    ret = ''\n",
    "    if m:\n",
    "        if m[1]:\n",
    "                ret = m[1].lower()\n",
    "        if m[2]:\n",
    "            ret += '_' + m[2].lower()\n",
    "        #ret = m[1].lower() + '_' (+ m[2].lower() in m[2])\n",
    "    print(m[0], ':', ret,'\\n')\n",
    "    return ret\n",
    "\n",
    "text = \"\"\"MyVar17 = OtherVar + YetAnother2Var \n",
    "TheAnswerToLifeTheUniverseAndEverything = 42\"\"\"\n",
    "\n",
    "print('Result:\\n', re.sub(r'([A-Z][a-z]*)([A-Z][a-z]*)', repl, text)) "
   ]
  },
  {
   "cell_type": "code",
   "execution_count": 162,
   "metadata": {},
   "outputs": [
    {
     "name": "stdout",
     "output_type": "stream",
     "text": [
      "Исходный текст: Довольно распространённая ошибка ошибка — это лишний повтор повтор слова слова. \n",
      "Смешно, не не правда ли? Не нужно портить хор хоровод. \n",
      "\n",
      "Результат Довольно распространённая ошибка — это лишний повтор слова. \n",
      "Смешно, не правда ли? Не нужно портить хор хоровод.\n"
     ]
    }
   ],
   "source": [
    "# Задача 11. Удаление повторов\n",
    "text = \"\"\"Довольно распространённая ошибка ошибка — это лишний повтор повтор слова слова. \n",
    "Смешно, не не правда ли? Не нужно портить хор хоровод.\"\"\"\n",
    "\n",
    "def comp(x):\n",
    "    #print(x[0], x[1], x[2])\n",
    "    result = x[0]\n",
    "    if x[1] == x[2]:\n",
    "        result = x[1]\n",
    "    return result\n",
    "\n",
    "result = re.sub(r'(\\b\\w+\\b)\\s+(\\b\\w+\\b)', comp, text)\n",
    "\n",
    "print('Исходный текст:', text, '\\n')\n",
    "print('Результат', result)"
   ]
  },
  {
   "cell_type": "code",
   "execution_count": 174,
   "metadata": {},
   "outputs": [
    {
     "data": {
      "text/plain": [
       "['олень, а не заяц']"
      ]
     },
     "execution_count": 174,
     "metadata": {},
     "output_type": "execute_result"
    }
   ],
   "source": [
    "# Задача 12. Близкие слова\n",
    "text = \"\"\"Да он олень, а не заяц!\"\"\"\n",
    "\n",
    "re.findall(r'олень(?:[^\\w]+[^з][^а][^я][^ц]\\w*){1,5}\\s*заяц', text)"
   ]
  },
  {
   "cell_type": "code",
   "execution_count": 209,
   "metadata": {},
   "outputs": [
    {
     "name": "stdout",
     "output_type": "stream",
     "text": [
      "\n",
      " 12 мало \n",
      "лучше ,123 \n",
      ",1234 почти \n",
      ",12354 хорошо \n",
      "стало ,123,456 \n",
      "супер 1,234,567\n"
     ]
    }
   ],
   "source": [
    "# Задача 13. Форматирование больших чисел\n",
    "text = \"\"\"12 мало \n",
    "лучше 123 \n",
    "1234 почти \n",
    "12354 хорошо \n",
    "стало 123456 \n",
    "супер 1234567\"\"\"\n",
    "\n",
    "def proc(x):\n",
    "#     print(x[0], x[1], x[2], x[3])\n",
    "    result = ''\n",
    "    if x[1]: result = x[1] \n",
    "    if x[1] != '':\n",
    "        if x[2]: result +=',' + x[2] \n",
    "    else:\n",
    "        if x[2]: result += x[2]\n",
    "    if x[2] != '':\n",
    "        if x[3]: result +=',' + x[3] \n",
    "    else:\n",
    "        if x[3]: result += x[3]\n",
    "#     print(result)\n",
    "    return result\n",
    "\n",
    "def proc2(x):\n",
    "#     print(x[0], x[1], x[2], x[3])\n",
    "    result = ''\n",
    "    if x[1]: result = x[1] \n",
    "    if x[1] != '':\n",
    "        if x[2]: result +=',' + x[2] \n",
    "    else:\n",
    "        if x[2]: result += x[2]\n",
    "#     print(result)\n",
    "    return result\n",
    "\n",
    "str1 = re.sub(r'(\\d{0,2})(\\d{3})(\\d{3})', proc , text)\n",
    "# print('\\n', str1)\n",
    "\n",
    "str2 = re.sub(r'(\\d{0,2}[^,])(\\d{3})', proc2 , str1)\n",
    "print('\\n', str2)"
   ]
  },
  {
   "cell_type": "code",
   "execution_count": 221,
   "metadata": {},
   "outputs": [
    {
     "data": {
      "text/plain": [
       "['', '', '', '', '']"
      ]
     },
     "execution_count": 221,
     "metadata": {},
     "output_type": "execute_result"
    }
   ],
   "source": [
    "# Задача 14. Разделить текст на предложения\n",
    "text = \"\"\"В        этом \n",
    "предложении разрывы строки... Но это \n",
    "не так важно! Совсем? Да, совсем! И это \n",
    "\n",
    "не    должно мешать.\"\"\"\n",
    "\n",
    "re.findall(r'[а-яА-Яa-zA-Z](\\w*\\s*,*)*(?=[.;!?])[.;!?]', text, flags=re.DOTALL+re.MULTILINE)"
   ]
  },
  {
   "cell_type": "code",
   "execution_count": null,
   "metadata": {},
   "outputs": [],
   "source": []
  }
 ],
 "metadata": {
  "kernelspec": {
   "display_name": "Python 3",
   "language": "python",
   "name": "python3"
  },
  "language_info": {
   "codemirror_mode": {
    "name": "ipython",
    "version": 3
   },
   "file_extension": ".py",
   "mimetype": "text/x-python",
   "name": "python",
   "nbconvert_exporter": "python",
   "pygments_lexer": "ipython3",
   "version": "3.7.7"
  }
 },
 "nbformat": 4,
 "nbformat_minor": 4
}
