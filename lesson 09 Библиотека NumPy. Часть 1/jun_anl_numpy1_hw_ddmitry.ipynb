{
 "cells": [
  {
   "cell_type": "markdown",
   "metadata": {
    "colab_type": "text",
    "id": "KkW9XLpDgFAF"
   },
   "source": [
    "# Библиотека `NumPy`: часть 1\n",
    "\n",
    "*Алла Тамбовцева*\n",
    "\n",
    "## Домашнее задание \n",
    "\n",
    "### Описание домашнего задания и формат сдачи\n",
    "\n",
    "В домашнем задании необходимо решить предложенные задачи по программированию – вписать свой код в ячейки после условий задач вместо комментария `### YOUR CODE HERE ###` в файле *homework-numpy1.ipynb* и сохранить изменения, используя опцию *Save and Checkpoint* из вкладки меню *File* или кнопку *Save and Checkpoint* на панели инструментов. Итоговый файл в формате `.ipynb` (файл Jupyter Notebook) необходимо загрузить в личный кабинет обучающей онлайн платформы Skillbox (https://go.skillbox.ru/) и отправить на проверку."
   ]
  },
  {
   "cell_type": "markdown",
   "metadata": {
    "colab_type": "text",
    "id": "HWyKtbvPgFAF"
   },
   "source": [
    "Дан массив, содержащий баллы слушателей курса по английскому языку за вступительный экзамен. Слушатели распределены по 15 группам по 10 человек."
   ]
  },
  {
   "cell_type": "code",
   "execution_count": 71,
   "metadata": {
    "colab": {},
    "colab_type": "code",
    "id": "XViQYLNHgFAG"
   },
   "outputs": [],
   "source": [
    "import numpy as np\n",
    "scores = np.array([[20, 40, 56, 80, 0, 5, 25, 27, 74, 1],\n",
    "         [0, 98, 67, 100, 8, 56, 34, 82, 100, 7],\n",
    "         [78, 54, 23, 79, 100, 0, 0, 42, 95, 83],\n",
    "         [51, 50, 47, 23, 100, 94, 25, 48, 38, 77],\n",
    "         [90, 87, 41, 89, 52, 0, 5, 17, 28, 99],\n",
    "         [32, 18, 21, 18, 29, 31, 48, 62, 76, 22],\n",
    "         [6, 0, 65, 78, 43, 22, 38, 88, 94, 100],\n",
    "         [77, 28, 39, 41, 0, 81, 45, 54, 98, 12],\n",
    "         [66, 0, 88, 0, 44, 0, 55, 100, 12, 11],\n",
    "         [17, 70, 86, 96, 56, 23, 32, 49, 70, 80],\n",
    "         [20, 24, 76, 50, 29, 40, 3, 2, 5, 11],\n",
    "         [33, 63, 28, 40, 51, 100, 98, 87, 22, 30],\n",
    "         [16, 54, 78, 12, 25, 35, 10, 19, 67, 0],\n",
    "         [100, 88, 24, 33, 47, 56, 62, 34, 77, 53],\n",
    "         [50, 89, 70, 72, 56, 29, 15, 20, 0, 0]])"
   ]
  },
  {
   "cell_type": "markdown",
   "metadata": {
    "colab_type": "text",
    "id": "FZyP6_u4gFAI"
   },
   "source": [
    "### Задание 1\n",
    "\n",
    "Посчитать, сколько слушателей получили 0 за вступительный экзамен."
   ]
  },
  {
   "cell_type": "code",
   "execution_count": 18,
   "metadata": {
    "colab": {},
    "colab_type": "code",
    "id": "ny-bpAn_gFAI"
   },
   "outputs": [
    {
     "name": "stdout",
     "output_type": "stream",
     "text": [
      "13 , [0 0 0 0 0 0 0 0 0 0 0 0 0]\n"
     ]
    }
   ],
   "source": [
    "### YOUR CODE HERE ###\n",
    "zeroscores = scores[scores==0]\n",
    "print(zeroscores.size, ',', zeroscores)"
   ]
  },
  {
   "cell_type": "markdown",
   "metadata": {
    "colab_type": "text",
    "id": "zqXOMBPCgFAL"
   },
   "source": [
    "### Задание 2\n",
    "\n",
    "Посчитать, сколько слушателей получили балл выше 50."
   ]
  },
  {
   "cell_type": "code",
   "execution_count": 28,
   "metadata": {
    "colab": {},
    "colab_type": "code",
    "id": "mUD76BUigFAL"
   },
   "outputs": [
    {
     "name": "stdout",
     "output_type": "stream",
     "text": [
      "[ 56  80  74  98  67 100  56  82 100  78  54  79 100  95  83  51 100  94\n",
      "  77  90  87  89  52  99  62  76  65  78  88  94 100  77  81  54  98  66\n",
      "  88  55 100  70  86  96  56  70  80  76  63  51 100  98  87  54  78  67\n",
      " 100  88  56  62  77  53  89  70  72  56]\n",
      "Получили балл выше 50: 64\n"
     ]
    }
   ],
   "source": [
    "### YOUR CODE HERE ###\n",
    "print(scores[scores > 50])\n",
    "print('Получили балл выше 50:',scores[scores > 50].size)"
   ]
  },
  {
   "cell_type": "markdown",
   "metadata": {
    "colab_type": "text",
    "id": "OocnEIqdgFAN"
   },
   "source": [
    "### Задание 3\n",
    "\n",
    "Посчитать, сколько человек получили балл не ниже 50, но не выше 70."
   ]
  },
  {
   "cell_type": "code",
   "execution_count": 29,
   "metadata": {
    "colab": {},
    "colab_type": "code",
    "id": "RvzMz6lTgFAO"
   },
   "outputs": [
    {
     "name": "stdout",
     "output_type": "stream",
     "text": [
      "[56 67 56 54 51 50 52 62 65 54 66 55 70 56 70 50 63 51 54 67 56 62 53 50\n",
      " 70 56]\n",
      "Получили балл не ниже 50, но не выше 70: 26\n"
     ]
    }
   ],
   "source": [
    "### YOUR CODE HERE ###\n",
    "myscores = scores[(scores >= 50) & (scores <= 70)]\n",
    "print(myscores)\n",
    "print('Получили балл не ниже 50, но не выше 70:', myscores.size)"
   ]
  },
  {
   "cell_type": "markdown",
   "metadata": {
    "colab_type": "text",
    "id": "Q9dNpdEBgFAP"
   },
   "source": [
    "### Задание 4\n",
    "\n",
    "Определить, в какой группе средний балл за вступительный экзамен выше."
   ]
  },
  {
   "cell_type": "code",
   "execution_count": 53,
   "metadata": {
    "colab": {},
    "colab_type": "code",
    "id": "Fto_aImFgFAQ"
   },
   "outputs": [
    {
     "name": "stdout",
     "output_type": "stream",
     "text": [
      "Средние баллы по группам: [32.8 55.2 55.4 55.3 50.8 35.7 53.4 47.5 37.6 57.9 26.  55.2 31.6 57.4\n",
      " 40.1]\n",
      "Максимальный средний балл в группе 10\n"
     ]
    }
   ],
   "source": [
    "### YOUR CODE HERE ###\n",
    "r=np.zeros((scores.shape[0]))\n",
    "for i in range(0, scores.shape[0]):\n",
    "    r[i]=scores[i].mean()\n",
    "print('Средние баллы по группам:', r)\n",
    "print('Максимальный средний балл в группе', r.argmax()+1) # Люди считают с 1, в отличие от машин :)"
   ]
  },
  {
   "cell_type": "markdown",
   "metadata": {
    "colab_type": "text",
    "id": "IjZUz0KkgFAR"
   },
   "source": [
    "### Задание 5\n",
    "\n",
    "Сохранить баллы слушателей выше 0 в массив `nonzero`. "
   ]
  },
  {
   "cell_type": "code",
   "execution_count": 56,
   "metadata": {
    "colab": {},
    "colab_type": "code",
    "id": "PRViY--agFAT"
   },
   "outputs": [
    {
     "data": {
      "text/plain": [
       "array([ 20,  40,  56,  80,   5,  25,  27,  74,   1,  98,  67, 100,   8,\n",
       "        56,  34,  82, 100,   7,  78,  54,  23,  79, 100,  42,  95,  83,\n",
       "        51,  50,  47,  23, 100,  94,  25,  48,  38,  77,  90,  87,  41,\n",
       "        89,  52,   5,  17,  28,  99,  32,  18,  21,  18,  29,  31,  48,\n",
       "        62,  76,  22,   6,  65,  78,  43,  22,  38,  88,  94, 100,  77,\n",
       "        28,  39,  41,  81,  45,  54,  98,  12,  66,  88,  44,  55, 100,\n",
       "        12,  11,  17,  70,  86,  96,  56,  23,  32,  49,  70,  80,  20,\n",
       "        24,  76,  50,  29,  40,   3,   2,   5,  11,  33,  63,  28,  40,\n",
       "        51, 100,  98,  87,  22,  30,  16,  54,  78,  12,  25,  35,  10,\n",
       "        19,  67, 100,  88,  24,  33,  47,  56,  62,  34,  77,  53,  50,\n",
       "        89,  70,  72,  56,  29,  15,  20])"
      ]
     },
     "execution_count": 56,
     "metadata": {},
     "output_type": "execute_result"
    }
   ],
   "source": [
    "### YOUR CODE HERE ###\n",
    "nonzero = scores[scores > 0]\n",
    "nonzero"
   ]
  },
  {
   "cell_type": "markdown",
   "metadata": {
    "colab_type": "text",
    "id": "-ve1VG1XgFAV"
   },
   "source": [
    "### Задание 6\n",
    "\n",
    "Используя массив `nonzero`, определить минимальный балл за вступительный балл по всем группам."
   ]
  },
  {
   "cell_type": "code",
   "execution_count": 57,
   "metadata": {
    "colab": {},
    "colab_type": "code",
    "id": "ZnGg9mcUgFAV"
   },
   "outputs": [
    {
     "data": {
      "text/plain": [
       "1"
      ]
     },
     "execution_count": 57,
     "metadata": {},
     "output_type": "execute_result"
    }
   ],
   "source": [
    "### YOUR CODE HERE ###\n",
    "nonzero.min()"
   ]
  },
  {
   "cell_type": "markdown",
   "metadata": {
    "colab_type": "text",
    "id": "5eaQJGatgFAZ"
   },
   "source": [
    "### Задание 7\n",
    "\n",
    "Выбрать из массива `nonzero` только те значения, которые соответствуют продвинутому уровню знания языка – баллу за экзамен выше 80. Сохранить полученный результат в массив `advanced`. В заданиях 8-10 нужно работать с массивом `advanced`."
   ]
  },
  {
   "cell_type": "code",
   "execution_count": 59,
   "metadata": {
    "colab": {},
    "colab_type": "code",
    "id": "nmMA59fAgFAZ"
   },
   "outputs": [
    {
     "data": {
      "text/plain": [
       "array([ 98, 100,  82, 100, 100,  95,  83, 100,  94,  90,  87,  89,  99,\n",
       "        88,  94, 100,  81,  98,  88, 100,  86,  96, 100,  98,  87, 100,\n",
       "        88,  89])"
      ]
     },
     "execution_count": 59,
     "metadata": {},
     "output_type": "execute_result"
    }
   ],
   "source": [
    "### YOUR CODE HERE ###\n",
    "advanced = nonzero[nonzero > 80]\n",
    "advanced"
   ]
  },
  {
   "cell_type": "markdown",
   "metadata": {
    "colab_type": "text",
    "id": "Aq0Lf1f6gFAk"
   },
   "source": [
    "### Задание 8\n",
    "\n",
    "Определить размерность массива `advanced`."
   ]
  },
  {
   "cell_type": "code",
   "execution_count": 64,
   "metadata": {
    "colab": {},
    "colab_type": "code",
    "id": "m_9Wm-7xgFAl"
   },
   "outputs": [
    {
     "data": {
      "text/plain": [
       "1"
      ]
     },
     "execution_count": 64,
     "metadata": {},
     "output_type": "execute_result"
    }
   ],
   "source": [
    "### YOUR CODE HERE ###\n",
    "advanced.ndim"
   ]
  },
  {
   "cell_type": "markdown",
   "metadata": {
    "colab_type": "text",
    "id": "Bc_cX_EYgFAo"
   },
   "source": [
    "### Задание 9\n",
    "\n",
    "Определить форму массива `advanced`."
   ]
  },
  {
   "cell_type": "code",
   "execution_count": 61,
   "metadata": {
    "colab": {},
    "colab_type": "code",
    "id": "6VSwGB6fgFAp"
   },
   "outputs": [
    {
     "data": {
      "text/plain": [
       "(28,)"
      ]
     },
     "execution_count": 61,
     "metadata": {},
     "output_type": "execute_result"
    }
   ],
   "source": [
    "### YOUR CODE HERE ###\n",
    "advanced.shape"
   ]
  },
  {
   "cell_type": "markdown",
   "metadata": {
    "colab_type": "text",
    "id": "tmheEQZ3gFAr"
   },
   "source": [
    "### Задание 10\n",
    "\n",
    "Определить общее число элементов в массиве `advanced`."
   ]
  },
  {
   "cell_type": "code",
   "execution_count": 62,
   "metadata": {
    "colab": {},
    "colab_type": "code",
    "id": "OvJ2oJV7gFAr"
   },
   "outputs": [
    {
     "data": {
      "text/plain": [
       "28"
      ]
     },
     "execution_count": 62,
     "metadata": {},
     "output_type": "execute_result"
    }
   ],
   "source": [
    "### YOUR CODE HERE ###\n",
    "advanced.size"
   ]
  },
  {
   "cell_type": "markdown",
   "metadata": {
    "colab_type": "text",
    "id": "rfufTemUgFAv"
   },
   "source": [
    "### Задание 11\n",
    "\n",
    "На основе исходного массива `scores` создать булев массив `sto`, где `True` соответствует баллам за экзамен, равным 100, а `False` – всем остальным баллам. "
   ]
  },
  {
   "cell_type": "code",
   "execution_count": 74,
   "metadata": {
    "colab": {},
    "colab_type": "code",
    "id": "cXVCTZJRgFAw"
   },
   "outputs": [
    {
     "name": "stdout",
     "output_type": "stream",
     "text": [
      "[[False False False False False False False False False False]\n",
      " [False False False  True False False False False  True False]\n",
      " [False False False False  True False False False False False]\n",
      " [False False False False  True False False False False False]\n",
      " [False False False False False False False False False False]\n",
      " [False False False False False False False False False False]\n",
      " [False False False False False False False False False  True]\n",
      " [False False False False False False False False False False]\n",
      " [False False False False False False False  True False False]\n",
      " [False False False False False False False False False False]\n",
      " [False False False False False False False False False False]\n",
      " [False False False False False  True False False False False]\n",
      " [False False False False False False False False False False]\n",
      " [ True False False False False False False False False False]\n",
      " [False False False False False False False False False False]]\n"
     ]
    }
   ],
   "source": [
    "### YOUR CODE HERE ###\n",
    "sto = scores == 100\n",
    "print(sto)"
   ]
  },
  {
   "cell_type": "markdown",
   "metadata": {
    "colab_type": "text",
    "id": "GBKO0EiTgFAy"
   },
   "source": [
    "### Задание 12\n",
    "\n",
    "На основе исходного массива `scores` вывести на экран оценки слушателей первых семи групп (включительно, должны быть 7 списков оценок)."
   ]
  },
  {
   "cell_type": "code",
   "execution_count": 77,
   "metadata": {
    "colab": {},
    "colab_type": "code",
    "id": "5MsmBdCggFA0"
   },
   "outputs": [
    {
     "name": "stdout",
     "output_type": "stream",
     "text": [
      "Группа 1 : [20 40 56 80  0  5 25 27 74  1]\n",
      "Группа 2 : [  0  98  67 100   8  56  34  82 100   7]\n",
      "Группа 3 : [ 78  54  23  79 100   0   0  42  95  83]\n",
      "Группа 4 : [ 51  50  47  23 100  94  25  48  38  77]\n",
      "Группа 5 : [90 87 41 89 52  0  5 17 28 99]\n",
      "Группа 6 : [32 18 21 18 29 31 48 62 76 22]\n",
      "Группа 7 : [  6   0  65  78  43  22  38  88  94 100]\n"
     ]
    }
   ],
   "source": [
    "### YOUR CODE HERE ###\n",
    "for i in range(0, 7):\n",
    "    print('Группа', i+1, ':', scores[i])"
   ]
  },
  {
   "cell_type": "markdown",
   "metadata": {
    "colab_type": "text",
    "id": "5cwVuZHAgFA1"
   },
   "source": [
    ".<br> .<br> .<br> .<br> .<br> .<br> .<br> .<br> .<br> .<br> .<br> .<br> .<br> .<br> .<br> .<br> .<br> .<br> \n",
    "# Дополнительное (необязательное) задание.\n",
    "<br>\n"
   ]
  },
  {
   "cell_type": "markdown",
   "metadata": {
    "colab_type": "text",
    "id": "NevmPbRrgFA2"
   },
   "source": [
    "В заданиях 1-2 необходимо работать с массивом `A`:"
   ]
  },
  {
   "cell_type": "code",
   "execution_count": 139,
   "metadata": {
    "colab": {},
    "colab_type": "code",
    "id": "b8eeE6EOgFA2"
   },
   "outputs": [],
   "source": [
    "A = np.array([[2, 9, 8, 0],\n",
    "             [8, 7, 5, 6], \n",
    "             [3, 1, 0, 2], \n",
    "             [6, 5, 6, 8],\n",
    "             [1, 0, 0, 4]])"
   ]
  },
  {
   "cell_type": "markdown",
   "metadata": {
    "colab_type": "text",
    "id": "RAQ4aJhfgFA5"
   },
   "source": [
    "### Задание 1\n",
    "\n",
    "Транспонировать массив `A`, не используя встроенных методов `NumPy`. Сохранить полученный массив в переменную `A_tr`. Допустимо использовать циклы и условные конструкции (при необходимости).\n",
    "\n",
    "**Напоминание:** транспонирование – операция замены строк и столбцов местами. Пример:\n",
    "\n",
    "До транспонирования:\n",
    "\n",
    "        [[2, 5, 0], \n",
    "        [7, 8, 1]]\n",
    "\n",
    "После транспонирования:\n",
    "\n",
    "        [[2, 7],\n",
    "        [5, 8],\n",
    "        [0, 1]]\n",
    "\n",
    "**Подсказка:** можно почитать про цикл *for* на [pythontutor.ru](https://pythontutor.ru/lessons/for_loop/). На самом деле, если вспомнить про выбор элементов в массиве `NumPy`, то одного цикла будет достаточно, условные конструкции не понадобятся."
   ]
  },
  {
   "cell_type": "code",
   "execution_count": 140,
   "metadata": {
    "colab": {},
    "colab_type": "code",
    "id": "2HvCIIF0gFA6"
   },
   "outputs": [
    {
     "name": "stdout",
     "output_type": "stream",
     "text": [
      "[[2 8 3 6 1]\n",
      " [9 7 1 5 0]\n",
      " [8 5 0 6 0]\n",
      " [0 6 2 8 4]]\n"
     ]
    }
   ],
   "source": [
    "### YOUR CODE HERE ###\n",
    "A_tr = np.zeros((4, 5), int)\n",
    "for i in range(0, A.shape[0]):\n",
    "    for j in range(0, A.shape[1]):\n",
    "        A_tr[j, i] = A[i, j]\n",
    "print(A_tr)"
   ]
  },
  {
   "cell_type": "code",
   "execution_count": 141,
   "metadata": {
    "colab": {},
    "colab_type": "code",
    "id": "2HvCIIF0gFA6"
   },
   "outputs": [
    {
     "name": "stdout",
     "output_type": "stream",
     "text": [
      "[[2 8 3 6 1]\n",
      " [9 7 1 5 0]\n",
      " [8 5 0 6 0]\n",
      " [0 6 2 8 4]]\n"
     ]
    }
   ],
   "source": [
    "# Решение 2\n",
    "A_tr = np.zeros((4, 5), int)\n",
    "for i in range(0, A.shape[0]):\n",
    "    A_tr[:,i] = A[i]\n",
    "print(A_tr) \n",
    "    "
   ]
  },
  {
   "cell_type": "markdown",
   "metadata": {
    "colab_type": "text",
    "id": "Rb0Np089gFA8"
   },
   "source": [
    "### Задание 2\n",
    "\n",
    "Сравнить результаты: проверить равенство полученного выше массива `A_tr` и массива, который получается транспонированием массива `A` с помощью метода `.T`. \n",
    "\n",
    "**Подсказка:** для сравнения массивов целиком, не поэлементно, можно использовать [функцию](https://docs.scipy.org/doc/numpy/reference/generated/numpy.array_equal.html) `array_equal()`."
   ]
  },
  {
   "cell_type": "code",
   "execution_count": 147,
   "metadata": {
    "colab": {},
    "colab_type": "code",
    "id": "oy3tY9Y0gFA9"
   },
   "outputs": [
    {
     "name": "stdout",
     "output_type": "stream",
     "text": [
      "[[ True  True  True  True  True]\n",
      " [ True  True  True  True  True]\n",
      " [ True  True  True  True  True]\n",
      " [ True  True  True  True  True]]\n",
      "Сравнение массивов целиком: True\n"
     ]
    }
   ],
   "source": [
    "### YOUR CODE HERE ###\n",
    "R = A_tr == A.T\n",
    "print(R)\n",
    "print('Сравнение массивов целиком:', np.array_equal(A_tr, A.T))"
   ]
  },
  {
   "cell_type": "markdown",
   "metadata": {
    "colab_type": "text",
    "id": "0GsTgRbbgFA_"
   },
   "source": [
    "### Задание 3\n",
    "\n",
    "Студент N подрабатывает репетитором по математике и ведёт занятия разных типов: готовит к ЕГЭ, к олимпиадам, «подтягивает» математику у школьников младших классов. \n",
    "\n",
    "В массиве `classes` хранится число проведённых уроков за пять рабочих дней, в массиве `prices` — стоимость одного урока (считаем, что студент за день проводит занятия одного типа, одинаковые по стоимости).\n",
    "\n",
    "Определить доход студента за неделю, используя [метод](https://docs.scipy.org/doc/numpy/reference/generated/numpy.dot.html) `.dot()` для нахождения [скалярного произведения](https://ru.wikipedia.org/wiki/%D0%A1%D0%BA%D0%B0%D0%BB%D1%8F%D1%80%D0%BD%D0%BE%D0%B5_%D0%BF%D1%80%D0%BE%D0%B8%D0%B7%D0%B2%D0%B5%D0%B4%D0%B5%D0%BD%D0%B8%D0%B5). "
   ]
  },
  {
   "cell_type": "code",
   "execution_count": 149,
   "metadata": {
    "colab": {},
    "colab_type": "code",
    "id": "IHm4BAzMgFA_"
   },
   "outputs": [],
   "source": [
    "classes = np.array([3, 3, 2, 0, 2])\n",
    "prices = np.array([1500, 1500, 2500, 1000, 1000])"
   ]
  },
  {
   "cell_type": "code",
   "execution_count": 151,
   "metadata": {
    "colab": {},
    "colab_type": "code",
    "id": "naNXR55mgFBD"
   },
   "outputs": [
    {
     "name": "stdout",
     "output_type": "stream",
     "text": [
      "16000\n"
     ]
    }
   ],
   "source": [
    "### YOUR CODE HERE ###\n",
    "result = np.dot(classes, prices)\n",
    "print(result)"
   ]
  },
  {
   "cell_type": "markdown",
   "metadata": {
    "colab_type": "text",
    "id": "pVhH4MrAgFBH"
   },
   "source": [
    "### Задание 4\n",
    "\n",
    "По результатам работы с данными по оценкам за эссе студентов, поставленным двумя разными экспертами, были созданы два булевых массива `expert1` и `expert2`, в которых значение `True` означает оценку «удовлетворительно» и выше, а значение `False` – неудовлетворительно. Всего было оценено 15 эссе, по 5 эссе на каждую из трёх тем."
   ]
  },
  {
   "cell_type": "code",
   "execution_count": 201,
   "metadata": {
    "colab": {},
    "colab_type": "code",
    "id": "XvKTyCPsgFBH"
   },
   "outputs": [],
   "source": [
    "expert1 = np.array([[True, False, False, True, True],\n",
    "                   [False, True, False, False, True],\n",
    "                   [True, True, True, False, False]])\n",
    "expert2 = np.array([[True, False, False, False, True],\n",
    "                   [False, False, False, False, False],\n",
    "                   [True, False, True, False, False]])"
   ]
  },
  {
   "cell_type": "code",
   "execution_count": 169,
   "metadata": {
    "colab": {},
    "colab_type": "code",
    "id": "_ItTN6kugFBI"
   },
   "outputs": [
    {
     "name": "stdout",
     "output_type": "stream",
     "text": [
      "Итоговые оценки студентов:\n",
      " [[ True False False False  True]\n",
      " [False False False False False]\n",
      " [ True False  True False False]]\n",
      "Зачет получат 4 студентов\n"
     ]
    }
   ],
   "source": [
    "### YOUR CODE HERE ###\n",
    "re = expert1*expert2\n",
    "print('Итоговые оценки студентов:\\n', re)\n",
    "print(f'Зачет получат {re[re==True].size} студентов')"
   ]
  },
  {
   "cell_type": "markdown",
   "metadata": {
    "colab_type": "text",
    "id": "Pu9yicVpgFBL"
   },
   "source": [
    "Определить, используя различные логические операторы (`|`, `&`, и проч.) и вспомогательные методы/функции, сколько студентов получат зачёт, если известно, что для этого необходимо получить оценку не ниже удовлетворительной у обоих экспертов."
   ]
  },
  {
   "cell_type": "markdown",
   "metadata": {
    "colab_type": "text",
    "id": "SNjTSYadgFBM"
   },
   "source": [
    "### Задание 5\n",
    "\n",
    "Дан массив `essay` с итоговыми оценками студентов за эссе из задачи 4:"
   ]
  },
  {
   "cell_type": "code",
   "execution_count": 170,
   "metadata": {
    "colab": {},
    "colab_type": "code",
    "id": "m-0uuLMsgFBN"
   },
   "outputs": [],
   "source": [
    "# pass - сдал\n",
    "# not pass - не сдал\n",
    "\n",
    "essay = np.array([[\"pass\", \"not pass\", \"not pass\", \"not pass\", \"pass\"],\n",
    "        [\"not pass\", \"not pass\", \"not pass\", \"not pass\", \"not pass\"],\n",
    "        [\"pass\", \"not pass\", \"pass\", \"not pass\", \"not pass\"]])"
   ]
  },
  {
   "cell_type": "markdown",
   "metadata": {
    "colab_type": "text",
    "id": "ods6NVgWgFBO"
   },
   "source": [
    "Проверить ответ в предыдущей задаче, используя массив `essay`. Решение должно быть представлено в виде кода, не в виде выводов в результате явного подсчёта элементов."
   ]
  },
  {
   "cell_type": "code",
   "execution_count": 181,
   "metadata": {
    "colab": {},
    "colab_type": "code",
    "id": "VrnzKwKfgFBO"
   },
   "outputs": [
    {
     "name": "stdout",
     "output_type": "stream",
     "text": [
      "Матрица сравнения:\n",
      " [[1 1 1 1 1]\n",
      " [1 1 1 1 1]\n",
      " [1 1 1 1 1]]\n",
      "Отчет верный\n"
     ]
    }
   ],
   "source": [
    "### YOUR CODE HERE ###\n",
    "verify = np.zeros((re.shape), int)\n",
    "for i in range(0, re.shape[0]):\n",
    "    for j in range(0, re.shape[1]):\n",
    "        if (re[i,j] == True) and (essay[i,j]=='pass'):\n",
    "            verify[i] = 1\n",
    "        elif (re[i,j] == False) and (essay[i,j]=='not pass'):\n",
    "            verify[i] = 1\n",
    "print('Матрица сравнения:\\n',verify)\n",
    "if verify.min() == 1:\n",
    "    print('Отчет верный')\n",
    "else:\n",
    "    print('В отчете ошибка')"
   ]
  },
  {
   "cell_type": "markdown",
   "metadata": {
    "colab_type": "text",
    "id": "O4WRS6GagFBQ"
   },
   "source": [
    "### Задание 6\n",
    "\n",
    "Используя массивы `expert1` и `expert2` из задачи 4, определить согласованность двух экспертов, используя меру близости Жаккара, которая вычисляется следующим образом:\n",
    "\n",
    "$$\n",
    "J(A, B) = \\frac{|A \\cap B|}{|A| + |B| - |A \\cap B|}\n",
    ",$$ \n",
    "\n",
    "где $A$ – первое множество, $B$ – второе множество, $A \\cap B$ – пересечение множеств, т.е. их общие элементы. Запись $|A|$ означает «количество элементов в множестве». \n",
    "\n",
    "В качестве множеств $A$ и $B$ в данной задаче выступают множества (группы) студентов, которые получили зачёт у первого и второго экспертов."
   ]
  },
  {
   "cell_type": "code",
   "execution_count": 214,
   "metadata": {
    "colab": {},
    "colab_type": "code",
    "id": "uxsA-5kGgFBQ"
   },
   "outputs": [
    {
     "name": "stdout",
     "output_type": "stream",
     "text": [
      "expert1\n",
      " [[ True False False  True  True]\n",
      " [False  True False False  True]\n",
      " [ True  True  True False False]]\n",
      "expert2\n",
      " [[ True False False False  True]\n",
      " [False False False False False]\n",
      " [ True False  True False False]]\n",
      "numerator1\n",
      " [[ True  True  True False  True]\n",
      " [ True False  True  True False]\n",
      " [ True False  True  True  True]]\n",
      "Степегь согласованности двух экспертов, по мере близости Жаккара: 11/19 = 0.5789473684210527\n"
     ]
    }
   ],
   "source": [
    "### YOUR CODE HERE ###\n",
    "# numerator1 = (expert1*expert2)\n",
    "# numerator1 = expert2[expert1]\n",
    "print('expert1\\n', expert1)\n",
    "print('expert2\\n', expert2)\n",
    "numerator1 = expert2 == expert1\n",
    "print('numerator1\\n', numerator1)\n",
    "numerator = numerator1[numerator1 == True].size\n",
    "denominator = (expert1.size + expert2.size) - numerator\n",
    "# denominator = (expert1[expert1 == True].size + expert2[expert2 == True].size) - numerator\n",
    "jakkar = numerator / denominator\n",
    "print(f'Степегь согласованности двух экспертов, по мере близости Жаккара: {numerator}/{denominator} = {jakkar}')"
   ]
  },
  {
   "cell_type": "code",
   "execution_count": null,
   "metadata": {},
   "outputs": [],
   "source": []
  }
 ],
 "metadata": {
  "colab": {
   "name": "3.8 homework-numpy1.ipynb",
   "provenance": [],
   "version": "0.3.2"
  },
  "kernelspec": {
   "display_name": "Python 3",
   "language": "python",
   "name": "python3"
  },
  "language_info": {
   "codemirror_mode": {
    "name": "ipython",
    "version": 3
   },
   "file_extension": ".py",
   "mimetype": "text/x-python",
   "name": "python",
   "nbconvert_exporter": "python",
   "pygments_lexer": "ipython3",
   "version": "3.7.4"
  }
 },
 "nbformat": 4,
 "nbformat_minor": 4
}
